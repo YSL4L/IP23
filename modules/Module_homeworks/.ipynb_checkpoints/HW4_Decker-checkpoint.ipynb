{
 "cells": [
  {
   "cell_type": "markdown",
   "metadata": {},
   "source": [
    "# Modules - Named Entity Recognition\n",
    "\n",
    "## Named Entity Recognition with spaCy\n",
    "\n",
    "In this notebook, the basics of named entity recognition (**NER**) with **spaCy**, a free, open-source library for NLP purposes in Python, are explained.\n",
    "\n",
    "\"A named entity is a “real-world object” that's assigned a name – for example, a person, a country, a product or a book title. spaCy can recognize various types of named entities in a document, by asking the model for a prediction.\"    *(taken from the [spaCy website](https://spacy.io/usage/linguistic-features#named-entities))*\n",
    "\n",
    "Named entities contain for example:\n",
    "\n",
    "|   | Named Entity: | Examples |\n",
    "| --- | --- | --- |\n",
    "| 1\t| ORGANIZATION | Microsoft, Facebook |\n",
    "| 2\t| PERSON | Rafael Nadal, Nelson Mandela |\n",
    "| 3\t| MONEY | 9 million dollars, INR 4 Crore |\n",
    "| 4\t| GPE | India, Australia, South East Asia |\n",
    "| 5\t| LOCATION | Mount Everest, River Ganga |\n",
    "| 6\t| DATE | 9th May 1987, 4 AUG |\n",
    "| 7\t| TIME | 7:23 A.M., three-forty am |\n",
    "\n",
    "*(table taken from https://machinelearningknowledge.ai/named-entity-recognition-ner-in-spacy-library/)*\n",
    "\n",
    "We will read the five short news from a file called 'NER_news.txt', process it with a pipeline provided by spaCy, then tokenize this text into a list of sentences as tokens. This is done with spaCy's so called 'Sentencer' pipeline which is accessed by ```.sents```. After that, we will use ```.ents``` to recognize the different entities in the text and display them with the respective labels that spaCy assigned to them.\n",
    "In a last step, we will count the different entity types and visualize the results using the **matplotlib** library."
   ]
  },
  {
   "cell_type": "markdown",
   "metadata": {},
   "source": [
    "## Which modules will be imported and for which purpose?\n",
    "\n",
    "First, we have to import the ```spacy``` module that we need to install beforehand, using pip (```pip install spacy```) in the terminal.\n",
    "Since the NER pipeline of spaCy needs an assigned trained model to work, we have to import such a model. The one spaCy recommends and that we will use here, is the ```en_core_web_sm``` (see https://spacy.io/models/en). It needs to be downloaded beforehand via the terminal too.\n"
   ]
  },
  {
   "cell_type": "code",
   "execution_count": 16,
   "metadata": {},
   "outputs": [],
   "source": [
    "import spacy\n",
    "import en_core_web_sm"
   ]
  },
  {
   "cell_type": "markdown",
   "metadata": {},
   "source": [
    "Since we want to count the different entity types and visualize them at the end of the notebook, we also need to import the ```Counter``` class from the Python standard library.\n",
    "The visualization in a bar diagram is done with the ```matplotlib``` library."
   ]
  },
  {
   "cell_type": "code",
   "execution_count": 17,
   "metadata": {},
   "outputs": [],
   "source": [
    "from collections import Counter\n",
    "\n",
    "# import numpy as np\n",
    "import matplotlib\n",
    "import matplotlib.pyplot as plt"
   ]
  },
  {
   "cell_type": "markdown",
   "metadata": {},
   "source": [
    "## Reading the file and tokenizing the text\n",
    "\n",
    "First of all, we open the file that we want to analyze and load the trained English pipeline that we downloaded before (```spacy.load()```). We save the pipeline as an object called ```'nlp'``` and then run it on our file using the ```.read()``` method. The resulting container of tokens, a ```Doc``` object in spaCy, is stored in the variable ```doc```. All the preprocessed NLP information about our text is stored there now!"
   ]
  },
  {
   "cell_type": "code",
   "execution_count": 20,
   "metadata": {},
   "outputs": [],
   "source": [
    "with open(\"NER_news.txt\", \"r\", encoding=\"utf-8\") as fh:\n",
    "\n",
    "    nlp = spacy.load(\"en_core_web_sm\")\n",
    "    \n",
    "    doc = nlp(fh.read())"
   ]
  },
  {
   "cell_type": "markdown",
   "metadata": {},
   "source": [
    "Now we can access the information stored in ```doc``` and use it to tokenize the text into single sentences by typing ```.sents```, outputting them in the form of a list where every item is a sentence:"
   ]
  },
  {
   "cell_type": "code",
   "execution_count": 21,
   "metadata": {},
   "outputs": [
    {
     "name": "stdout",
     "output_type": "stream",
     "text": [
      "[Google on Monday announced an artificial intelligence (AI) and machine learning (ML) model that can identify and highlight medicines within difficult-to-read handwritten prescriptions., This will act as an assistive technology for digitising handwritten medical documents by augmenting the humans in the loop such as pharmacists, however no decision will be made solely based on the output provided by this technology.\n",
      ", After making a flurry of policy changes on Twitter in the past few days, Twitter Chief Executive Officer Elon Musk has started a poll on the microblogging website asking millions of users \"should I step down as head of Twitter?\", \"Should I step down as head of Twitter?, I will abide by the results of this poll,\" Musk asked in one of the tweets.\n",
      ", South Korea's first lunar orbiter Danuri started entering the orbit of the moon on Saturday, 135 days after its launch, the Korea Aerospace Research Institute (KARI) said., The unmanned space vehicle carried out its first lunar orbit insertion (LOI) manoeuvre as part of five rounds of such manoeuvres in the coming days for Danuri to be captured in the lunar orbit on December 29.\n",
      ", Samsung has mocked Apple in a new World Cup-themed advertisement for its lack of a flippable iPhone while promoting its own Galaxy Z Flip 4., According to MacRumors, the Galaxy Flip phones appear as fans in a soccer stadium inspired by the 2022 World Cup in an advertisement posted., While the Galaxy Flip phones cheer and flip in the stands, a few smartphones that resemble iPhones remain in the audience, standing still with sad emojis.\n",
      ", NASA sensors will soon help scientists detect methane emitted by landfills across the globe, according to the US space agency., A new project from a nonprofit group, Carbon Mapper, will use NASA instruments and data to measure emissions from solid waste sites such as landfills across the globe., Currently, there is limited actionable information about methane emissions from the global waste sector.\n",
      ", A robot capable of replicating itself autonomously is a scary prospect., At least, that's what Arnold Schwarzenegger and Terminator taught us., We are still quite far from building such robots, but we might be closer than you'd imagine., Researchers at the Massachusetts Institute of Technology are working on robots that can self-assemble and build almost anything., Their research has yielded positive results so far.\n",
      ", Mark Zuckerberg and Elon Musk agree on one thing - Apple's App Store policies are not fair., The Meta CEO has always been a staunch critic of Apple and its policies., During an interview at The New York Times' DealBook Summit, Zuckerberg said that Apple's policies are not sustainable., Recently, Twitter CEO Musk too fired shots at Apple's App Store policies.]\n"
     ]
    }
   ],
   "source": [
    "sentences = list(doc.sents)\n",
    "print(sentences)"
   ]
  },
  {
   "cell_type": "markdown",
   "metadata": {},
   "source": [
    "## Accessing the ```ents``` properties from the ```Doc``` container\n",
    "\n",
    "Similar to what we did in the step above when we used ```.sents``` to access the information about the single tokenized sentenced stored in the ```Doc``` container as a property, we can do the same and use a ```for``` loop to get our information about the entities that spaCy recognized and the specific labels that it predicted for them.\n",
    "```.start_char``` and ```.end_char``` refer to the index position in the text where a recognized entity begins and ends: The very first word 'Google' e.g. is a named entity too and has a span from index position ```0``` to ```6```.\n",
    "```.label_``` refers to the attributed label that the algorithm predicted (in this case, it's ```ORG``` for 'organization')."
   ]
  },
  {
   "cell_type": "code",
   "execution_count": null,
   "metadata": {},
   "outputs": [
    {
     "name": "stdout",
     "output_type": "stream",
     "text": [
      "Google on Monday announced an artificial intelligence (AI) and machine learning (ML) model that can identify and highlight medicines within difficult-to-read handwritten prescriptions.\n",
      "Google 0 6 ORG\n",
      "Monday 10 16 DATE\n",
      "AI 55 57 ORG\n",
      "This will act as an assistive technology for digitising handwritten medical documents by augmenting the humans in the loop such as pharmacists, however no decision will be made solely based on the output provided by this technology.\n",
      "\n",
      "After making a flurry of policy changes on Twitter in the past few days, Twitter Chief Executive Officer Elon Musk has started a poll on the microblogging website asking millions of users \"should I step down as head of Twitter?\"\n",
      "Twitter 461 468 PRODUCT\n",
      "the past few days 472 489 DATE\n",
      "Twitter 491 498 ORG\n",
      "Elon Musk 523 532 PERSON\n",
      "millions 588 596 CARDINAL\n",
      "Twitter 637 644 PERSON\n",
      "\"Should I step down as head of Twitter?\n",
      "Twitter 678 685 PERSON\n",
      "I will abide by the results of this poll,\" Musk asked in one of the tweets.\n",
      "\n",
      "South Korea's first lunar orbiter Danuri started entering the orbit of the moon on Saturday, 135 days after its launch, the Korea Aerospace Research Institute (KARI) said.\n",
      "South Korea's 763 776 GPE\n",
      "Danuri 797 803 GPE\n",
      "Saturday 846 854 DATE\n",
      "135 days 856 864 DATE\n",
      "the Korea Aerospace Research Institute 883 921 ORG\n",
      "The unmanned space vehicle carried out its first lunar orbit insertion (LOI) manoeuvre as part of five rounds of such manoeuvres in the coming days for Danuri to be captured in the lunar orbit on December 29.\n",
      "\n",
      "first 978 983 ORDINAL\n",
      "LOI 1007 1010 ORG\n",
      "five 1033 1037 CARDINAL\n",
      "the coming days 1067 1082 DATE\n",
      "Danuri 1087 1093 GPE\n",
      "December 29 1131 1142 DATE\n",
      "Samsung has mocked Apple in a new World Cup-themed advertisement for its lack of a flippable iPhone while promoting its own Galaxy Z Flip 4.\n",
      "Samsung 1144 1151 ORG\n",
      "Apple 1163 1168 ORG\n",
      "World Cup 1178 1187 EVENT\n",
      "iPhone 1237 1243 ORG\n",
      "Galaxy Z Flip 4 1268 1283 WORK_OF_ART\n",
      "According to MacRumors, the Galaxy Flip phones appear as fans in a soccer stadium inspired by the 2022 World Cup in an advertisement posted.\n",
      "MacRumors 1298 1307 ORG\n",
      "the 2022 World Cup 1379 1397 EVENT\n",
      "While the Galaxy Flip phones cheer and flip in the stands, a few smartphones that resemble iPhones remain in the audience, standing still with sad emojis.\n",
      "\n",
      "iPhones 1517 1524 NORP\n",
      "NASA sensors will soon help scientists detect methane emitted by landfills across the globe, according to the US space agency.\n",
      "NASA 1581 1585 ORG\n",
      "US 1691 1693 GPE\n",
      "A new project from a nonprofit group, Carbon Mapper, will use NASA instruments and data to measure emissions from solid waste sites such as landfills across the globe.\n",
      "Carbon Mapper 1746 1759 ORG\n",
      "NASA 1770 1774 ORG\n",
      "Currently, there is limited actionable information about methane emissions from the global waste sector.\n",
      "\n",
      "A robot capable of replicating itself autonomously is a scary prospect.\n",
      "At least, that's what Arnold Schwarzenegger and Terminator taught us.\n",
      "Arnold Schwarzenegger 2075 2096 PERSON\n",
      "Terminator 2101 2111 WORK_OF_ART\n",
      "We are still quite far from building such robots, but we might be closer than you'd imagine.\n",
      "Researchers at the Massachusetts Institute of Technology are working on robots that can self-assemble and build almost anything.\n",
      "the Massachusetts Institute of Technology 2231 2272 ORG\n",
      "Their research has yielded positive results so far.\n",
      "\n",
      "Mark Zuckerberg and Elon Musk agree on one thing - Apple's App Store policies are not fair.\n",
      "Mark Zuckerberg 2397 2412 PERSON\n",
      "Elon Musk 2417 2426 PRODUCT\n",
      "one 2436 2439 CARDINAL\n",
      "The Meta CEO has always been a staunch critic of Apple and its policies.\n",
      "Meta 2493 2497 ORG\n",
      "Apple 2538 2543 ORG\n",
      "During an interview at The New York Times' DealBook Summit, Zuckerberg said that Apple's policies are not sustainable.\n",
      "The New York Times' 2585 2604 ORG\n",
      "Zuckerberg 2622 2632 PERSON\n",
      "Apple 2643 2648 ORG\n",
      "Recently, Twitter CEO Musk too fired shots at Apple's App Store policies.\n",
      "Twitter 2691 2698 PERSON\n",
      "Apple's App Store 2727 2744 ORG\n"
     ]
    }
   ],
   "source": [
    "for sent in sentences:\n",
    "    print(sent)\n",
    "    for ent in sent.ents:\n",
    "        print(ent.text, ent.start_char, ent.end_char, ent.label_)"
   ]
  },
  {
   "cell_type": "markdown",
   "metadata": {},
   "source": [
    "spaCy not only detects the named entities mentioned in the box above but also other entity types when the machine learning algorithm is applied to a text. With the following commands we can see that in total 18 entity labels are available to be assigned:"
   ]
  },
  {
   "cell_type": "code",
   "execution_count": null,
   "metadata": {},
   "outputs": [],
   "source": [
    "label_list = nlp.pipe_labels['ner']\n",
    "\n",
    "print(len(label_list))\n",
    "print(label_list)"
   ]
  },
  {
   "cell_type": "markdown",
   "metadata": {},
   "source": [
    "## Counting the entities\n",
    "\n",
    "In the provided notebooks about modules, we have already seen the ```Counter``` object. We will use it now to count the different entity types (labels) that the spaCy pipeline found in our file and output them with the ```print()``` command:"
   ]
  },
  {
   "cell_type": "code",
   "execution_count": null,
   "metadata": {},
   "outputs": [
    {
     "name": "stdout",
     "output_type": "stream",
     "text": [
      "Counter({'ORG': 18, 'PERSON': 7, 'DATE': 6, 'GPE': 4, 'CARDINAL': 3, 'PRODUCT': 2, 'EVENT': 2, 'WORK_OF_ART': 2, 'ORDINAL': 1, 'NORP': 1})\n"
     ]
    }
   ],
   "source": [
    "counted_ents = Counter(ent.label_ for ent in doc.ents)\n",
    "\n",
    "print(counted_ents)"
   ]
  },
  {
   "cell_type": "markdown",
   "metadata": {},
   "source": [
    "## Visualization with **matplotlib**\n",
    "\n",
    "Now, finally, we want to visualize these results in a simple bar diagram using ```matplotlib```, where the x-axis contains the entity type (the ```keys``` from the previously created ```Counter``` dictionary) and the y-axis contains the count of these labels (the ```values``` from the ```Counter``` dictionary):"
   ]
  },
  {
   "cell_type": "code",
   "execution_count": null,
   "metadata": {},
   "outputs": [],
   "source": [
    "fig = plt.figure(figsize = (10, 5))\n",
    "\n",
    "plt.bar(counted_ents.keys(), counted_ents.values(), color =\"C4\", width = 0.3)\n",
    "\n",
    "plt.xlabel(\"entity type (ent.label)\")\n",
    "plt.ylabel(\"count\")\n",
    "plt.title(\"Count of entity types\", loc ='left', )\n",
    "plt.show()"
   ]
  },
  {
   "cell_type": "markdown",
   "metadata": {},
   "source": [
    "### Extra: Visualization of annotated entities using displaCy\n",
    "\n",
    "spaCy also offers an inbuilt tool to visualize the extracted NLP data: **displaCy**.\n",
    "A visualization of our analysed txt-file with displaCy would look like this:"
   ]
  },
  {
   "cell_type": "code",
   "execution_count": null,
   "metadata": {},
   "outputs": [
    {
     "data": {
      "text/html": [
       "<span class=\"tex2jax_ignore\"><div class=\"entities\" style=\"line-height: 2.5; direction: ltr\">\n",
       "<mark class=\"entity\" style=\"background: #7aecec; padding: 0.45em 0.6em; margin: 0 0.25em; line-height: 1; border-radius: 0.35em;\">\n",
       "    Google\n",
       "    <span style=\"font-size: 0.8em; font-weight: bold; line-height: 1; border-radius: 0.35em; vertical-align: middle; margin-left: 0.5rem\">ORG</span>\n",
       "</mark>\n",
       " on \n",
       "<mark class=\"entity\" style=\"background: #bfe1d9; padding: 0.45em 0.6em; margin: 0 0.25em; line-height: 1; border-radius: 0.35em;\">\n",
       "    Monday\n",
       "    <span style=\"font-size: 0.8em; font-weight: bold; line-height: 1; border-radius: 0.35em; vertical-align: middle; margin-left: 0.5rem\">DATE</span>\n",
       "</mark>\n",
       " announced an artificial intelligence (\n",
       "<mark class=\"entity\" style=\"background: #7aecec; padding: 0.45em 0.6em; margin: 0 0.25em; line-height: 1; border-radius: 0.35em;\">\n",
       "    AI\n",
       "    <span style=\"font-size: 0.8em; font-weight: bold; line-height: 1; border-radius: 0.35em; vertical-align: middle; margin-left: 0.5rem\">ORG</span>\n",
       "</mark>\n",
       ") and machine learning (ML) model that can identify and highlight medicines within difficult-to-read handwritten prescriptions. This will act as an assistive technology for digitising handwritten medical documents by augmenting the humans in the loop such as pharmacists, however no decision will be made solely based on the output provided by this technology.</br>After making a flurry of policy changes on \n",
       "<mark class=\"entity\" style=\"background: #bfeeb7; padding: 0.45em 0.6em; margin: 0 0.25em; line-height: 1; border-radius: 0.35em;\">\n",
       "    Twitter\n",
       "    <span style=\"font-size: 0.8em; font-weight: bold; line-height: 1; border-radius: 0.35em; vertical-align: middle; margin-left: 0.5rem\">PRODUCT</span>\n",
       "</mark>\n",
       " in \n",
       "<mark class=\"entity\" style=\"background: #bfe1d9; padding: 0.45em 0.6em; margin: 0 0.25em; line-height: 1; border-radius: 0.35em;\">\n",
       "    the past few days\n",
       "    <span style=\"font-size: 0.8em; font-weight: bold; line-height: 1; border-radius: 0.35em; vertical-align: middle; margin-left: 0.5rem\">DATE</span>\n",
       "</mark>\n",
       ", \n",
       "<mark class=\"entity\" style=\"background: #7aecec; padding: 0.45em 0.6em; margin: 0 0.25em; line-height: 1; border-radius: 0.35em;\">\n",
       "    Twitter\n",
       "    <span style=\"font-size: 0.8em; font-weight: bold; line-height: 1; border-radius: 0.35em; vertical-align: middle; margin-left: 0.5rem\">ORG</span>\n",
       "</mark>\n",
       " Chief Executive Officer \n",
       "<mark class=\"entity\" style=\"background: #aa9cfc; padding: 0.45em 0.6em; margin: 0 0.25em; line-height: 1; border-radius: 0.35em;\">\n",
       "    Elon Musk\n",
       "    <span style=\"font-size: 0.8em; font-weight: bold; line-height: 1; border-radius: 0.35em; vertical-align: middle; margin-left: 0.5rem\">PERSON</span>\n",
       "</mark>\n",
       " has started a poll on the microblogging website asking \n",
       "<mark class=\"entity\" style=\"background: #e4e7d2; padding: 0.45em 0.6em; margin: 0 0.25em; line-height: 1; border-radius: 0.35em;\">\n",
       "    millions\n",
       "    <span style=\"font-size: 0.8em; font-weight: bold; line-height: 1; border-radius: 0.35em; vertical-align: middle; margin-left: 0.5rem\">CARDINAL</span>\n",
       "</mark>\n",
       " of users &quot;should I step down as head of \n",
       "<mark class=\"entity\" style=\"background: #aa9cfc; padding: 0.45em 0.6em; margin: 0 0.25em; line-height: 1; border-radius: 0.35em;\">\n",
       "    Twitter\n",
       "    <span style=\"font-size: 0.8em; font-weight: bold; line-height: 1; border-radius: 0.35em; vertical-align: middle; margin-left: 0.5rem\">PERSON</span>\n",
       "</mark>\n",
       "?&quot; &quot;Should I step down as head of \n",
       "<mark class=\"entity\" style=\"background: #aa9cfc; padding: 0.45em 0.6em; margin: 0 0.25em; line-height: 1; border-radius: 0.35em;\">\n",
       "    Twitter\n",
       "    <span style=\"font-size: 0.8em; font-weight: bold; line-height: 1; border-radius: 0.35em; vertical-align: middle; margin-left: 0.5rem\">PERSON</span>\n",
       "</mark>\n",
       "? I will abide by the results of this poll,&quot; Musk asked in one of the tweets.</br>\n",
       "<mark class=\"entity\" style=\"background: #feca74; padding: 0.45em 0.6em; margin: 0 0.25em; line-height: 1; border-radius: 0.35em;\">\n",
       "    South Korea's\n",
       "    <span style=\"font-size: 0.8em; font-weight: bold; line-height: 1; border-radius: 0.35em; vertical-align: middle; margin-left: 0.5rem\">GPE</span>\n",
       "</mark>\n",
       " first lunar orbiter \n",
       "<mark class=\"entity\" style=\"background: #feca74; padding: 0.45em 0.6em; margin: 0 0.25em; line-height: 1; border-radius: 0.35em;\">\n",
       "    Danuri\n",
       "    <span style=\"font-size: 0.8em; font-weight: bold; line-height: 1; border-radius: 0.35em; vertical-align: middle; margin-left: 0.5rem\">GPE</span>\n",
       "</mark>\n",
       " started entering the orbit of the moon on \n",
       "<mark class=\"entity\" style=\"background: #bfe1d9; padding: 0.45em 0.6em; margin: 0 0.25em; line-height: 1; border-radius: 0.35em;\">\n",
       "    Saturday\n",
       "    <span style=\"font-size: 0.8em; font-weight: bold; line-height: 1; border-radius: 0.35em; vertical-align: middle; margin-left: 0.5rem\">DATE</span>\n",
       "</mark>\n",
       ", \n",
       "<mark class=\"entity\" style=\"background: #bfe1d9; padding: 0.45em 0.6em; margin: 0 0.25em; line-height: 1; border-radius: 0.35em;\">\n",
       "    135 days\n",
       "    <span style=\"font-size: 0.8em; font-weight: bold; line-height: 1; border-radius: 0.35em; vertical-align: middle; margin-left: 0.5rem\">DATE</span>\n",
       "</mark>\n",
       " after its launch, \n",
       "<mark class=\"entity\" style=\"background: #7aecec; padding: 0.45em 0.6em; margin: 0 0.25em; line-height: 1; border-radius: 0.35em;\">\n",
       "    the Korea Aerospace Research Institute\n",
       "    <span style=\"font-size: 0.8em; font-weight: bold; line-height: 1; border-radius: 0.35em; vertical-align: middle; margin-left: 0.5rem\">ORG</span>\n",
       "</mark>\n",
       " (KARI) said. The unmanned space vehicle carried out its \n",
       "<mark class=\"entity\" style=\"background: #e4e7d2; padding: 0.45em 0.6em; margin: 0 0.25em; line-height: 1; border-radius: 0.35em;\">\n",
       "    first\n",
       "    <span style=\"font-size: 0.8em; font-weight: bold; line-height: 1; border-radius: 0.35em; vertical-align: middle; margin-left: 0.5rem\">ORDINAL</span>\n",
       "</mark>\n",
       " lunar orbit insertion (\n",
       "<mark class=\"entity\" style=\"background: #7aecec; padding: 0.45em 0.6em; margin: 0 0.25em; line-height: 1; border-radius: 0.35em;\">\n",
       "    LOI\n",
       "    <span style=\"font-size: 0.8em; font-weight: bold; line-height: 1; border-radius: 0.35em; vertical-align: middle; margin-left: 0.5rem\">ORG</span>\n",
       "</mark>\n",
       ") manoeuvre as part of \n",
       "<mark class=\"entity\" style=\"background: #e4e7d2; padding: 0.45em 0.6em; margin: 0 0.25em; line-height: 1; border-radius: 0.35em;\">\n",
       "    five\n",
       "    <span style=\"font-size: 0.8em; font-weight: bold; line-height: 1; border-radius: 0.35em; vertical-align: middle; margin-left: 0.5rem\">CARDINAL</span>\n",
       "</mark>\n",
       " rounds of such manoeuvres in \n",
       "<mark class=\"entity\" style=\"background: #bfe1d9; padding: 0.45em 0.6em; margin: 0 0.25em; line-height: 1; border-radius: 0.35em;\">\n",
       "    the coming days\n",
       "    <span style=\"font-size: 0.8em; font-weight: bold; line-height: 1; border-radius: 0.35em; vertical-align: middle; margin-left: 0.5rem\">DATE</span>\n",
       "</mark>\n",
       " for \n",
       "<mark class=\"entity\" style=\"background: #feca74; padding: 0.45em 0.6em; margin: 0 0.25em; line-height: 1; border-radius: 0.35em;\">\n",
       "    Danuri\n",
       "    <span style=\"font-size: 0.8em; font-weight: bold; line-height: 1; border-radius: 0.35em; vertical-align: middle; margin-left: 0.5rem\">GPE</span>\n",
       "</mark>\n",
       " to be captured in the lunar orbit on \n",
       "<mark class=\"entity\" style=\"background: #bfe1d9; padding: 0.45em 0.6em; margin: 0 0.25em; line-height: 1; border-radius: 0.35em;\">\n",
       "    December 29\n",
       "    <span style=\"font-size: 0.8em; font-weight: bold; line-height: 1; border-radius: 0.35em; vertical-align: middle; margin-left: 0.5rem\">DATE</span>\n",
       "</mark>\n",
       ".</br>\n",
       "<mark class=\"entity\" style=\"background: #7aecec; padding: 0.45em 0.6em; margin: 0 0.25em; line-height: 1; border-radius: 0.35em;\">\n",
       "    Samsung\n",
       "    <span style=\"font-size: 0.8em; font-weight: bold; line-height: 1; border-radius: 0.35em; vertical-align: middle; margin-left: 0.5rem\">ORG</span>\n",
       "</mark>\n",
       " has mocked \n",
       "<mark class=\"entity\" style=\"background: #7aecec; padding: 0.45em 0.6em; margin: 0 0.25em; line-height: 1; border-radius: 0.35em;\">\n",
       "    Apple\n",
       "    <span style=\"font-size: 0.8em; font-weight: bold; line-height: 1; border-radius: 0.35em; vertical-align: middle; margin-left: 0.5rem\">ORG</span>\n",
       "</mark>\n",
       " in a new \n",
       "<mark class=\"entity\" style=\"background: #ffeb80; padding: 0.45em 0.6em; margin: 0 0.25em; line-height: 1; border-radius: 0.35em;\">\n",
       "    World Cup\n",
       "    <span style=\"font-size: 0.8em; font-weight: bold; line-height: 1; border-radius: 0.35em; vertical-align: middle; margin-left: 0.5rem\">EVENT</span>\n",
       "</mark>\n",
       "-themed advertisement for its lack of a flippable \n",
       "<mark class=\"entity\" style=\"background: #7aecec; padding: 0.45em 0.6em; margin: 0 0.25em; line-height: 1; border-radius: 0.35em;\">\n",
       "    iPhone\n",
       "    <span style=\"font-size: 0.8em; font-weight: bold; line-height: 1; border-radius: 0.35em; vertical-align: middle; margin-left: 0.5rem\">ORG</span>\n",
       "</mark>\n",
       " while promoting its own \n",
       "<mark class=\"entity\" style=\"background: #f0d0ff; padding: 0.45em 0.6em; margin: 0 0.25em; line-height: 1; border-radius: 0.35em;\">\n",
       "    Galaxy Z Flip 4\n",
       "    <span style=\"font-size: 0.8em; font-weight: bold; line-height: 1; border-radius: 0.35em; vertical-align: middle; margin-left: 0.5rem\">WORK_OF_ART</span>\n",
       "</mark>\n",
       ". According to \n",
       "<mark class=\"entity\" style=\"background: #7aecec; padding: 0.45em 0.6em; margin: 0 0.25em; line-height: 1; border-radius: 0.35em;\">\n",
       "    MacRumors\n",
       "    <span style=\"font-size: 0.8em; font-weight: bold; line-height: 1; border-radius: 0.35em; vertical-align: middle; margin-left: 0.5rem\">ORG</span>\n",
       "</mark>\n",
       ", the Galaxy Flip phones appear as fans in a soccer stadium inspired by \n",
       "<mark class=\"entity\" style=\"background: #ffeb80; padding: 0.45em 0.6em; margin: 0 0.25em; line-height: 1; border-radius: 0.35em;\">\n",
       "    the 2022 World Cup\n",
       "    <span style=\"font-size: 0.8em; font-weight: bold; line-height: 1; border-radius: 0.35em; vertical-align: middle; margin-left: 0.5rem\">EVENT</span>\n",
       "</mark>\n",
       " in an advertisement posted. While the Galaxy Flip phones cheer and flip in the stands, a few smartphones that resemble \n",
       "<mark class=\"entity\" style=\"background: #c887fb; padding: 0.45em 0.6em; margin: 0 0.25em; line-height: 1; border-radius: 0.35em;\">\n",
       "    iPhones\n",
       "    <span style=\"font-size: 0.8em; font-weight: bold; line-height: 1; border-radius: 0.35em; vertical-align: middle; margin-left: 0.5rem\">NORP</span>\n",
       "</mark>\n",
       " remain in the audience, standing still with sad emojis.</br>\n",
       "<mark class=\"entity\" style=\"background: #7aecec; padding: 0.45em 0.6em; margin: 0 0.25em; line-height: 1; border-radius: 0.35em;\">\n",
       "    NASA\n",
       "    <span style=\"font-size: 0.8em; font-weight: bold; line-height: 1; border-radius: 0.35em; vertical-align: middle; margin-left: 0.5rem\">ORG</span>\n",
       "</mark>\n",
       " sensors will soon help scientists detect methane emitted by landfills across the globe, according to the \n",
       "<mark class=\"entity\" style=\"background: #feca74; padding: 0.45em 0.6em; margin: 0 0.25em; line-height: 1; border-radius: 0.35em;\">\n",
       "    US\n",
       "    <span style=\"font-size: 0.8em; font-weight: bold; line-height: 1; border-radius: 0.35em; vertical-align: middle; margin-left: 0.5rem\">GPE</span>\n",
       "</mark>\n",
       " space agency. A new project from a nonprofit group, \n",
       "<mark class=\"entity\" style=\"background: #7aecec; padding: 0.45em 0.6em; margin: 0 0.25em; line-height: 1; border-radius: 0.35em;\">\n",
       "    Carbon Mapper\n",
       "    <span style=\"font-size: 0.8em; font-weight: bold; line-height: 1; border-radius: 0.35em; vertical-align: middle; margin-left: 0.5rem\">ORG</span>\n",
       "</mark>\n",
       ", will use \n",
       "<mark class=\"entity\" style=\"background: #7aecec; padding: 0.45em 0.6em; margin: 0 0.25em; line-height: 1; border-radius: 0.35em;\">\n",
       "    NASA\n",
       "    <span style=\"font-size: 0.8em; font-weight: bold; line-height: 1; border-radius: 0.35em; vertical-align: middle; margin-left: 0.5rem\">ORG</span>\n",
       "</mark>\n",
       " instruments and data to measure emissions from solid waste sites such as landfills across the globe. Currently, there is limited actionable information about methane emissions from the global waste sector.</br>A robot capable of replicating itself autonomously is a scary prospect. At least, that's what \n",
       "<mark class=\"entity\" style=\"background: #aa9cfc; padding: 0.45em 0.6em; margin: 0 0.25em; line-height: 1; border-radius: 0.35em;\">\n",
       "    Arnold Schwarzenegger\n",
       "    <span style=\"font-size: 0.8em; font-weight: bold; line-height: 1; border-radius: 0.35em; vertical-align: middle; margin-left: 0.5rem\">PERSON</span>\n",
       "</mark>\n",
       " and \n",
       "<mark class=\"entity\" style=\"background: #f0d0ff; padding: 0.45em 0.6em; margin: 0 0.25em; line-height: 1; border-radius: 0.35em;\">\n",
       "    Terminator\n",
       "    <span style=\"font-size: 0.8em; font-weight: bold; line-height: 1; border-radius: 0.35em; vertical-align: middle; margin-left: 0.5rem\">WORK_OF_ART</span>\n",
       "</mark>\n",
       " taught us. We are still quite far from building such robots, but we might be closer than you'd imagine. Researchers at \n",
       "<mark class=\"entity\" style=\"background: #7aecec; padding: 0.45em 0.6em; margin: 0 0.25em; line-height: 1; border-radius: 0.35em;\">\n",
       "    the Massachusetts Institute of Technology\n",
       "    <span style=\"font-size: 0.8em; font-weight: bold; line-height: 1; border-radius: 0.35em; vertical-align: middle; margin-left: 0.5rem\">ORG</span>\n",
       "</mark>\n",
       " are working on robots that can self-assemble and build almost anything. Their research has yielded positive results so far.</br>\n",
       "<mark class=\"entity\" style=\"background: #aa9cfc; padding: 0.45em 0.6em; margin: 0 0.25em; line-height: 1; border-radius: 0.35em;\">\n",
       "    Mark Zuckerberg\n",
       "    <span style=\"font-size: 0.8em; font-weight: bold; line-height: 1; border-radius: 0.35em; vertical-align: middle; margin-left: 0.5rem\">PERSON</span>\n",
       "</mark>\n",
       " and \n",
       "<mark class=\"entity\" style=\"background: #bfeeb7; padding: 0.45em 0.6em; margin: 0 0.25em; line-height: 1; border-radius: 0.35em;\">\n",
       "    Elon Musk\n",
       "    <span style=\"font-size: 0.8em; font-weight: bold; line-height: 1; border-radius: 0.35em; vertical-align: middle; margin-left: 0.5rem\">PRODUCT</span>\n",
       "</mark>\n",
       " agree on \n",
       "<mark class=\"entity\" style=\"background: #e4e7d2; padding: 0.45em 0.6em; margin: 0 0.25em; line-height: 1; border-radius: 0.35em;\">\n",
       "    one\n",
       "    <span style=\"font-size: 0.8em; font-weight: bold; line-height: 1; border-radius: 0.35em; vertical-align: middle; margin-left: 0.5rem\">CARDINAL</span>\n",
       "</mark>\n",
       " thing - Apple's App Store policies are not fair. The \n",
       "<mark class=\"entity\" style=\"background: #7aecec; padding: 0.45em 0.6em; margin: 0 0.25em; line-height: 1; border-radius: 0.35em;\">\n",
       "    Meta\n",
       "    <span style=\"font-size: 0.8em; font-weight: bold; line-height: 1; border-radius: 0.35em; vertical-align: middle; margin-left: 0.5rem\">ORG</span>\n",
       "</mark>\n",
       " CEO has always been a staunch critic of \n",
       "<mark class=\"entity\" style=\"background: #7aecec; padding: 0.45em 0.6em; margin: 0 0.25em; line-height: 1; border-radius: 0.35em;\">\n",
       "    Apple\n",
       "    <span style=\"font-size: 0.8em; font-weight: bold; line-height: 1; border-radius: 0.35em; vertical-align: middle; margin-left: 0.5rem\">ORG</span>\n",
       "</mark>\n",
       " and its policies. During an interview at \n",
       "<mark class=\"entity\" style=\"background: #7aecec; padding: 0.45em 0.6em; margin: 0 0.25em; line-height: 1; border-radius: 0.35em;\">\n",
       "    The New York Times'\n",
       "    <span style=\"font-size: 0.8em; font-weight: bold; line-height: 1; border-radius: 0.35em; vertical-align: middle; margin-left: 0.5rem\">ORG</span>\n",
       "</mark>\n",
       " DealBook Summit, \n",
       "<mark class=\"entity\" style=\"background: #aa9cfc; padding: 0.45em 0.6em; margin: 0 0.25em; line-height: 1; border-radius: 0.35em;\">\n",
       "    Zuckerberg\n",
       "    <span style=\"font-size: 0.8em; font-weight: bold; line-height: 1; border-radius: 0.35em; vertical-align: middle; margin-left: 0.5rem\">PERSON</span>\n",
       "</mark>\n",
       " said that \n",
       "<mark class=\"entity\" style=\"background: #7aecec; padding: 0.45em 0.6em; margin: 0 0.25em; line-height: 1; border-radius: 0.35em;\">\n",
       "    Apple\n",
       "    <span style=\"font-size: 0.8em; font-weight: bold; line-height: 1; border-radius: 0.35em; vertical-align: middle; margin-left: 0.5rem\">ORG</span>\n",
       "</mark>\n",
       "'s policies are not sustainable. Recently, \n",
       "<mark class=\"entity\" style=\"background: #aa9cfc; padding: 0.45em 0.6em; margin: 0 0.25em; line-height: 1; border-radius: 0.35em;\">\n",
       "    Twitter\n",
       "    <span style=\"font-size: 0.8em; font-weight: bold; line-height: 1; border-radius: 0.35em; vertical-align: middle; margin-left: 0.5rem\">PERSON</span>\n",
       "</mark>\n",
       " CEO Musk too fired shots at \n",
       "<mark class=\"entity\" style=\"background: #7aecec; padding: 0.45em 0.6em; margin: 0 0.25em; line-height: 1; border-radius: 0.35em;\">\n",
       "    Apple's App Store\n",
       "    <span style=\"font-size: 0.8em; font-weight: bold; line-height: 1; border-radius: 0.35em; vertical-align: middle; margin-left: 0.5rem\">ORG</span>\n",
       "</mark>\n",
       " policies.</div></span>"
      ],
      "text/plain": [
       "<IPython.core.display.HTML object>"
      ]
     },
     "metadata": {},
     "output_type": "display_data"
    }
   ],
   "source": [
    "from spacy import displacy\n",
    "displacy.render(doc, style=\"ent\")"
   ]
  },
  {
   "cell_type": "markdown",
   "metadata": {},
   "source": [
    "Now, controlling our results reading the visualization with displaCy, we can spot several mistakes: Only looking at the last news e.g. in the first sentence, 'Apple's App Store' is not recognized as a named entity while it has been at other places, in the same paragraph also 'DealBook Summit' and 'Musk' are not recognized. Also 'Twitter' is recognized as organization, product, and even as a person in one place.\n",
    "The trained model does not perform well, even though our text is in modern English and coming from the field of journalism with widely used names!"
   ]
  },
  {
   "cell_type": "code",
   "execution_count": null,
   "metadata": {},
   "outputs": [
    {
     "data": {
      "image/png": "[encoded data removed]",
      "text/plain": [
       "<Figure size 1000x500 with 1 Axes>"
      ]
     },
     "metadata": {},
     "output_type": "display_data"
    }
   ],
   "source": []
  }
 ],
 "metadata": {
  "kernelspec": {
   "display_name": "Python 3 (ipykernel)",
   "language": "python",
   "name": "python3"
  },
  "language_info": {
   "codemirror_mode": {
    "name": "ipython",
    "version": 3
   },
   "file_extension": ".py",
   "mimetype": "text/x-python",
   "name": "python",
   "nbconvert_exporter": "python",
   "pygments_lexer": "ipython3",
   "version": "3.9.7"
  },
  "vscode": {
   "interpreter": {
    "hash": "0d591c6e422414675974e227c13f5382000c440fedd3c5006ef2be5d887f0ba7"
   }
  }
 },
 "nbformat": 4,
 "nbformat_minor": 2
}
