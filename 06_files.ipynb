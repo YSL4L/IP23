{
 "cells": [
  {
   "cell_type": "markdown",
   "id": "ff5e944f",
   "metadata": {},
   "source": [
    "# Working with files\n",
    "\n",
    "Before a file can be read from or written to, it must be opened with the `open()` function. `open()` expects at least one argument: The name (possibly with path) of the file:"
   ]
  },
  {
   "cell_type": "code",
   "execution_count": 1,
   "id": "125c30ee",
   "metadata": {},
   "outputs": [],
   "source": [
    "fh = open('data/names/names_short.txt')"
   ]
  },
  {
   "cell_type": "markdown",
   "id": "8eb779fd",
   "metadata": {},
   "source": [
    "If necessary (and generally recommended), the encoding of the file can be specified explicitly, if it is known:"
   ]
  },
  {
   "cell_type": "code",
   "execution_count": null,
   "id": "8e6cb43e",
   "metadata": {},
   "outputs": [],
   "source": [
    "fh = open('data/names/names_short.txt', encoding='utf-8')"
   ]
  },
  {
   "cell_type": "markdown",
   "id": "31fb2f97",
   "metadata": {},
   "source": [
    "Excursus on encoding: Encoding determines how a computer interprets bit sequences as characters.  \n",
    "Fyi, I recommend these texts:\n",
    "\n",
    "* https://www.joelonsoftware.com/2003/10/08/the-absolute-minimum-every-software-developer-absolutely-positively-must-know-about-unicode-and-character-sets-no-excuses/\n",
    "* https://docs.python.org/3/howto/unicode.html"
   ]
  },
  {
   "cell_type": "markdown",
   "id": "082d745a",
   "metadata": {},
   "source": [
    "When we don't need the file anymore, i.e. when we have read the file, it should be closed again so that the operating system can release the resource."
   ]
  },
  {
   "cell_type": "code",
   "execution_count": 2,
   "id": "7c59c401",
   "metadata": {},
   "outputs": [],
   "source": [
    "fh.close()"
   ]
  },
  {
   "cell_type": "markdown",
   "id": "acb5a1da",
   "metadata": {},
   "source": [
    "The object representing the open file provides several ways to access the contents of the file, including an iterator that we can use in a `for` loop. \n"
   ]
  },
  {
   "cell_type": "code",
   "execution_count": 3,
   "id": "c645168c",
   "metadata": {},
   "outputs": [
    {
     "name": "stdout",
     "output_type": "stream",
     "text": [
      "Astrid\n",
      "\n",
      "Ines\n",
      "\n",
      "Christoph\n",
      "\n",
      "Markus\n",
      "\n",
      "Çınar\n",
      "\n",
      "Đželila\n",
      "\n",
      "Niklas\n",
      "\n",
      "Anna\n",
      "\n",
      "Stefanie\n",
      "\n",
      "Raphael\n",
      "\n",
      "Anna-Lena\n",
      "\n",
      "Silvia\n",
      "\n",
      "Julian\n",
      "\n",
      "Simon\n",
      "\n",
      "Katharina\n",
      "\n",
      "Michael\n",
      "\n",
      "Dominik\n",
      "\n",
      "Maria\n",
      "\n",
      "Kevin\n",
      "\n",
      "Bianca\n",
      "\n",
      "Thomas\n",
      "\n",
      "Nora\n",
      "\n",
      "Manuel\n",
      "\n",
      "Selina\n",
      "\n",
      "Gabriel\n",
      "\n",
      "Daniel\n",
      "\n",
      "Thomas\n",
      "\n",
      "Nina\n",
      "\n",
      "Michael\n",
      "\n",
      "Fabio\n",
      "\n",
      "Theresa\n",
      "\n",
      "Manuel\n",
      "\n",
      "Carina\n",
      "\n",
      "Philipp\n",
      "\n",
      "Lukas\n",
      "\n",
      "Wolfgang\n",
      "\n",
      "Anna\n",
      "\n",
      "Doris\n",
      "\n",
      "Thomas\n",
      "\n",
      "Muhammed\n",
      "\n",
      "Christoph\n",
      "\n",
      "Lisa-Marie\n",
      "\n",
      "Jessica\n",
      "\n",
      "Maria\n",
      "\n",
      "Thomas\n",
      "\n",
      "Florian\n",
      "\n",
      "Martin\n",
      "\n",
      "Anna\n",
      "\n",
      "Oliver\n",
      "\n",
      "Gregor\n",
      "\n",
      "Helmut\n",
      "\n",
      "Florian\n",
      "\n",
      "Matteo\n",
      "\n",
      "David\n",
      "\n",
      "Marlene\n",
      "\n",
      "Vanessa\n",
      "\n",
      "Lea\n",
      "\n",
      "Jan\n",
      "\n",
      "Béla\n",
      "\n",
      "Verena\n",
      "\n",
      "Manuel\n",
      "\n",
      "Björn\n",
      "\n",
      "Tobias\n",
      "\n",
      "Denise\n",
      "\n",
      "Emma\n",
      "\n",
      "Lukas\n",
      "\n",
      "Sarah\n",
      "\n",
      "Oliver\n",
      "\n",
      "Janine\n",
      "\n",
      "Manuel\n",
      "\n",
      "Georg\n",
      "\n",
      "Lorenz\n",
      "\n",
      "Verena\n",
      "\n",
      "Caroline\n",
      "\n",
      "Laura\n",
      "\n",
      "Felix\n",
      "\n",
      "Simon\n",
      "\n",
      "Lea\n",
      "\n",
      "Peter\n",
      "\n",
      "Sandra\n",
      "\n",
      "Julia\n",
      "\n",
      "Sophie\n",
      "\n",
      "Jacqueline\n",
      "\n",
      "Nina\n",
      "\n",
      "Sebastian\n",
      "\n",
      "David\n",
      "\n",
      "Matthias\n",
      "\n",
      "Patrick\n",
      "\n",
      "Selina\n",
      "\n",
      "Fabian\n",
      "\n",
      "Daniel\n",
      "\n",
      "Sabine\n",
      "\n",
      "Josef\n",
      "\n",
      "Lisa\n",
      "\n",
      "Carina\n",
      "\n",
      "Florian\n",
      "\n",
      "Fabian\n",
      "\n",
      "Viktoria\n",
      "\n",
      "Christoph\n",
      "\n",
      "Emilia\n",
      "\n"
     ]
    }
   ],
   "source": [
    "fh = open('data/names/names_short.txt', encoding='utf-8')\n",
    "for line in fh:\n",
    "    print(line)\n",
    "fh.close()"
   ]
  },
  {
   "cell_type": "markdown",
   "id": "7a694e21",
   "metadata": {},
   "source": [
    "## Open a file in a context manager\n",
    "It is good style to close an opened file as well. But if, for example, the program crashes while the file is open, the `close()` method can no longer be executed. To avoid such problems it is recommended to use a context manager:"
   ]
  },
  {
   "cell_type": "code",
   "execution_count": 4,
   "id": "b5abd733",
   "metadata": {},
   "outputs": [
    {
     "name": "stdout",
     "output_type": "stream",
     "text": [
      "Astrid\n",
      "\n",
      "Ines\n",
      "\n",
      "Christoph\n",
      "\n",
      "Markus\n",
      "\n",
      "Çınar\n",
      "\n",
      "Đželila\n",
      "\n",
      "Niklas\n",
      "\n",
      "Anna\n",
      "\n",
      "Stefanie\n",
      "\n",
      "Raphael\n",
      "\n",
      "Anna-Lena\n",
      "\n",
      "Silvia\n",
      "\n",
      "Julian\n",
      "\n",
      "Simon\n",
      "\n",
      "Katharina\n",
      "\n",
      "Michael\n",
      "\n",
      "Dominik\n",
      "\n",
      "Maria\n",
      "\n",
      "Kevin\n",
      "\n",
      "Bianca\n",
      "\n",
      "Thomas\n",
      "\n",
      "Nora\n",
      "\n",
      "Manuel\n",
      "\n",
      "Selina\n",
      "\n",
      "Gabriel\n",
      "\n",
      "Daniel\n",
      "\n",
      "Thomas\n",
      "\n",
      "Nina\n",
      "\n",
      "Michael\n",
      "\n",
      "Fabio\n",
      "\n",
      "Theresa\n",
      "\n",
      "Manuel\n",
      "\n",
      "Carina\n",
      "\n",
      "Philipp\n",
      "\n",
      "Lukas\n",
      "\n",
      "Wolfgang\n",
      "\n",
      "Anna\n",
      "\n",
      "Doris\n",
      "\n",
      "Thomas\n",
      "\n",
      "Muhammed\n",
      "\n",
      "Christoph\n",
      "\n",
      "Lisa-Marie\n",
      "\n",
      "Jessica\n",
      "\n",
      "Maria\n",
      "\n",
      "Thomas\n",
      "\n",
      "Florian\n",
      "\n",
      "Martin\n",
      "\n",
      "Anna\n",
      "\n",
      "Oliver\n",
      "\n",
      "Gregor\n",
      "\n",
      "Helmut\n",
      "\n",
      "Florian\n",
      "\n",
      "Matteo\n",
      "\n",
      "David\n",
      "\n",
      "Marlene\n",
      "\n",
      "Vanessa\n",
      "\n",
      "Lea\n",
      "\n",
      "Jan\n",
      "\n",
      "Béla\n",
      "\n",
      "Verena\n",
      "\n",
      "Manuel\n",
      "\n",
      "Björn\n",
      "\n",
      "Tobias\n",
      "\n",
      "Denise\n",
      "\n",
      "Emma\n",
      "\n",
      "Lukas\n",
      "\n",
      "Sarah\n",
      "\n",
      "Oliver\n",
      "\n",
      "Janine\n",
      "\n",
      "Manuel\n",
      "\n",
      "Georg\n",
      "\n",
      "Lorenz\n",
      "\n",
      "Verena\n",
      "\n",
      "Caroline\n",
      "\n",
      "Laura\n",
      "\n",
      "Felix\n",
      "\n",
      "Simon\n",
      "\n",
      "Lea\n",
      "\n",
      "Peter\n",
      "\n",
      "Sandra\n",
      "\n",
      "Julia\n",
      "\n",
      "Sophie\n",
      "\n",
      "Jacqueline\n",
      "\n",
      "Nina\n",
      "\n",
      "Sebastian\n",
      "\n",
      "David\n",
      "\n",
      "Matthias\n",
      "\n",
      "Patrick\n",
      "\n",
      "Selina\n",
      "\n",
      "Fabian\n",
      "\n",
      "Daniel\n",
      "\n",
      "Sabine\n",
      "\n",
      "Josef\n",
      "\n",
      "Lisa\n",
      "\n",
      "Carina\n",
      "\n",
      "Florian\n",
      "\n",
      "Fabian\n",
      "\n",
      "Viktoria\n",
      "\n",
      "Christoph\n",
      "\n",
      "Emilia\n",
      "\n"
     ]
    }
   ],
   "source": [
    "with open('data/names/names_short.txt', encoding='utf-8') as file:\n",
    "    for line in file:\n",
    "        print(line)"
   ]
  },
  {
   "cell_type": "markdown",
   "id": "094c00ea",
   "metadata": {},
   "source": [
    "## Other methods to read from a file\n",
    "\n",
    "### read()\n",
    "The `read()` method reads the entire file contents as a string. So we get the whole file content as a (sometimes very long) string:"
   ]
  },
  {
   "cell_type": "code",
   "execution_count": null,
   "id": "954cfb1c",
   "metadata": {},
   "outputs": [],
   "source": [
    "with open('data/names/names_short.txt', encoding='utf-8') as fh:\n",
    "    data = fh.read()\n",
    "print(data)    "
   ]
  },
  {
   "cell_type": "markdown",
   "id": "3c9ff2c2",
   "metadata": {},
   "source": [
    "### readlines()\n",
    "This method reads each line of the file as an element in a list (a list is another sequence type we will learn about soon):"
   ]
  },
  {
   "cell_type": "code",
   "execution_count": null,
   "id": "4cfbf44a",
   "metadata": {},
   "outputs": [],
   "source": [
    "with open('data/names/names_short.txt', encoding='utf-8') as fh:\n",
    "    lines = fh.readlines()\n",
    "print(lines)    "
   ]
  },
  {
   "cell_type": "markdown",
   "id": "bbfa634f",
   "metadata": {},
   "source": [
    "<div class=\"alert alert-block alert-info\">\n",
    "<b>Exercise 1</b><p>How many lines does the file names_short.txt have?</p></div>"
   ]
  },
  {
   "cell_type": "code",
   "execution_count": 3,
   "id": "1d1e5b48",
   "metadata": {},
   "outputs": [
    {
     "name": "stdout",
     "output_type": "stream",
     "text": [
      "100\n"
     ]
    }
   ],
   "source": [
    "with open('data/names/names_short.txt', encoding='utf-8') as fh:\n",
    "    lines = fh.readlines()\n",
    "print(len(lines))\n"
   ]
  },
  {
   "cell_type": "markdown",
   "id": "66d935ec",
   "metadata": {},
   "source": [
    "## Write to a file\n",
    "So far we have only read from files. To be able to write to a file, we need to open it in a special way. The `open()` function expects as second argument a string specifying how to open a file. If we do not specify, the default value `r` (for `read`) is assumed.\n",
    "\n",
    "```\n",
    "with open('data/first_name/names_short.txt', encoding='utf-8') as fh:\n",
    "```\n",
    "leads to the same result as \n",
    "\n",
    "```\n",
    "with open('data/first_name/names_short.txt', 'r', encoding='utf-8') as fh:\n",
    "```\n",
    "\n",
    "\n",
    "If we want to open a file for writing, we use `'w'` (for `write`) instead of `'r'`."
   ]
  },
  {
   "cell_type": "code",
   "execution_count": 9,
   "id": "597d2177",
   "metadata": {},
   "outputs": [],
   "source": [
    "text = '\\nprogramming'\n",
    "with open('data/exercise.txt','w', encoding='utf-8') as fh:\n",
    "    fh.write(text)\n",
    "   "
   ]
  },
  {
   "cell_type": "markdown",
   "id": "d19e5151",
   "metadata": {},
   "source": [
    "<div class=\"alert alert-block alert-info\">\n",
    "<b>Exercise 2</b><p>\n",
    "Write a program that does the following:\n",
    "<ol>\n",
    "<li>Read in the contents of the file \"data/names/names_short.txt\".</li>\n",
    "<li>Write the content of the read file into a new file \"mynames.txt\"</li>\n",
    "<li>Ask (with input()) the user for his/her first name and store it in a variable </li>\n",
    "<li>Append the requested name to the end of the \"mynames.txt\" file</li>\n",
    "</ol>\n",
    "</div>"
   ]
  },
  {
   "cell_type": "code",
   "execution_count": 1,
   "id": "13688b89",
   "metadata": {},
   "outputs": [
    {
     "ename": "KeyboardInterrupt",
     "evalue": "Interrupted by user",
     "output_type": "error",
     "traceback": [
      "\u001b[1;31m---------------------------------------------------------------------------\u001b[0m",
      "\u001b[1;31mKeyboardInterrupt\u001b[0m                         Traceback (most recent call last)",
      "\u001b[1;32m~\\AppData\\Local\\Temp\\ipykernel_26692\\148419048.py\u001b[0m in \u001b[0;36m<module>\u001b[1;34m\u001b[0m\n\u001b[0;32m      3\u001b[0m     \u001b[0mfh_out\u001b[0m\u001b[1;33m.\u001b[0m\u001b[0mwrite\u001b[0m\u001b[1;33m(\u001b[0m\u001b[0mdata\u001b[0m\u001b[1;33m)\u001b[0m\u001b[1;33m\u001b[0m\u001b[1;33m\u001b[0m\u001b[0m\n\u001b[0;32m      4\u001b[0m \u001b[1;33m\u001b[0m\u001b[0m\n\u001b[1;32m----> 5\u001b[1;33m     \u001b[0musername\u001b[0m \u001b[1;33m=\u001b[0m \u001b[0minput\u001b[0m\u001b[1;33m(\u001b[0m\u001b[1;34m'Enter your name:'\u001b[0m\u001b[1;33m)\u001b[0m\u001b[1;33m\u001b[0m\u001b[1;33m\u001b[0m\u001b[0m\n\u001b[0m\u001b[0;32m      6\u001b[0m     \u001b[0mfh_out\u001b[0m\u001b[1;33m.\u001b[0m\u001b[0mwrite\u001b[0m\u001b[1;33m(\u001b[0m\u001b[0musername\u001b[0m\u001b[1;33m)\u001b[0m\u001b[1;33m\u001b[0m\u001b[1;33m\u001b[0m\u001b[0m\n\u001b[0;32m      7\u001b[0m \u001b[1;33m\u001b[0m\u001b[0m\n",
      "\u001b[1;32m~\\Anaconda3\\lib\\site-packages\\ipykernel\\kernelbase.py\u001b[0m in \u001b[0;36mraw_input\u001b[1;34m(self, prompt)\u001b[0m\n\u001b[0;32m   1175\u001b[0m                 \u001b[1;34m\"raw_input was called, but this frontend does not support input requests.\"\u001b[0m\u001b[1;33m\u001b[0m\u001b[1;33m\u001b[0m\u001b[0m\n\u001b[0;32m   1176\u001b[0m             )\n\u001b[1;32m-> 1177\u001b[1;33m         return self._input_request(\n\u001b[0m\u001b[0;32m   1178\u001b[0m             \u001b[0mstr\u001b[0m\u001b[1;33m(\u001b[0m\u001b[0mprompt\u001b[0m\u001b[1;33m)\u001b[0m\u001b[1;33m,\u001b[0m\u001b[1;33m\u001b[0m\u001b[1;33m\u001b[0m\u001b[0m\n\u001b[0;32m   1179\u001b[0m             \u001b[0mself\u001b[0m\u001b[1;33m.\u001b[0m\u001b[0m_parent_ident\u001b[0m\u001b[1;33m[\u001b[0m\u001b[1;34m\"shell\"\u001b[0m\u001b[1;33m]\u001b[0m\u001b[1;33m,\u001b[0m\u001b[1;33m\u001b[0m\u001b[1;33m\u001b[0m\u001b[0m\n",
      "\u001b[1;32m~\\Anaconda3\\lib\\site-packages\\ipykernel\\kernelbase.py\u001b[0m in \u001b[0;36m_input_request\u001b[1;34m(self, prompt, ident, parent, password)\u001b[0m\n\u001b[0;32m   1217\u001b[0m             \u001b[1;32mexcept\u001b[0m \u001b[0mKeyboardInterrupt\u001b[0m\u001b[1;33m:\u001b[0m\u001b[1;33m\u001b[0m\u001b[1;33m\u001b[0m\u001b[0m\n\u001b[0;32m   1218\u001b[0m                 \u001b[1;31m# re-raise KeyboardInterrupt, to truncate traceback\u001b[0m\u001b[1;33m\u001b[0m\u001b[1;33m\u001b[0m\u001b[0m\n\u001b[1;32m-> 1219\u001b[1;33m                 \u001b[1;32mraise\u001b[0m \u001b[0mKeyboardInterrupt\u001b[0m\u001b[1;33m(\u001b[0m\u001b[1;34m\"Interrupted by user\"\u001b[0m\u001b[1;33m)\u001b[0m \u001b[1;32mfrom\u001b[0m \u001b[1;32mNone\u001b[0m\u001b[1;33m\u001b[0m\u001b[1;33m\u001b[0m\u001b[0m\n\u001b[0m\u001b[0;32m   1220\u001b[0m             \u001b[1;32mexcept\u001b[0m \u001b[0mException\u001b[0m\u001b[1;33m:\u001b[0m\u001b[1;33m\u001b[0m\u001b[1;33m\u001b[0m\u001b[0m\n\u001b[0;32m   1221\u001b[0m                 \u001b[0mself\u001b[0m\u001b[1;33m.\u001b[0m\u001b[0mlog\u001b[0m\u001b[1;33m.\u001b[0m\u001b[0mwarning\u001b[0m\u001b[1;33m(\u001b[0m\u001b[1;34m\"Invalid Message:\"\u001b[0m\u001b[1;33m,\u001b[0m \u001b[0mexc_info\u001b[0m\u001b[1;33m=\u001b[0m\u001b[1;32mTrue\u001b[0m\u001b[1;33m)\u001b[0m\u001b[1;33m\u001b[0m\u001b[1;33m\u001b[0m\u001b[0m\n",
      "\u001b[1;31mKeyboardInterrupt\u001b[0m: Interrupted by user"
     ]
    }
   ],
   "source": [
    "with open('data/names/names_short.txt', encoding='utf-8') as fh_in, open('mynames.txt', 'w', encoding='utf=8') as fh_out:\n",
    "    data = fh_in.read() \n",
    "    fh_out.write(data)\n",
    "\n",
    "    username = input('Enter your name:')\n",
    "    fh_out.write(username)\n",
    "\n"
   ]
  },
  {
   "cell_type": "code",
   "execution_count": 15,
   "id": "ac2e84ff",
   "metadata": {},
   "outputs": [
    {
     "name": "stdout",
     "output_type": "stream",
     "text": [
      "What is your first name? lucija\n"
     ]
    }
   ],
   "source": [
    "with open('data/names/names_short.txt', encoding='utf-8') as fh_in, open('mynames.txt', 'a', encoding='utf=8') as fh_out:\n",
    "    in_text = fh_in.read()\n",
    "    input_name = str(input(\"What is your first name? \"))\n",
    "    fh_out.write(in_text + input_name)"
   ]
  },
  {
   "cell_type": "code",
   "execution_count": 16,
   "id": "6e4b6201",
   "metadata": {},
   "outputs": [],
   "source": [
    "with open(\"data/names/names_short.txt\", \"r\", encoding=\"utf-8\") as names, open(\"data/mynames.txt\", \"w\", encoding = \"utf-8\") as my_names:\n",
    "    text = names.read()\n",
    "    my_names.write(text)\n",
    "\n"
   ]
  },
  {
   "cell_type": "code",
   "execution_count": 18,
   "id": "2802e6d8",
   "metadata": {},
   "outputs": [
    {
     "name": "stdout",
     "output_type": "stream",
     "text": [
      "Enter first name: marko\n"
     ]
    }
   ],
   "source": [
    "username = input(\"Enter first name: \")\n",
    "with open(\"data/mynames.txt\", \"a\", encoding=\"utf-8\") as my_names:\n",
    "    my_names.write(username + \"\\n\")\n"
   ]
  },
  {
   "cell_type": "code",
   "execution_count": 15,
   "id": "76f70b2c",
   "metadata": {},
   "outputs": [
    {
     "name": "stdout",
     "output_type": "stream",
     "text": [
      "Eneter name:Ana\n",
      "Eneter name:Tom\n",
      "Eneter name:Nina\n",
      "Eneter name:exit\n"
     ]
    }
   ],
   "source": [
    "with open(\"data/names/names_short.txt\", \"r\", encoding=\"utf-8\") as names:\n",
    "    old_names = names.read().splitlines()\n",
    "\n",
    "usernames = []\n",
    "while True:\n",
    "    username = input(\"Eneter name:\")\n",
    "    if username.lower() == \"exit\":\n",
    "        break\n",
    "    usernames.append(username)\n",
    "        \n",
    "all_usernames = old_names + usernames\n",
    "\n",
    "with open(\"data/mynames.txt\", \"w+\", encoding=\"utf-8\") as mynames:\n",
    "    for username in all_usernames:\n",
    "        mynames.write(username + \"\\n\")"
   ]
  },
  {
   "cell_type": "markdown",
   "id": "6aa9d839",
   "metadata": {},
   "source": [
    "## Write binary data\n",
    "So far we have always assumed that we are reading text from a file or writing to a file. If we're dealing with binary data (i.e. anything that isn't plain text, e.g. images, PDF files, Word files, etc.), we need to specify that explicitly with the letter `'b'`:"
   ]
  },
  {
   "cell_type": "code",
   "execution_count": null,
   "id": "bd6142e5",
   "metadata": {},
   "outputs": [],
   "source": [
    "with open('img/string1.png', 'rb') as fh_in, open('img/testimage.png', 'wb') as fh_out:\n",
    "    data = fh_in.read()\n",
    "    fh_out.write(data)"
   ]
  },
  {
   "cell_type": "markdown",
   "id": "d860bf2d",
   "metadata": {},
   "source": [
    "## Literature\n",
    "\n",
    "\n",
    "  * Python Tutorial: \n",
    "\t(https://docs.python.org/3/tutorial/inputoutput.html#reading-and-writing-files)\n",
    "  * Sweigart: https://automatetheboringstuff.com/2e/chapter9/\n",
    "  * https://www.w3schools.com/python/python_file_handling.asp\n",
    "  * https://www.geeksforgeeks.org/file-handling-python/\n",
    "  "
   ]
  },
  {
   "cell_type": "code",
   "execution_count": null,
   "id": "d798f5c7",
   "metadata": {},
   "outputs": [],
   "source": []
  }
 ],
 "metadata": {
  "kernelspec": {
   "display_name": "Python 3 (ipykernel)",
   "language": "python",
   "name": "python3"
  },
  "language_info": {
   "codemirror_mode": {
    "name": "ipython",
    "version": 3
   },
   "file_extension": ".py",
   "mimetype": "text/x-python",
   "name": "python",
   "nbconvert_exporter": "python",
   "pygments_lexer": "ipython3",
   "version": "3.9.13"
  }
 },
 "nbformat": 4,
 "nbformat_minor": 5
}
