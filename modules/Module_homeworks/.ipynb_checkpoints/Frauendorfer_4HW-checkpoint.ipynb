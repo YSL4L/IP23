{
 "cells": [
  {
   "cell_type": "markdown",
   "id": "c1121cd6",
   "metadata": {},
   "source": [
    "# Translation (textblob)"
   ]
  },
  {
   "cell_type": "markdown",
   "id": "51248e2a",
   "metadata": {},
   "source": [
    "make a jupyter notebook in which you will :\n",
    "- import the module(https://textblob.readthedocs.io/en/dev/quickstart.html)\n",
    "- read the .txt file\n",
    "- use textblob to translate the file in german\n",
    "- use textblob to calculate the sentiment of the english and the german version. do they differ?"
   ]
  },
  {
   "cell_type": "markdown",
   "id": "33c6e527",
   "metadata": {},
   "source": [
    "## Installations"
   ]
  },
  {
   "cell_type": "markdown",
   "id": "0651a751",
   "metadata": {},
   "source": [
    "I installed:\n",
    "* textblob\n",
    "* textblob-de\n",
    "* nltk, because otherwise textblob is not working\n",
    "* GoggleTrans\n",
    "\n",
    "via the terminal as i tipped in: `pip install textblob` and `pip install googletrans==3.1.0a0`. I downloaded NLTK via Python with the commands `>>> import nltk` and then `>>>nltk.download()`. After this last command it should open a new window and I installed everything from the 'Collections'. And for the german sentiment analysis I downloaded textblob-de per download from the page https://github.com/markuskiller/textblob-de."
   ]
  },
  {
   "cell_type": "markdown",
   "id": "a6f96f70",
   "metadata": {},
   "source": [
    "After the installation I moved all of these new librarys into the folder anaconda3>Lib>site-packages. The notebook itself I created in anaconda3. It is important that every file/library ecc. is in the same path otherwise it's not working!"
   ]
  },
  {
   "cell_type": "markdown",
   "id": "08d0d2c0",
   "metadata": {},
   "source": [
    "## TextBlob"
   ]
  },
  {
   "cell_type": "markdown",
   "id": "0ec87eb3",
   "metadata": {},
   "source": [
    "First I checked if I can import the TextBlob module with the following command, which worked."
   ]
  },
  {
   "cell_type": "code",
   "execution_count": 1,
   "id": "b2624522",
   "metadata": {},
   "outputs": [],
   "source": [
    "from textblob import TextBlob"
   ]
  },
  {
   "cell_type": "markdown",
   "id": "a5da1d65",
   "metadata": {},
   "source": [
    "For the second task for the homework I needed to read the text file ice_man. So I opened and printed the text that I need to translate. "
   ]
  },
  {
   "cell_type": "code",
   "execution_count": 2,
   "id": "cff2d7fd",
   "metadata": {},
   "outputs": [
    {
     "name": "stdout",
     "output_type": "stream",
     "text": [
      "I married the Ice Man.\n",
      "I first met the Ice Man at this ski resort hotel. I guess that’s the kind of place one ought to meet an Ice Man. In the boisterous hotel lobby, crowded with young people, the Ice Man was sitting in a chair at the furthest possible remove from the fireplace, silently reading a book. Though it was approaching high noon, it seemed to me that the cool, fresh light of the winter morning still lingered around him. Hey, that’s the Ice Man, my friend informed me in a low voice. But at that time, I had no idea what in the world an Ice Man was. My friend didn’t really know, either. She just knew that he existed and was called the Ice Man. She’s sure he’s made out of ice. That’s why he’s called the Ice Man, she said to me with a serious expression. It was like she was talking about a ghost or somebody with a contagious disease or something.\n",
      "\n",
      "The Ice Man was tall, and from looking at him, his hair seemed bristly. When I saw his face, he looked fairly young still, but that thick, wiry hair was white, like it had been mixed with melted snow. He had high cheek-bones that appeared to have been chiseled out of cold, hard rock, and there was a slight coating of unmelted white frost on his fingers, but other than that the Ice Man’s appearance wasn’t much different from a normal person. While he probably couldn’t have been called handsome, there was undeniably something charming in his bearing. There are some people that just jab you sharply in the heart. It was especially this way with him, so he really stood out. He had a shy, transparent look, like an icicle on a winter morning. There was something in the way his body was put together that made his whole being seem to sparkle. I stood there for a moment and gazed at the Ice Man from afar. But the Ice Man didn’t lift his face from his book even once. Without moving so much as a muscle, he continued reading. It was as if he was trying to persuade himself that there wasn’t anybody at all around him.\n",
      "\n",
      "The next day, the Ice Man was in the same place, reading a book exactly the same way. When I went to the cafeteria to get lunch, and again when I came back in the evening from skiing with everybody else, he was sitting in the same chair as the day before, pouring over the top of a page of the same book with the same expression on his face. And the next day was the same. The day passed, the night grew late, and he sat there as quietly as the winter outside the window, reading his book alone.\n",
      "\n",
      "On the afternoon of the fourth day, I fashioned an appropriate excuse and didn’t go out to the slopes. Staying behind alone in the hotel, I wandered around the lobby for a while. Since everyone had gone out for an afternoon skiing, the lobby was deserted like a ghost town. The air in the lobby was unnecessarily warm and moist, and there was a strange, dank smell mixed in with it. It was the smell of people tracking snow into the hotel on the bottom of their boots and then carelessly sitting by the fireplace, where it slowly melted off. I stared vacantly out the various windows, and flipped through the newspaper. Then, bravely walking up to the Ice Man, I boldly started a conversation. I’m normally a very shy person, and not at all in the habit of talking to total strangers. But at that time, I really wanted to talk to the Ice Man, no matter what. It was our last night in that hotel, and I thought that if I let it slip away, I might never have another chance to talk to an Ice Man.\n",
      "\n",
      "Don’t you ski? I asked the Ice Man, trying to sound as casual as possible. He slowly raised his head. He had an expression on his face like he could a hear the sound of wind blowing from incredibly far away. He looked at my face with eyes like that. He silently shook his head. I don’t ski. I’m fine just reading a book and watching the snow fall, he said. His words made little white clouds in the air, like when you breathe on a TV screen. I could literally see his words with my own eyes. He gently brushed off the frost that had accumulated on his fingers.\n",
      "\n",
      "I didn’t know what to say after that. I just stood there blushing. The Ice Man looked in my eyes. Then he seemed to smile a little. But I wasn’t really sure. Did he really smile? Or was it just a feeling? Won’t you sit down? the Ice Man said. Let’s have a little conversation. You’re curious about me, right? You want to know what an Ice Man is, right? Then he really did laugh a little. It’s OK. There’s nothing to worry about. You won’t catch a cold or anything talking to me.\n",
      "\n",
      "This is how I came to talk to the Ice Man. Sitting side-by-side on the sofa in the corner of the lobby, watching the snow flakes dance on the other side of the window, our conversation proceeded haltingly. I ordered some cocoa and drank it. The Ice Man didn’t have anything. He was just as bad a conversationalist as me. In addition, we didn’t really have anything in common to talk about. At first, we talked about the weather. Then, how cozy the hotel was. Did you come here alone? I asked the Ice Man. Yes, the Ice Man replied. The Ice Man asked me whether I liked to ski. Not really, I responded. My girlfriends invited me to go skiing with them for some reason, but I’m not very good at it. I really wanted to know what kind of thing the Ice Man was: whether he was really made out of ice or not; what he ate; where he spent the summer; whether he had a family–that type of thing. But the Ice Man didn’t seem to want to talk about himself. I didn’t dare to broach the subject either. He probably just doesn’t like to talk about stuff like that, I thought.\n",
      "\n",
      "Instead, we talked about me as a human being. I really couldn’t believe it, but, for whatever reason, the Ice Man knew all kinds of things about me: the make up of my family, my age, my hobbies, my health, the school I attended, the friends I hung out with–he knew it all from beginning to end. He knew things about me that had happened so long ago that I had forgotten about them.\n",
      "I don’t understand, I said, blushing. I had this feeling like I was naked in public. How do you know so much about me? I asked. Can you read people’s minds?\n",
      "\n",
      "No, it is not possible for me to read people’s minds. But I know. I just know, he said. It’s just like seeing something frozen in ice. So, when I looked at you, I could see all kinds of things about you clearly.\n",
      "\n",
      "Can you see my future? I asked.\n",
      "\n",
      "I can’t see the future, the Ice Man said expressionlessly. And he shook his head slowly. I’m not interested in the future at all. To speak more precisely, I have no concept of the future. Ice has no future. It just captures the past. It captures everything just as it was in life, fresh, and preserves it that way. Ice can preserve all kinds of things in this way. Totally freshly, totally clearly. Just as it is. That’s the purpose of ice, it’s true quality.\n",
      "Good, I said. I laughed a little. I’m relieved to hear it. I don’t want to know anything about my future.\n",
      "\n",
      "\n",
      "After we had returned to Tokyo, we got together frequently. Eventually, we were going out on dates nearly every weekend. But we didn’t go out to movies together, or to coffee shops. We didn’t even have dinner. We’d always go to parks together, sit on a bench, and talk about stuff. We really talked about a lot of different stuff. But as always, the Ice Man wouldn’t say anything about himself. Why is that? I asked him. How come you never talk about yourself? I want to know more about you–where you were born, what kind of people your parents were, and how you got to be an Ice Man. The Ice Man looked at my face for a moment. Then he slowly shook his head. I don’t know either, the Ice Man said, his voice barely above a whisper. Then he exhaled a hard, white breath into the air. I don’t have a past. I know all things past. I preserve all things past. But I myself don’t have a past. I don’t know where I was born. I wouldn’t recognize my parents if I saw them. I don’t even know whether or not I have parents. I don’t even know how old I am. I don’t even know whether I have an age or not.\n",
      "The Ice Man was as isolated as an iceberg in the mist.\n",
      "\n",
      "And gradually I came to love the Ice Man very deeply. Having no past and no future, he loved just the me of the present. And I loved just the present Ice Man, without a past and without a future. This seemed a splendid thing to me. We even began to speak of marriage. I had just turned twenty years old. And the Ice Man was the first person to inspire such feelings in me. I couldn’t imagine then what in the world it meant to love the Ice Man. But if, hypothetically, the Ice Man hadn’t been my partner, but someone else instead, I wouldn’t have known anything then either, I guess.\n",
      "\n",
      "My mother and my sister were strongly opposed to me marrying the Ice Man. You’re too young to get married, they said. You don’t even know clearly what kind of person he is, or what his family is like. Or where he was born, or when. As your family, we can’t consent to you marrying such a person. And, besides, he’s an Ice Man. What happens if he melts? they said. I know you don’t really understand it, but marriage is a big responsibility. Do you really think that you’re capable of the responsibility of marrying this Ice Man?\n",
      "\n",
      "But their fears were needless. It wasn’t like the Ice Man was actually made out of ice. He was just cool like ice. He doesn’t melt if he gets too warm. That chilliness really was like ice, but his body was different from ice. And while he was incredibly cold, it wasn’t the kind of coldness that robs other people of their body heat.\n",
      "\n",
      "So we got married. No one celebrated our wedding, though. Not my friends, or my parents, or my sisters: no one was happy about it. We didn’t have a ceremony. Since the Ice Man didn’t have a family register, we didn’t even apply for a marriage license. We just jointly decided that we were married. We bought a small cake and ate it together. That was the extent of our meager wedding. We rented a little apartment, and the Ice Man got a job at a meat storehouse to cover our expenses. He liked the cold a lot, and no matter how hard he worked, he never got tired. He didn’t even stop much to eat. Naturally, he quickly caught the boss’s eye, and was rewarded with a higher salary than anybody else. We didn’t bother anybody and nobody bothered us; and we had a quiet, happy life together.\n",
      "\n",
      "Whenever the Ice Man embraced me, I always thought of this quiet, still iceberg that existed in some far off place. I thought that the Ice Man probably knew where that iceberg was. The ice was hard, harder than anything I could think of. It was the biggest iceberg in the world. But it was in some incredibly far away place. He was telling the secret of that ice to the world. At first, the Ice Man’s embraces made me feel disoriented, but after a while I got used to it. I even came to love it. As always, he didn’t talk about himself at all. Not even why he became the Ice Man. And I didn’t ask anything. Embracing in the silence, we shared that huge, still iceberg. The entirety of past events of the whole world for billions of years was stored pristinely, just as it was, inside that ice.\n",
      "\n",
      "In our married life, there weren’t really any problems that could properly be called problems. We loved each other deeply, and nothing impeded that. While the neighbors seemed as if they were quite unfamiliar with the existence of Ice Men, as time passed, little by little they began to talk to him. Even though he’s an Ice Man, he’s no different than anybody else, they came to say. But in the depths of their hearts they never really accepted him, and so they never really accepted that I was married to him. We were a different type of human being from them, and no matter how much time passed, that chasm could never be filled.\n",
      "\n",
      "The two of us were unable to have children. Perhaps the result of mixing human and Ice Man genes was problematic. In any event, since we didn’t have any children, I had an abundance of free time. I’d take care of the house work fairly quickly in the morning, but after that there was nothing to do. I didn’t have any friends to talk to, or to go somewhere with, and I didn’t have much to do with the neighbors. My mother and sisters, still mad that I had married the Ice Man, weren’t speaking to me. They were ashamed of my household. There wasn’t even anyone to call on the telephone. While the Ice Man was working at the storehouse, I stayed at home all alone, reading books or listening to music. I generally prefer staying at home to going out anyway, and I’m not the kind of person for whom being alone is a trial. But in spite of this, I was still young, and the endless daily repetition without any variation began to get me down. It wasn’t the boredom that got to me. The thing I couldn’t bear was the repetition. In the midst of that endless repetition, I felt kind of like my own shadow.\n",
      "\n",
      "So one day, I made a proposal to my husband. Why don’t we go on a trip together somewhere, for a change of pace. Trip? he said. He narrowed his eyes as he looked at me. Why in the world should we take a trip? Aren’t you happy living here with me?\n",
      "\n",
      "It’s not that, I said. I’m perfectly happy. There are no problems between us. It’s just that I’m bored. I want to go somewhere far away and see things I’ve never seen before. I want to breath air I’ve never breathed before. Do you understand? And anyway, we never went on a honeymoon. We have plenty of money in the bank, and taking a few days off shouldn’t be a problem. I just think a relaxing trip somewhere would be nice.\n",
      "\n",
      "The Ice Man heaved a deep, frozen sigh. The sigh made a crisp sound as the air crystallized. He brought his long, frost-covered fingers together on his knee. I guess so. If you want to go on a trip so badly, I’m not particularly opposed to it. I don’t think it’s such a good idea to take a trip, but if it will make you happy, I’ll do whatever you want, go wherever you want to go. Taking a vacation should be OK since I always work really hard when I’m there. I don’t think there will be any problem. But where do you want to go?\n",
      "\n",
      "How about the South Pole? I ventured. I chose the South Pole because I thought the Ice Man would be interested in a cold place. And besides, I’ve always wanted to go to the South Pole sometime. I wanted to see the Northern Lights, and penguins. I imagined myself wearing a fur coat with an attached hood, playing with a flock of penguins under a sky lit up by the aurora borealis.\n",
      "\n",
      "When I said this, my husband the Ice Man looked straight into my eyes. He didn’t blink even once. His gaze like sharp icicles, it pierced through my eyes to the back of my head. He pondered it silently for a moment, and finally said It’s fine, with a twinkle. Fine, if that’s what you want to do, we’ll go to the South Pole. That’s what you want to do?\n",
      "\n",
      "I agreed.\n",
      "\n",
      "In about two weeks I think I can take a long vacation. We can probably make all the preparations before then. Really, it won’t be a problem.\n",
      "I couldn’t respond right away. When the Ice Man had looked at me with that icicle gaze, it had numbed the inside of my head.\n",
      "\n",
      "However, with the passage of time, I came to regret that I had ever brought up the idea of going to the South Pole with my husband. I don’t know why this was so. Before the words ‘South Pole’ came out of my mouth, I had this feeling that something had changed in him. His gaze had become even sharper and more icicle-like than before; his breath had become even whiter than before; and even more frost accumulated on his fingers than before. He became even more stubborn and reticent. Now, he wasn’t eating anything at all. All of these things made me terribly uneasy. Five days before we were due to depart, I boldly made a proposal to my husband. Let’s call off the South Pole trip, I said. I’ve thought about it a little, and it’s so cold, it will probably be bad for me.\n",
      "\n",
      "It just seems like it would be a better idea to go somewhere a little more normal. I bet Europe is really nice; why don’t we go to Spain instead? We could drink wine, and eat paella, and watch bullfights. But my husband didn’t respond. For a little while, he just stared at some place far away. Then he looked at my face. He peered deeply into my eyes. That look, was so deep that I felt as if my body, just as it was, had evaporated into nothing. No, I don’t want to go to Spain, my husband, the Ice Man, said plainly. I know it’s not fair to you, but Spain is too hot and dusty for me. And the food is too spicy. Anyway, we’ve already bought to tickets for the South Pole. We’ve already bought a fur coat for you, and a pair of fur-lined boots. We can’t afford to waste all that. At this point, we have to go.\n",
      "\n",
      "The way he said it scared me. I had this sense of foreboding that, if we went to the South Pole, something would happen and we would lose something that we would never be able to recover. I had terrible nightmares over and over. It was the same dream each time. In the dream, I was taking a walk, and I fell in a deep hole in the ground, but no one discovered me and I ended up being frozen there. Trapped inside that ice, I could see the sky clearly. I was conscious, but I couldn’t move even a single finger. It was a terribly strange feeling. I understood as moment by moment the present changed into the past. I had no future. The past kept piling up irreversibly. And everyone kept staring at me. They were looking at the past. I was looking backwards at passing scenes.\n",
      "\n",
      "And then I would wake up. The Ice Man was sleeping next to me. He slept without breathing at all. Just like he had died and frozen that way or something. But I loved the Ice Man. I’d start to cry. My tears would land on his cheek. Then he’d wake up and hold me in his arms. I had a bad dream, I’d say. He’d shake his head silently in the darkness. It was just a dream, he’d say. Dreams are things from the past. They aren’t from the future. That wasn’t you imprisoned there. You imprison your dreams. You understand?\n",
      "\n",
      "Yeah, I’d say. But I wasn’t convinced.\n",
      "\n",
      "\n",
      "Eventually, my husband and I boarded the plane for the South Pole. There just wasn’t a good enough reason to cancel it. The pilot and the stewardesses on the plane to the South Pole were all totally silent. I really wanted to look at the scenery outside the window, but the clouds were thick and I couldn’t see anything. After a while, they were completely covered with ice anyway. My husband just silently read a book all the while. I didn’t have the excitement or sense of anticipation that usually accompanies going on a trip. I was just going through a set of pre-determined motions.\n",
      "\n",
      "When I first stepped off the gangway and onto the surface of the South Pole, I could feel my husband’s whole body tremble violently. It was quicker than a wink, maybe half the time that it takes to blink, so no one noticed; and my husband didn’t so much as bat an eyelash, but I couldn’t miss it. Something deep inside my husband’s body had shuddered violently, although in secret. He stopped there, looked at the sky, then stared at his hands, and finally took a deep breath. Then he looked me in the eye and beamed merrily. So, this is the land of your dreams, he said. Yeah, I said.\n",
      "\n",
      "The gloominess of the South Pole exceeded even the worst of my premonitions. Almost no one lived there. There is just one little featureless town there. In the town, there is just one little featureless hotel. There are no sights to see. There aren’t even any penguins. You can’t see the Northern Lights. Occasionally, I’d set about trying to ask people where I might be able to see penguins, but they would just shake their heads silently. They couldn’t comprehend my speech. I would try to draw a picture of a penguin on a piece of paper. But of course, they would just shake their heads silently. I was all alone. If you took one step outside of town, there was nothing beyond but ice. There weren’t any trees; there weren’t any flowers; no rivers, no ponds, no nothing. Wherever you went, there was nothing but ice. Frozen wasteland stretched out as far as the eye could see in every direction.\n",
      "\n",
      "And yet my husband, breathing his white breath, frost growing on his fingers, his eyes, as ever, glaring icicle-like, walked around from place to place vigorously, as if knowing no satiation. The native speech of that land quickly returned to him, and he had conversations with the people of the town, in a voice that rang as hard as ice. They talked together for hours at a time, with serious expressions on their faces. I couldn’t understand at all what in the world they were talking about so earnestly. My husband was completely delirious in that place. There was something there that entranced him. At first, this really irritated me. I felt as though I had been left behind by myself. I felt neglected and betrayed by my husband.\n",
      "\n",
      "Eventually, though, I lost all of my strength, in the midst of that desert world, hemmed in by thick ice. Slowly, gradually. I even lost the power to be upset. It was like I had misplaced the compass of my senses. Direction vanished, time vanished, even my awareness of my own existence vanished. I don’t know when this process began or when it ended. I came to realize, though, that I was imprisoned all alone, senseless, in the midst of that world of ice, in the midst of that color-starved eternal winter. After my senses were almost all gone, I understood only this. My husband in the South Pole was not my former husband. It wasn’t that his behavior toward me had changed. He was as concerned about me as ever, and his speech was always kind. And I’m sure that he meant everything that he said. He was simply a different Ice Man than the one that I met at the ski lodge. But there wasn’t anyone there who I could ask about it. All of the South Poleans were friends with him, and besides, they couldn’t understand my speech. They all breathed their white breaths, frost grew on their faces, and they told their jokes, debated their debates, and sang their songs in South Pole-ese. I ended up locking myself in my room alone, staring blankly at the never-changing gray sky, and pouring over the impossibly complicated mystery of South Pole-ese grammar, even though I had no hope of ever mastering it.\n",
      "\n",
      "There were no planes at the airstrip. After the plane that had brought us here promptly took off again, there hadn’t been even one single arrival. The runway had eventually become buried in a thick layer of ice. Just like my heart.\n",
      "\n",
      "Winter has come, my husband said. It’s a very long winter. No planes will come, no ships will come. Everything is frozen. We’ll just have to wait here for the spring, he said.\n",
      "\n",
      "After we had been in the South Pole for about three months, I realized that I was pregnant. I knew right away: the child to whom I would give birth was a little Ice Man. My uterus was covered with ice, and the amniotic fluid was mingled with slush. I could feel the chill growing in my abdomen. I just knew. The child would have his father’s icicle gaze, and frost would grow on his little fingers. And I just knew: our new family would never again leave the South Pole. Our feet would surely catch on the insensate mass of the eternal past. No matter how hard we tried, we would never shake it off.\n",
      "\n",
      "Now, there is almost nothing left of my former self. My natural warmth has been displaced far, far away. Sometimes I forget that I ever even had it. And yet somehow I can still cry. I am truly alone. I am in a colder, lonelier place than anyone in the whole world. When I cry, the Ice Man kisses my cheek. His kisses turn my tears to ice. Then he takes these ice tears in his hand and sets them on his tongue. I love you, he says. It’s not a lie. I understand this well. The Ice Man loves me. But then, from some far-off place, a wind stirs and blows his white, frozen words away, away, into the past. I cry. Icy tears stream down my face. In our far away, frozen home at the South Pole.\n"
     ]
    }
   ],
   "source": [
    "with open('texts/nlp/ice_man.txt', encoding='utf-8') as fh:\n",
    "    data = fh.read()\n",
    "print(data) "
   ]
  },
  {
   "cell_type": "markdown",
   "id": "a8c5f647",
   "metadata": {},
   "source": [
    "I also analyed the sentiment of the english text with textblob."
   ]
  },
  {
   "cell_type": "code",
   "execution_count": 3,
   "id": "34c8af23",
   "metadata": {},
   "outputs": [
    {
     "data": {
      "text/plain": [
       "Sentiment(polarity=0.05720858766015831, subjectivity=0.45825535139671275)"
      ]
     },
     "execution_count": 3,
     "metadata": {},
     "output_type": "execute_result"
    }
   ],
   "source": [
    "from textblob import TextBlob\n",
    "\n",
    "blob = TextBlob(data)\n",
    "blob.sentiment"
   ]
  },
  {
   "cell_type": "markdown",
   "id": "113a2145",
   "metadata": {},
   "source": [
    "### German Translation with textblob (not working)"
   ]
  },
  {
   "cell_type": "markdown",
   "id": "388fcfb7",
   "metadata": {},
   "source": [
    "In generall textblob should be able to translate a text in many languages. I tried many different commands but it gave me always the same errors. I also extended my TextBlob by downloading the german extension from https://github.com/markuskiller/textblob-de and moved it into the site-packages folder from the anaconda path. It's the same path that I mentioned before. But for the translation it didn't change anything."
   ]
  },
  {
   "cell_type": "code",
   "execution_count": 4,
   "id": "49afbecb",
   "metadata": {},
   "outputs": [
    {
     "ename": "AttributeError",
     "evalue": "'list' object has no attribute 'strip'",
     "output_type": "error",
     "traceback": [
      "\u001b[1;31m---------------------------------------------------------------------------\u001b[0m",
      "\u001b[1;31mAttributeError\u001b[0m                            Traceback (most recent call last)",
      "Input \u001b[1;32mIn [4]\u001b[0m, in \u001b[0;36m<cell line: 4>\u001b[1;34m()\u001b[0m\n\u001b[0;32m      1\u001b[0m \u001b[38;5;28;01mfrom\u001b[39;00m \u001b[38;5;21;01mtextblob\u001b[39;00m \u001b[38;5;28;01mimport\u001b[39;00m TextBlob\n\u001b[0;32m      2\u001b[0m blob \u001b[38;5;241m=\u001b[39m TextBlob(data)\n\u001b[1;32m----> 4\u001b[0m \u001b[38;5;28mprint\u001b[39m(\u001b[43mblob\u001b[49m\u001b[38;5;241;43m.\u001b[39;49m\u001b[43mtranslate\u001b[49m\u001b[43m(\u001b[49m\u001b[43mto\u001b[49m\u001b[38;5;241;43m=\u001b[39;49m\u001b[38;5;124;43m'\u001b[39;49m\u001b[38;5;124;43mde\u001b[39;49m\u001b[38;5;124;43m'\u001b[39;49m\u001b[43m)\u001b[49m)\n",
      "File \u001b[1;32m~\\anaconda3\\lib\\site-packages\\textblob\\blob.py:568\u001b[0m, in \u001b[0;36mBaseBlob.translate\u001b[1;34m(self, from_lang, to)\u001b[0m\n\u001b[0;32m    539\u001b[0m \u001b[38;5;124;03m\"\"\"Translate the blob to another language.\u001b[39;00m\n\u001b[0;32m    540\u001b[0m \u001b[38;5;124;03mUses the Google Translate API. Returns a new TextBlob.\u001b[39;00m\n\u001b[0;32m    541\u001b[0m \n\u001b[1;32m   (...)\u001b[0m\n\u001b[0;32m    561\u001b[0m \u001b[38;5;124;03m:rtype: :class:`BaseBlob <BaseBlob>`\u001b[39;00m\n\u001b[0;32m    562\u001b[0m \u001b[38;5;124;03m\"\"\"\u001b[39;00m\n\u001b[0;32m    563\u001b[0m warnings\u001b[38;5;241m.\u001b[39mwarn(\n\u001b[0;32m    564\u001b[0m     \u001b[38;5;124m'\u001b[39m\u001b[38;5;124mTextBlob.translate is deprecated and will be removed in a future release. \u001b[39m\u001b[38;5;124m'\u001b[39m\n\u001b[0;32m    565\u001b[0m     \u001b[38;5;124m'\u001b[39m\u001b[38;5;124mUse the official Google Translate API instead.\u001b[39m\u001b[38;5;124m'\u001b[39m,\n\u001b[0;32m    566\u001b[0m     \u001b[38;5;167;01mDeprecationWarning\u001b[39;00m\n\u001b[0;32m    567\u001b[0m )\n\u001b[1;32m--> 568\u001b[0m \u001b[38;5;28;01mreturn\u001b[39;00m \u001b[38;5;28mself\u001b[39m\u001b[38;5;241m.\u001b[39m\u001b[38;5;18m__class__\u001b[39m(\u001b[38;5;28;43mself\u001b[39;49m\u001b[38;5;241;43m.\u001b[39;49m\u001b[43mtranslator\u001b[49m\u001b[38;5;241;43m.\u001b[39;49m\u001b[43mtranslate\u001b[49m\u001b[43m(\u001b[49m\u001b[38;5;28;43mself\u001b[39;49m\u001b[38;5;241;43m.\u001b[39;49m\u001b[43mraw\u001b[49m\u001b[43m,\u001b[49m\n\u001b[0;32m    569\u001b[0m \u001b[43m                      \u001b[49m\u001b[43mfrom_lang\u001b[49m\u001b[38;5;241;43m=\u001b[39;49m\u001b[43mfrom_lang\u001b[49m\u001b[43m,\u001b[49m\u001b[43m \u001b[49m\u001b[43mto_lang\u001b[49m\u001b[38;5;241;43m=\u001b[39;49m\u001b[43mto\u001b[49m\u001b[43m)\u001b[49m)\n",
      "File \u001b[1;32m~\\anaconda3\\lib\\site-packages\\textblob\\translate.py:61\u001b[0m, in \u001b[0;36mTranslator.translate\u001b[1;34m(self, source, from_lang, to_lang, host, type_)\u001b[0m\n\u001b[0;32m     59\u001b[0m     \u001b[38;5;28;01mexcept\u001b[39;00m \u001b[38;5;167;01mIndexError\u001b[39;00m:\n\u001b[0;32m     60\u001b[0m         \u001b[38;5;28;01mpass\u001b[39;00m\n\u001b[1;32m---> 61\u001b[0m \u001b[38;5;28;43mself\u001b[39;49m\u001b[38;5;241;43m.\u001b[39;49m\u001b[43m_validate_translation\u001b[49m\u001b[43m(\u001b[49m\u001b[43msource\u001b[49m\u001b[43m,\u001b[49m\u001b[43m \u001b[49m\u001b[43mresult\u001b[49m\u001b[43m)\u001b[49m\n\u001b[0;32m     62\u001b[0m \u001b[38;5;28;01mreturn\u001b[39;00m result\n",
      "File \u001b[1;32m~\\anaconda3\\lib\\site-packages\\textblob\\translate.py:88\u001b[0m, in \u001b[0;36mTranslator._validate_translation\u001b[1;34m(self, source, result)\u001b[0m\n\u001b[0;32m     86\u001b[0m \u001b[38;5;28;01mif\u001b[39;00m PY2:\n\u001b[0;32m     87\u001b[0m     result \u001b[38;5;241m=\u001b[39m result\u001b[38;5;241m.\u001b[39mencode(\u001b[38;5;124m'\u001b[39m\u001b[38;5;124mutf-8\u001b[39m\u001b[38;5;124m'\u001b[39m)\n\u001b[1;32m---> 88\u001b[0m \u001b[38;5;28;01mif\u001b[39;00m \u001b[43mresult\u001b[49m\u001b[38;5;241;43m.\u001b[39;49m\u001b[43mstrip\u001b[49m() \u001b[38;5;241m==\u001b[39m source\u001b[38;5;241m.\u001b[39mstrip():\n\u001b[0;32m     89\u001b[0m     \u001b[38;5;28;01mraise\u001b[39;00m NotTranslated(\u001b[38;5;124m'\u001b[39m\u001b[38;5;124mTranslation API returned the input string unchanged.\u001b[39m\u001b[38;5;124m'\u001b[39m)\n",
      "\u001b[1;31mAttributeError\u001b[0m: 'list' object has no attribute 'strip'"
     ]
    }
   ],
   "source": [
    "from textblob import TextBlob\n",
    "blob = TextBlob(data)\n",
    "\n",
    "print(blob.translate(to='de'))"
   ]
  },
  {
   "cell_type": "code",
   "execution_count": 5,
   "id": "ff0ecc94",
   "metadata": {},
   "outputs": [
    {
     "ename": "AttributeError",
     "evalue": "'str' object has no attribute 'translator'",
     "output_type": "error",
     "traceback": [
      "\u001b[1;31m---------------------------------------------------------------------------\u001b[0m",
      "\u001b[1;31mAttributeError\u001b[0m                            Traceback (most recent call last)",
      "Input \u001b[1;32mIn [5]\u001b[0m, in \u001b[0;36m<cell line: 2>\u001b[1;34m()\u001b[0m\n\u001b[0;32m      1\u001b[0m \u001b[38;5;28;01mfrom\u001b[39;00m \u001b[38;5;21;01mtextblob\u001b[39;00m \u001b[38;5;28;01mimport\u001b[39;00m TextBlob\n\u001b[1;32m----> 2\u001b[0m newblob \u001b[38;5;241m=\u001b[39m \u001b[43mTextBlob\u001b[49m\u001b[38;5;241;43m.\u001b[39;49m\u001b[43mtranslate\u001b[49m\u001b[43m(\u001b[49m\u001b[43mdata\u001b[49m\u001b[43m,\u001b[49m\u001b[43mto\u001b[49m\u001b[38;5;241;43m=\u001b[39;49m\u001b[38;5;124;43m'\u001b[39;49m\u001b[38;5;124;43mde\u001b[39;49m\u001b[38;5;124;43m'\u001b[39;49m\u001b[43m)\u001b[49m\n\u001b[0;32m      3\u001b[0m newblob\n",
      "File \u001b[1;32m~\\anaconda3\\lib\\site-packages\\textblob\\blob.py:568\u001b[0m, in \u001b[0;36mBaseBlob.translate\u001b[1;34m(self, from_lang, to)\u001b[0m\n\u001b[0;32m    539\u001b[0m \u001b[38;5;124;03m\"\"\"Translate the blob to another language.\u001b[39;00m\n\u001b[0;32m    540\u001b[0m \u001b[38;5;124;03mUses the Google Translate API. Returns a new TextBlob.\u001b[39;00m\n\u001b[0;32m    541\u001b[0m \n\u001b[1;32m   (...)\u001b[0m\n\u001b[0;32m    561\u001b[0m \u001b[38;5;124;03m:rtype: :class:`BaseBlob <BaseBlob>`\u001b[39;00m\n\u001b[0;32m    562\u001b[0m \u001b[38;5;124;03m\"\"\"\u001b[39;00m\n\u001b[0;32m    563\u001b[0m warnings\u001b[38;5;241m.\u001b[39mwarn(\n\u001b[0;32m    564\u001b[0m     \u001b[38;5;124m'\u001b[39m\u001b[38;5;124mTextBlob.translate is deprecated and will be removed in a future release. \u001b[39m\u001b[38;5;124m'\u001b[39m\n\u001b[0;32m    565\u001b[0m     \u001b[38;5;124m'\u001b[39m\u001b[38;5;124mUse the official Google Translate API instead.\u001b[39m\u001b[38;5;124m'\u001b[39m,\n\u001b[0;32m    566\u001b[0m     \u001b[38;5;167;01mDeprecationWarning\u001b[39;00m\n\u001b[0;32m    567\u001b[0m )\n\u001b[1;32m--> 568\u001b[0m \u001b[38;5;28;01mreturn\u001b[39;00m \u001b[38;5;28mself\u001b[39m\u001b[38;5;241m.\u001b[39m\u001b[38;5;18m__class__\u001b[39m(\u001b[38;5;28;43mself\u001b[39;49m\u001b[38;5;241;43m.\u001b[39;49m\u001b[43mtranslator\u001b[49m\u001b[38;5;241m.\u001b[39mtranslate(\u001b[38;5;28mself\u001b[39m\u001b[38;5;241m.\u001b[39mraw,\n\u001b[0;32m    569\u001b[0m                       from_lang\u001b[38;5;241m=\u001b[39mfrom_lang, to_lang\u001b[38;5;241m=\u001b[39mto))\n",
      "\u001b[1;31mAttributeError\u001b[0m: 'str' object has no attribute 'translator'"
     ]
    }
   ],
   "source": [
    "from textblob import TextBlob\n",
    "newblob = TextBlob.translate(data,to='de')\n",
    "newblob"
   ]
  },
  {
   "cell_type": "markdown",
   "id": "a3466c67",
   "metadata": {},
   "source": [
    "But as you can see the translation is not working. You will always get the DeprecationWarning. *'TextBlob.translate is deprecated and will be removed in a future release.' 'Use the official Google Translate API instead.'*"
   ]
  },
  {
   "cell_type": "markdown",
   "id": "abe67af3",
   "metadata": {},
   "source": [
    "After this errors I wanted to try if textblob is even working. That's why I made some lines just to be sure that I installed textblob correctly."
   ]
  },
  {
   "cell_type": "code",
   "execution_count": 6,
   "id": "f4ade942",
   "metadata": {},
   "outputs": [
    {
     "data": {
      "text/plain": [
       "TextBlob(\"It's a lovely winter day here in Graz. But it is cold.\")"
      ]
     },
     "execution_count": 6,
     "metadata": {},
     "output_type": "execute_result"
    }
   ],
   "source": [
    "import textblob\n",
    "blob = textblob.TextBlob('It\\'s a lovely winter day here in Graz. But it is cold.')\n",
    "blob"
   ]
  },
  {
   "cell_type": "markdown",
   "id": "f3c08520",
   "metadata": {},
   "source": [
    "You can also simplify the code:"
   ]
  },
  {
   "cell_type": "code",
   "execution_count": 7,
   "id": "944d7c80",
   "metadata": {},
   "outputs": [
    {
     "data": {
      "text/plain": [
       "TextBlob(\"It's a lovely winter day here in Graz. But it is cold.\")"
      ]
     },
     "execution_count": 7,
     "metadata": {},
     "output_type": "execute_result"
    }
   ],
   "source": [
    "from textblob import TextBlob\n",
    "blob = TextBlob('It\\'s a lovely winter day here in Graz. But it is cold.')\n",
    "blob"
   ]
  },
  {
   "cell_type": "code",
   "execution_count": 8,
   "id": "869bcb18",
   "metadata": {},
   "outputs": [
    {
     "data": {
      "text/plain": [
       "WordList(['It', \"'s\", 'a', 'lovely', 'winter', 'day', 'here', 'in', 'Graz', 'But', 'it', 'is', 'cold'])"
      ]
     },
     "execution_count": 8,
     "metadata": {},
     "output_type": "execute_result"
    }
   ],
   "source": [
    "blob.words"
   ]
  },
  {
   "cell_type": "code",
   "execution_count": 9,
   "id": "6b3f08ad",
   "metadata": {},
   "outputs": [
    {
     "data": {
      "text/plain": [
       "[Sentence(\"It's a lovely winter day here in Graz.\"),\n",
       " Sentence(\"But it is cold.\")]"
      ]
     },
     "execution_count": 9,
     "metadata": {},
     "output_type": "execute_result"
    }
   ],
   "source": [
    "blob.sentences"
   ]
  },
  {
   "cell_type": "markdown",
   "id": "ce04e536",
   "metadata": {},
   "source": [
    "And since the programm can still indicate the words and sentences but cannot translate a little phrase I had to use another translator."
   ]
  },
  {
   "cell_type": "code",
   "execution_count": 10,
   "id": "ef266685",
   "metadata": {},
   "outputs": [
    {
     "ename": "AttributeError",
     "evalue": "'list' object has no attribute 'strip'",
     "output_type": "error",
     "traceback": [
      "\u001b[1;31m---------------------------------------------------------------------------\u001b[0m",
      "\u001b[1;31mAttributeError\u001b[0m                            Traceback (most recent call last)",
      "Input \u001b[1;32mIn [10]\u001b[0m, in \u001b[0;36m<cell line: 2>\u001b[1;34m()\u001b[0m\n\u001b[0;32m      1\u001b[0m text \u001b[38;5;241m=\u001b[39m TextBlob(\u001b[38;5;124m'\u001b[39m\u001b[38;5;124mHello how are you?\u001b[39m\u001b[38;5;124m'\u001b[39m)\n\u001b[1;32m----> 2\u001b[0m \u001b[43mtext\u001b[49m\u001b[38;5;241;43m.\u001b[39;49m\u001b[43mtranslate\u001b[49m\u001b[43m(\u001b[49m\u001b[43mto\u001b[49m\u001b[38;5;241;43m=\u001b[39;49m\u001b[38;5;124;43m'\u001b[39;49m\u001b[38;5;124;43mde\u001b[39;49m\u001b[38;5;124;43m'\u001b[39;49m\u001b[43m)\u001b[49m\n",
      "File \u001b[1;32m~\\anaconda3\\lib\\site-packages\\textblob\\blob.py:568\u001b[0m, in \u001b[0;36mBaseBlob.translate\u001b[1;34m(self, from_lang, to)\u001b[0m\n\u001b[0;32m    539\u001b[0m \u001b[38;5;124;03m\"\"\"Translate the blob to another language.\u001b[39;00m\n\u001b[0;32m    540\u001b[0m \u001b[38;5;124;03mUses the Google Translate API. Returns a new TextBlob.\u001b[39;00m\n\u001b[0;32m    541\u001b[0m \n\u001b[1;32m   (...)\u001b[0m\n\u001b[0;32m    561\u001b[0m \u001b[38;5;124;03m:rtype: :class:`BaseBlob <BaseBlob>`\u001b[39;00m\n\u001b[0;32m    562\u001b[0m \u001b[38;5;124;03m\"\"\"\u001b[39;00m\n\u001b[0;32m    563\u001b[0m warnings\u001b[38;5;241m.\u001b[39mwarn(\n\u001b[0;32m    564\u001b[0m     \u001b[38;5;124m'\u001b[39m\u001b[38;5;124mTextBlob.translate is deprecated and will be removed in a future release. \u001b[39m\u001b[38;5;124m'\u001b[39m\n\u001b[0;32m    565\u001b[0m     \u001b[38;5;124m'\u001b[39m\u001b[38;5;124mUse the official Google Translate API instead.\u001b[39m\u001b[38;5;124m'\u001b[39m,\n\u001b[0;32m    566\u001b[0m     \u001b[38;5;167;01mDeprecationWarning\u001b[39;00m\n\u001b[0;32m    567\u001b[0m )\n\u001b[1;32m--> 568\u001b[0m \u001b[38;5;28;01mreturn\u001b[39;00m \u001b[38;5;28mself\u001b[39m\u001b[38;5;241m.\u001b[39m\u001b[38;5;18m__class__\u001b[39m(\u001b[38;5;28;43mself\u001b[39;49m\u001b[38;5;241;43m.\u001b[39;49m\u001b[43mtranslator\u001b[49m\u001b[38;5;241;43m.\u001b[39;49m\u001b[43mtranslate\u001b[49m\u001b[43m(\u001b[49m\u001b[38;5;28;43mself\u001b[39;49m\u001b[38;5;241;43m.\u001b[39;49m\u001b[43mraw\u001b[49m\u001b[43m,\u001b[49m\n\u001b[0;32m    569\u001b[0m \u001b[43m                      \u001b[49m\u001b[43mfrom_lang\u001b[49m\u001b[38;5;241;43m=\u001b[39;49m\u001b[43mfrom_lang\u001b[49m\u001b[43m,\u001b[49m\u001b[43m \u001b[49m\u001b[43mto_lang\u001b[49m\u001b[38;5;241;43m=\u001b[39;49m\u001b[43mto\u001b[49m\u001b[43m)\u001b[49m)\n",
      "File \u001b[1;32m~\\anaconda3\\lib\\site-packages\\textblob\\translate.py:61\u001b[0m, in \u001b[0;36mTranslator.translate\u001b[1;34m(self, source, from_lang, to_lang, host, type_)\u001b[0m\n\u001b[0;32m     59\u001b[0m     \u001b[38;5;28;01mexcept\u001b[39;00m \u001b[38;5;167;01mIndexError\u001b[39;00m:\n\u001b[0;32m     60\u001b[0m         \u001b[38;5;28;01mpass\u001b[39;00m\n\u001b[1;32m---> 61\u001b[0m \u001b[38;5;28;43mself\u001b[39;49m\u001b[38;5;241;43m.\u001b[39;49m\u001b[43m_validate_translation\u001b[49m\u001b[43m(\u001b[49m\u001b[43msource\u001b[49m\u001b[43m,\u001b[49m\u001b[43m \u001b[49m\u001b[43mresult\u001b[49m\u001b[43m)\u001b[49m\n\u001b[0;32m     62\u001b[0m \u001b[38;5;28;01mreturn\u001b[39;00m result\n",
      "File \u001b[1;32m~\\anaconda3\\lib\\site-packages\\textblob\\translate.py:88\u001b[0m, in \u001b[0;36mTranslator._validate_translation\u001b[1;34m(self, source, result)\u001b[0m\n\u001b[0;32m     86\u001b[0m \u001b[38;5;28;01mif\u001b[39;00m PY2:\n\u001b[0;32m     87\u001b[0m     result \u001b[38;5;241m=\u001b[39m result\u001b[38;5;241m.\u001b[39mencode(\u001b[38;5;124m'\u001b[39m\u001b[38;5;124mutf-8\u001b[39m\u001b[38;5;124m'\u001b[39m)\n\u001b[1;32m---> 88\u001b[0m \u001b[38;5;28;01mif\u001b[39;00m \u001b[43mresult\u001b[49m\u001b[38;5;241;43m.\u001b[39;49m\u001b[43mstrip\u001b[49m() \u001b[38;5;241m==\u001b[39m source\u001b[38;5;241m.\u001b[39mstrip():\n\u001b[0;32m     89\u001b[0m     \u001b[38;5;28;01mraise\u001b[39;00m NotTranslated(\u001b[38;5;124m'\u001b[39m\u001b[38;5;124mTranslation API returned the input string unchanged.\u001b[39m\u001b[38;5;124m'\u001b[39m)\n",
      "\u001b[1;31mAttributeError\u001b[0m: 'list' object has no attribute 'strip'"
     ]
    }
   ],
   "source": [
    "text = TextBlob('Hello how are you?')\n",
    "text.translate(to='de')"
   ]
  },
  {
   "cell_type": "markdown",
   "id": "195c4f3e",
   "metadata": {},
   "source": [
    "## Alternative Translation with GoogleTrans"
   ]
  },
  {
   "cell_type": "markdown",
   "id": "af795e61",
   "metadata": {},
   "source": [
    "We got the error: 'TextBlob.translate is deprecated and will be removed in a future release.'"
   ]
  },
  {
   "cell_type": "markdown",
   "id": "1324f7aa",
   "metadata": {},
   "source": [
    "Therefore I chose googletrans as the translator."
   ]
  },
  {
   "cell_type": "markdown",
   "id": "be74f63c",
   "metadata": {},
   "source": [
    "I installed googletrans via the terminal as I tipped in: `pip install googletrans==3.1.0a0`. I had to use an older version of the library because the newest wasn't working for me."
   ]
  },
  {
   "cell_type": "markdown",
   "id": "d880280f",
   "metadata": {},
   "source": [
    "Again I had to move all of the new files (in my case they are located inside the path *AppData\\Local\\Packages\\PythonSoftwareFoundation.Python.3.10_qbz5n2kfra8p0\\LocalCache\\local-packages\\Python310\\site-packages*) and put them into the path *anaconda3\\Lib\\site-packages*, where also this notebook is located."
   ]
  },
  {
   "cell_type": "markdown",
   "id": "9083b773",
   "metadata": {},
   "source": [
    "At first I just tried out if the translation is possible."
   ]
  },
  {
   "cell_type": "code",
   "execution_count": 11,
   "id": "299bb870",
   "metadata": {},
   "outputs": [],
   "source": [
    "import googletrans\n",
    "from googletrans import Translator\n",
    "from googletrans import LANGUAGES"
   ]
  },
  {
   "cell_type": "code",
   "execution_count": 12,
   "id": "b9e2db59",
   "metadata": {},
   "outputs": [],
   "source": [
    "translator=Translator()"
   ]
  },
  {
   "cell_type": "code",
   "execution_count": 13,
   "id": "67bbd329",
   "metadata": {},
   "outputs": [],
   "source": [
    "translated = translator.translate('Ciao mondo!', dest='en')"
   ]
  },
  {
   "cell_type": "code",
   "execution_count": 14,
   "id": "048fe844",
   "metadata": {},
   "outputs": [
    {
     "data": {
      "text/plain": [
       "'Hello World!'"
      ]
     },
     "execution_count": 14,
     "metadata": {},
     "output_type": "execute_result"
    }
   ],
   "source": [
    "translated.text"
   ]
  },
  {
   "cell_type": "code",
   "execution_count": 15,
   "id": "af7cd21e",
   "metadata": {},
   "outputs": [
    {
     "name": "stdout",
     "output_type": "stream",
     "text": [
      "Translated(src=it, dest=en, text=Hello World!, pronunciation=Hello World!, extra_data=\"{'translat...\")\n"
     ]
    }
   ],
   "source": [
    "print(translated)"
   ]
  },
  {
   "cell_type": "markdown",
   "id": "630a3d3d",
   "metadata": {},
   "source": [
    "(From the ouput above you can also see the language in which the text is written even if you don't understand the language. In this case it is 'it' which is italian as you can see in the dictionary below. The dictionary includes every language that can be translated with googletrans.)"
   ]
  },
  {
   "cell_type": "code",
   "execution_count": 16,
   "id": "9a5852ea",
   "metadata": {},
   "outputs": [
    {
     "name": "stdout",
     "output_type": "stream",
     "text": [
      "{'af': 'afrikaans', 'sq': 'albanian', 'am': 'amharic', 'ar': 'arabic', 'hy': 'armenian', 'az': 'azerbaijani', 'eu': 'basque', 'be': 'belarusian', 'bn': 'bengali', 'bs': 'bosnian', 'bg': 'bulgarian', 'ca': 'catalan', 'ceb': 'cebuano', 'ny': 'chichewa', 'zh-cn': 'chinese (simplified)', 'zh-tw': 'chinese (traditional)', 'co': 'corsican', 'hr': 'croatian', 'cs': 'czech', 'da': 'danish', 'nl': 'dutch', 'en': 'english', 'eo': 'esperanto', 'et': 'estonian', 'tl': 'filipino', 'fi': 'finnish', 'fr': 'french', 'fy': 'frisian', 'gl': 'galician', 'ka': 'georgian', 'de': 'german', 'el': 'greek', 'gu': 'gujarati', 'ht': 'haitian creole', 'ha': 'hausa', 'haw': 'hawaiian', 'iw': 'hebrew', 'he': 'hebrew', 'hi': 'hindi', 'hmn': 'hmong', 'hu': 'hungarian', 'is': 'icelandic', 'ig': 'igbo', 'id': 'indonesian', 'ga': 'irish', 'it': 'italian', 'ja': 'japanese', 'jw': 'javanese', 'kn': 'kannada', 'kk': 'kazakh', 'km': 'khmer', 'ko': 'korean', 'ku': 'kurdish (kurmanji)', 'ky': 'kyrgyz', 'lo': 'lao', 'la': 'latin', 'lv': 'latvian', 'lt': 'lithuanian', 'lb': 'luxembourgish', 'mk': 'macedonian', 'mg': 'malagasy', 'ms': 'malay', 'ml': 'malayalam', 'mt': 'maltese', 'mi': 'maori', 'mr': 'marathi', 'mn': 'mongolian', 'my': 'myanmar (burmese)', 'ne': 'nepali', 'no': 'norwegian', 'or': 'odia', 'ps': 'pashto', 'fa': 'persian', 'pl': 'polish', 'pt': 'portuguese', 'pa': 'punjabi', 'ro': 'romanian', 'ru': 'russian', 'sm': 'samoan', 'gd': 'scots gaelic', 'sr': 'serbian', 'st': 'sesotho', 'sn': 'shona', 'sd': 'sindhi', 'si': 'sinhala', 'sk': 'slovak', 'sl': 'slovenian', 'so': 'somali', 'es': 'spanish', 'su': 'sundanese', 'sw': 'swahili', 'sv': 'swedish', 'tg': 'tajik', 'ta': 'tamil', 'te': 'telugu', 'th': 'thai', 'tr': 'turkish', 'uk': 'ukrainian', 'ur': 'urdu', 'ug': 'uyghur', 'uz': 'uzbek', 'vi': 'vietnamese', 'cy': 'welsh', 'xh': 'xhosa', 'yi': 'yiddish', 'yo': 'yoruba', 'zu': 'zulu'}\n"
     ]
    }
   ],
   "source": [
    "print(LANGUAGES)"
   ]
  },
  {
   "cell_type": "markdown",
   "id": "9a07ad55",
   "metadata": {},
   "source": [
    "### German translation with googletrans"
   ]
  },
  {
   "cell_type": "markdown",
   "id": "bfdadc8b",
   "metadata": {},
   "source": [
    "If you try to translate the whole file 'ice_man' it will not translate a single word because the maximum character limit on a single text is 15k."
   ]
  },
  {
   "cell_type": "code",
   "execution_count": 17,
   "id": "01bda254",
   "metadata": {},
   "outputs": [
    {
     "data": {
      "text/plain": [
       "'I married the Ice Man.\\nI first met the Ice Man at this ski resort hotel. I guess that’s the kind of place one ought to meet an Ice Man. In the boisterous hotel lobby, crowded with young people, the Ice Man was sitting in a chair at the furthest possible remove from the fireplace, silently reading a book. Though it was approaching high noon, it seemed to me that the cool, fresh light of the winter morning still lingered around him. Hey, that’s the Ice Man, my friend informed me in a low voice. But at that time, I had no idea what in the world an Ice Man was. My friend didn’t really know, either. She just knew that he existed and was called the Ice Man. She’s sure he’s made out of ice. That’s why he’s called the Ice Man, she said to me with a serious expression. It was like she was talking about a ghost or somebody with a contagious disease or something.\\n\\nThe Ice Man was tall, and from looking at him, his hair seemed bristly. When I saw his face, he looked fairly young still, but that thick, wiry hair was white, like it had been mixed with melted snow. He had high cheek-bones that appeared to have been chiseled out of cold, hard rock, and there was a slight coating of unmelted white frost on his fingers, but other than that the Ice Man’s appearance wasn’t much different from a normal person. While he probably couldn’t have been called handsome, there was undeniably something charming in his bearing. There are some people that just jab you sharply in the heart. It was especially this way with him, so he really stood out. He had a shy, transparent look, like an icicle on a winter morning. There was something in the way his body was put together that made his whole being seem to sparkle. I stood there for a moment and gazed at the Ice Man from afar. But the Ice Man didn’t lift his face from his book even once. Without moving so much as a muscle, he continued reading. It was as if he was trying to persuade himself that there wasn’t anybody at all around him.\\n\\nThe next day, the Ice Man was in the same place, reading a book exactly the same way. When I went to the cafeteria to get lunch, and again when I came back in the evening from skiing with everybody else, he was sitting in the same chair as the day before, pouring over the top of a page of the same book with the same expression on his face. And the next day was the same. The day passed, the night grew late, and he sat there as quietly as the winter outside the window, reading his book alone.\\n\\nOn the afternoon of the fourth day, I fashioned an appropriate excuse and didn’t go out to the slopes. Staying behind alone in the hotel, I wandered around the lobby for a while. Since everyone had gone out for an afternoon skiing, the lobby was deserted like a ghost town. The air in the lobby was unnecessarily warm and moist, and there was a strange, dank smell mixed in with it. It was the smell of people tracking snow into the hotel on the bottom of their boots and then carelessly sitting by the fireplace, where it slowly melted off. I stared vacantly out the various windows, and flipped through the newspaper. Then, bravely walking up to the Ice Man, I boldly started a conversation. I’m normally a very shy person, and not at all in the habit of talking to total strangers. But at that time, I really wanted to talk to the Ice Man, no matter what. It was our last night in that hotel, and I thought that if I let it slip away, I might never have another chance to talk to an Ice Man.\\n\\nDon’t you ski? I asked the Ice Man, trying to sound as casual as possible. He slowly raised his head. He had an expression on his face like he could a hear the sound of wind blowing from incredibly far away. He looked at my face with eyes like that. He silently shook his head. I don’t ski. I’m fine just reading a book and watching the snow fall, he said. His words made little white clouds in the air, like when you breathe on a TV screen. I could literally see his words with my own eyes. He gently brushed off the frost that had accumulated on his fingers.\\n\\nI didn’t know what to say after that. I just stood there blushing. The Ice Man looked in my eyes. Then he seemed to smile a little. But I wasn’t really sure. Did he really smile? Or was it just a feeling? Won’t you sit down? the Ice Man said. Let’s have a little conversation. You’re curious about me, right? You want to know what an Ice Man is, right? Then he really did laugh a little. It’s OK. There’s nothing to worry about. You won’t catch a cold or anything talking to me.\\n\\nThis is how I came to talk to the Ice Man. Sitting side-by-side on the sofa in the corner of the lobby, watching the snow flakes dance on the other side of the window, our conversation proceeded haltingly. I ordered some cocoa and drank it. The Ice Man didn’t have anything. He was just as bad a conversationalist as me. In addition, we didn’t really have anything in common to talk about. At first, we talked about the weather. Then, how cozy the hotel was. Did you come here alone? I asked the Ice Man. Yes, the Ice Man replied. The Ice Man asked me whether I liked to ski. Not really, I responded. My girlfriends invited me to go skiing with them for some reason, but I’m not very good at it. I really wanted to know what kind of thing the Ice Man was: whether he was really made out of ice or not; what he ate; where he spent the summer; whether he had a family–that type of thing. But the Ice Man didn’t seem to want to talk about himself. I didn’t dare to broach the subject either. He probably just doesn’t like to talk about stuff like that, I thought.\\n\\nInstead, we talked about me as a human being. I really couldn’t believe it, but, for whatever reason, the Ice Man knew all kinds of things about me: the make up of my family, my age, my hobbies, my health, the school I attended, the friends I hung out with–he knew it all from beginning to end. He knew things about me that had happened so long ago that I had forgotten about them.\\nI don’t understand, I said, blushing. I had this feeling like I was naked in public. How do you know so much about me? I asked. Can you read people’s minds?\\n\\nNo, it is not possible for me to read people’s minds. But I know. I just know, he said. It’s just like seeing something frozen in ice. So, when I looked at you, I could see all kinds of things about you clearly.\\n\\nCan you see my future? I asked.\\n\\nI can’t see the future, the Ice Man said expressionlessly. And he shook his head slowly. I’m not interested in the future at all. To speak more precisely, I have no concept of the future. Ice has no future. It just captures the past. It captures everything just as it was in life, fresh, and preserves it that way. Ice can preserve all kinds of things in this way. Totally freshly, totally clearly. Just as it is. That’s the purpose of ice, it’s true quality.\\nGood, I said. I laughed a little. I’m relieved to hear it. I don’t want to know anything about my future.\\n\\n\\nAfter we had returned to Tokyo, we got together frequently. Eventually, we were going out on dates nearly every weekend. But we didn’t go out to movies together, or to coffee shops. We didn’t even have dinner. We’d always go to parks together, sit on a bench, and talk about stuff. We really talked about a lot of different stuff. But as always, the Ice Man wouldn’t say anything about himself. Why is that? I asked him. How come you never talk about yourself? I want to know more about you–where you were born, what kind of people your parents were, and how you got to be an Ice Man. The Ice Man looked at my face for a moment. Then he slowly shook his head. I don’t know either, the Ice Man said, his voice barely above a whisper. Then he exhaled a hard, white breath into the air. I don’t have a past. I know all things past. I preserve all things past. But I myself don’t have a past. I don’t know where I was born. I wouldn’t recognize my parents if I saw them. I don’t even know whether or not I have parents. I don’t even know how old I am. I don’t even know whether I have an age or not.\\nThe Ice Man was as isolated as an iceberg in the mist.\\n\\nAnd gradually I came to love the Ice Man very deeply. Having no past and no future, he loved just the me of the present. And I loved just the present Ice Man, without a past and without a future. This seemed a splendid thing to me. We even began to speak of marriage. I had just turned twenty years old. And the Ice Man was the first person to inspire such feelings in me. I couldn’t imagine then what in the world it meant to love the Ice Man. But if, hypothetically, the Ice Man hadn’t been my partner, but someone else instead, I wouldn’t have known anything then either, I guess.\\n\\nMy mother and my sister were strongly opposed to me marrying the Ice Man. You’re too young to get married, they said. You don’t even know clearly what kind of person he is, or what his family is like. Or where he was born, or when. As your family, we can’t consent to you marrying such a person. And, besides, he’s an Ice Man. What happens if he melts? they said. I know you don’t really understand it, but marriage is a big responsibility. Do you really think that you’re capable of the responsibility of marrying this Ice Man?\\n\\nBut their fears were needless. It wasn’t like the Ice Man was actually made out of ice. He was just cool like ice. He doesn’t melt if he gets too warm. That chilliness really was like ice, but his body was different from ice. And while he was incredibly cold, it wasn’t the kind of coldness that robs other people of their body heat.\\n\\nSo we got married. No one celebrated our wedding, though. Not my friends, or my parents, or my sisters: no one was happy about it. We didn’t have a ceremony. Since the Ice Man didn’t have a family register, we didn’t even apply for a marriage license. We just jointly decided that we were married. We bought a small cake and ate it together. That was the extent of our meager wedding. We rented a little apartment, and the Ice Man got a job at a meat storehouse to cover our expenses. He liked the cold a lot, and no matter how hard he worked, he never got tired. He didn’t even stop much to eat. Naturally, he quickly caught the boss’s eye, and was rewarded with a higher salary than anybody else. We didn’t bother anybody and nobody bothered us; and we had a quiet, happy life together.\\n\\nWhenever the Ice Man embraced me, I always thought of this quiet, still iceberg that existed in some far off place. I thought that the Ice Man probably knew where that iceberg was. The ice was hard, harder than anything I could think of. It was the biggest iceberg in the world. But it was in some incredibly far away place. He was telling the secret of that ice to the world. At first, the Ice Man’s embraces made me feel disoriented, but after a while I got used to it. I even came to love it. As always, he didn’t talk about himself at all. Not even why he became the Ice Man. And I didn’t ask anything. Embracing in the silence, we shared that huge, still iceberg. The entirety of past events of the whole world for billions of years was stored pristinely, just as it was, inside that ice.\\n\\nIn our married life, there weren’t really any problems that could properly be called problems. We loved each other deeply, and nothing impeded that. While the neighbors seemed as if they were quite unfamiliar with the existence of Ice Men, as time passed, little by little they began to talk to him. Even though he’s an Ice Man, he’s no different than anybody else, they came to say. But in the depths of their hearts they never really accepted him, and so they never really accepted that I was married to him. We were a different type of human being from them, and no matter how much time passed, that chasm could never be filled.\\n\\nThe two of us were unable to have children. Perhaps the result of mixing human and Ice Man genes was problematic. In any event, since we didn’t have any children, I had an abundance of free time. I’d take care of the house work fairly quickly in the morning, but after that there was nothing to do. I didn’t have any friends to talk to, or to go somewhere with, and I didn’t have much to do with the neighbors. My mother and sisters, still mad that I had married the Ice Man, weren’t speaking to me. They were ashamed of my household. There wasn’t even anyone to call on the telephone. While the Ice Man was working at the storehouse, I stayed at home all alone, reading books or listening to music. I generally prefer staying at home to going out anyway, and I’m not the kind of person for whom being alone is a trial. But in spite of this, I was still young, and the endless daily repetition without any variation began to get me down. It wasn’t the boredom that got to me. The thing I couldn’t bear was the repetition. In the midst of that endless repetition, I felt kind of like my own shadow.\\n\\nSo one day, I made a proposal to my husband. Why don’t we go on a trip together somewhere, for a change of pace. Trip? he said. He narrowed his eyes as he looked at me. Why in the world should we take a trip? Aren’t you happy living here with me?\\n\\nIt’s not that, I said. I’m perfectly happy. There are no problems between us. It’s just that I’m bored. I want to go somewhere far away and see things I’ve never seen before. I want to breath air I’ve never breathed before. Do you understand? And anyway, we never went on a honeymoon. We have plenty of money in the bank, and taking a few days off shouldn’t be a problem. I just think a relaxing trip somewhere would be nice.\\n\\nThe Ice Man heaved a deep, frozen sigh. The sigh made a crisp sound as the air crystallized. He brought his long, frost-covered fingers together on his knee. I guess so. If you want to go on a trip so badly, I’m not particularly opposed to it. I don’t think it’s such a good idea to take a trip, but if it will make you happy, I’ll do whatever you want, go wherever you want to go. Taking a vacation should be OK since I always work really hard when I’m there. I don’t think there will be any problem. But where do you want to go?\\n\\nHow about the South Pole? I ventured. I chose the South Pole because I thought the Ice Man would be interested in a cold place. And besides, I’ve always wanted to go to the South Pole sometime. I wanted to see the Northern Lights, and penguins. I imagined myself wearing a fur coat with an attached hood, playing with a flock of penguins under a sky lit up by the aurora borealis.\\n\\nWhen I said this, my husband the Ice Man looked straight into my eyes. He didn’t blink even once. His gaze like sharp icicles, it pierced through my eyes to the back of my head. He pondered it silently for a moment, and finally said It’s fine, with a twinkle. Fine, if that’s what you want to do, we’ll go to the South Pole. That’s what you want to do?\\n\\nI agreed.\\n\\nIn about two weeks I think I can take a long vacation. We can probably make all the preparations before then. Really, it won’t be a problem.\\nI couldn’t respond right away. When the Ice Man had looked at me with that icicle gaze, it had numbed the inside of my head.\\n\\nHowever, with the passage of time, I came to regret that I had ever brought up the idea of going to the South Pole with my husband. I don’t know why this was so. Before the words ‘South Pole’ came out of my mouth, I had this feeling that something had changed in him. His gaze had become even sharper and more icicle-like than before; his breath had become even whiter than before; and even more frost accumulated on his fingers than before. He became even more stubborn and reticent. Now, he wasn’t eating anything at all. All of these things made me terribly uneasy. Five days before we were due to depart, I boldly made a proposal to my husband. Let’s call off the South Pole trip, I said. I’ve thought about it a little, and it’s so cold, it will probably be bad for me.\\n\\nIt just seems like it would be a better idea to go somewhere a little more normal. I bet Europe is really nice; why don’t we go to Spain instead? We could drink wine, and eat paella, and watch bullfights. But my husband didn’t respond. For a little while, he just stared at some place far away. Then he looked at my face. He peered deeply into my eyes. That look, was so deep that I felt as if my body, just as it was, had evaporated into nothing. No, I don’t want to go to Spain, my husband, the Ice Man, said plainly. I know it’s not fair to you, but Spain is too hot and dusty for me. And the food is too spicy. Anyway, we’ve already bought to tickets for the South Pole. We’ve already bought a fur coat for you, and a pair of fur-lined boots. We can’t afford to waste all that. At this point, we have to go.\\n\\nThe way he said it scared me. I had this sense of foreboding that, if we went to the South Pole, something would happen and we would lose something that we would never be able to recover. I had terrible nightmares over and over. It was the same dream each time. In the dream, I was taking a walk, and I fell in a deep hole in the ground, but no one discovered me and I ended up being frozen there. Trapped inside that ice, I could see the sky clearly. I was conscious, but I couldn’t move even a single finger. It was a terribly strange feeling. I understood as moment by moment the present changed into the past. I had no future. The past kept piling up irreversibly. And everyone kept staring at me. They were looking at the past. I was looking backwards at passing scenes.\\n\\nAnd then I would wake up. The Ice Man was sleeping next to me. He slept without breathing at all. Just like he had died and frozen that way or something. But I loved the Ice Man. I’d start to cry. My tears would land on his cheek. Then he’d wake up and hold me in his arms. I had a bad dream, I’d say. He’d shake his head silently in the darkness. It was just a dream, he’d say. Dreams are things from the past. They aren’t from the future. That wasn’t you imprisoned there. You imprison your dreams. You understand?\\n\\nYeah, I’d say. But I wasn’t convinced.\\n\\n\\nEventually, my husband and I boarded the plane for the South Pole. There just wasn’t a good enough reason to cancel it. The pilot and the stewardesses on the plane to the South Pole were all totally silent. I really wanted to look at the scenery outside the window, but the clouds were thick and I couldn’t see anything. After a while, they were completely covered with ice anyway. My husband just silently read a book all the while. I didn’t have the excitement or sense of anticipation that usually accompanies going on a trip. I was just going through a set of pre-determined motions.\\n\\nWhen I first stepped off the gangway and onto the surface of the South Pole, I could feel my husband’s whole body tremble violently. It was quicker than a wink, maybe half the time that it takes to blink, so no one noticed; and my husband didn’t so much as bat an eyelash, but I couldn’t miss it. Something deep inside my husband’s body had shuddered violently, although in secret. He stopped there, looked at the sky, then stared at his hands, and finally took a deep breath. Then he looked me in the eye and beamed merrily. So, this is the land of your dreams, he said. Yeah, I said.\\n\\nThe gloominess of the South Pole exceeded even the worst of my premonitions. Almost no one lived there. There is just one little featureless town there. In the town, there is just one little featureless hotel. There are no sights to see. There aren’t even any penguins. You can’t see the Northern Lights. Occasionally, I’d set about trying to ask people where I might be able to see penguins, but they would just shake their heads silently. They couldn’t comprehend my speech. I would try to draw a picture of a penguin on a piece of paper. But of course, they would just shake their heads silently. I was all alone. If you took one step outside of town, there was nothing beyond but ice. There weren’t any trees; there weren’t any flowers; no rivers, no ponds, no nothing. Wherever you went, there was nothing but ice. Frozen wasteland stretched out as far as the eye could see in every direction.\\n\\nAnd yet my husband, breathing his white breath, frost growing on his fingers, his eyes, as ever, glaring icicle-like, walked around from place to place vigorously, as if knowing no satiation. The native speech of that land quickly returned to him, and he had conversations with the people of the town, in a voice that rang as hard as ice. They talked together for hours at a time, with serious expressions on their faces. I couldn’t understand at all what in the world they were talking about so earnestly. My husband was completely delirious in that place. There was something there that entranced him. At first, this really irritated me. I felt as though I had been left behind by myself. I felt neglected and betrayed by my husband.\\n\\nEventually, though, I lost all of my strength, in the midst of that desert world, hemmed in by thick ice. Slowly, gradually. I even lost the power to be upset. It was like I had misplaced the compass of my senses. Direction vanished, time vanished, even my awareness of my own existence vanished. I don’t know when this process began or when it ended. I came to realize, though, that I was imprisoned all alone, senseless, in the midst of that world of ice, in the midst of that color-starved eternal winter. After my senses were almost all gone, I understood only this. My husband in the South Pole was not my former husband. It wasn’t that his behavior toward me had changed. He was as concerned about me as ever, and his speech was always kind. And I’m sure that he meant everything that he said. He was simply a different Ice Man than the one that I met at the ski lodge. But there wasn’t anyone there who I could ask about it. All of the South Poleans were friends with him, and besides, they couldn’t understand my speech. They all breathed their white breaths, frost grew on their faces, and they told their jokes, debated their debates, and sang their songs in South Pole-ese. I ended up locking myself in my room alone, staring blankly at the never-changing gray sky, and pouring over the impossibly complicated mystery of South Pole-ese grammar, even though I had no hope of ever mastering it.\\n\\nThere were no planes at the airstrip. After the plane that had brought us here promptly took off again, there hadn’t been even one single arrival. The runway had eventually become buried in a thick layer of ice. Just like my heart.\\n\\nWinter has come, my husband said. It’s a very long winter. No planes will come, no ships will come. Everything is frozen. We’ll just have to wait here for the spring, he said.\\n\\nAfter we had been in the South Pole for about three months, I realized that I was pregnant. I knew right away: the child to whom I would give birth was a little Ice Man. My uterus was covered with ice, and the amniotic fluid was mingled with slush. I could feel the chill growing in my abdomen. I just knew. The child would have his father’s icicle gaze, and frost would grow on his little fingers. And I just knew: our new family would never again leave the South Pole. Our feet would surely catch on the insensate mass of the eternal past. No matter how hard we tried, we would never shake it off.\\n\\nNow, there is almost nothing left of my former self. My natural warmth has been displaced far, far away. Sometimes I forget that I ever even had it. And yet somehow I can still cry. I am truly alone. I am in a colder, lonelier place than anyone in the whole world. When I cry, the Ice Man kisses my cheek. His kisses turn my tears to ice. Then he takes these ice tears in his hand and sets them on his tongue. I love you, he says. It’s not a lie. I understand this well. The Ice Man loves me. But then, from some far-off place, a wind stirs and blows his white, frozen words away, away, into the past. I cry. Icy tears stream down my face. In our far away, frozen home at the South Pole.'"
      ]
     },
     "execution_count": 17,
     "metadata": {},
     "output_type": "execute_result"
    }
   ],
   "source": [
    "german = translator.translate(data, dest='de')\n",
    "german.text"
   ]
  },
  {
   "cell_type": "markdown",
   "id": "6eb23ce0",
   "metadata": {},
   "source": [
    "Therefore I had to split the \"story\" into two parts and create two new files which I translated seperatly."
   ]
  },
  {
   "cell_type": "code",
   "execution_count": 18,
   "id": "8d35f68b",
   "metadata": {},
   "outputs": [],
   "source": [
    "with open('texts/nlp/ice_man1.txt', encoding='utf-8') as fh:\n",
    "    part1 = fh.read()"
   ]
  },
  {
   "cell_type": "code",
   "execution_count": 19,
   "id": "331c1d81",
   "metadata": {},
   "outputs": [
    {
     "data": {
      "text/plain": [
       "'Ich habe den Mann aus dem Eis geheiratet.\\nIch habe den Mann aus dem Eis zum ersten Mal in diesem Skiresorthotel getroffen. Ich denke, das ist die Art von Ort, an dem man einen Mann aus dem Eis treffen sollte. In der ausgelassenen, von jungen Leuten überfüllten Hotellobby saß der Mann aus dem Eis auf einem möglichst weit vom Kamin entfernten Stuhl und las schweigend ein Buch. Obwohl es auf den hohen Mittag zuging, schien es mir, als ob das kühle, frische Licht des Wintermorgens ihn noch immer umgab. Hey, das ist der Mann aus dem Eis, teilte mir mein Freund mit leiser Stimme mit. Aber damals hatte ich keine Ahnung, was um alles in der Welt ein Mann aus dem Eis war. Mein Freund wusste es auch nicht wirklich. Sie wusste nur, dass er existierte und der Ice Man genannt wurde. Sie ist sich sicher, dass er aus Eis besteht. Deshalb heißt er der Mann aus dem Eis, sagte sie mit ernster Miene zu mir. Es war, als würde sie über einen Geist oder jemanden mit einer ansteckenden Krankheit oder so etwas sprechen.\\n\\nDer Mann aus dem Eis war groß, und wenn man ihn so ansah, wirkte sein Haar struppig. Als ich sein Gesicht sah, sah er noch ziemlich jung aus, aber sein dickes, drahtiges Haar war weiß, als wäre es mit geschmolzenem Schnee vermischt worden. Er hatte hohe Wangenknochen, die aussahen, als wären sie aus kaltem, hartem Fels gemeißelt worden, und auf seinen Fingern war ein leichter Überzug aus ungeschmolzenem, weißem Reif, aber ansonsten unterschied sich das Aussehen des Mannes aus dem Eis kaum von dem eines normalen Menschen . Obwohl er wahrscheinlich nicht als gutaussehend bezeichnet werden konnte, hatte seine Haltung unbestreitbar etwas Charmantes. Es gibt Menschen, die stechen einem einfach mitten ins Herz. Bei ihm war es besonders so, da fiel er wirklich auf. Er hatte einen schüchternen, transparenten Blick, wie ein Eiszapfen an einem Wintermorgen. Irgendetwas in der Art, wie sein Körper zusammengesetzt war, ließ sein ganzes Wesen strahlen. Ich stand einen Moment da und betrachtete den Mann aus dem Eis aus der Ferne. Aber der Mann aus dem Eis hob sein Gesicht kein einziges Mal von seinem Buch. Ohne sich auch nur einen Muskel zu bewegen, las er weiter. Es war, als versuchte er sich einzureden, dass überhaupt niemand um ihn herum war.\\n\\nAm nächsten Tag war der Mann aus dem Eis am selben Ort und las ein Buch auf die gleiche Weise. Als ich in die Cafeteria ging, um zu Mittag zu essen, und abends wieder mit allen anderen vom Skifahren zurückkam, saß er auf demselben Stuhl wie am Tag zuvor und goss über den Rand einer Seite desselben Buches mit dem gleichen Gesichtsausdruck. Und am nächsten Tag war es genauso. Der Tag verging, die Nacht wurde spät, und er saß so still wie der Winter vor dem Fenster und las allein sein Buch.\\n\\nAm Nachmittag des vierten Tages fand ich eine angemessene Ausrede und ging nicht auf die Piste. Ich blieb allein im Hotel zurück und wanderte eine Weile durch die Lobby. Da alle zum Skifahren am Nachmittag ausgegangen waren, war die Lobby verlassen wie eine Geisterstadt. Die Luft in der Lobby war unnötig warm und feucht, und ein seltsamer, feuchter Geruch war damit vermischt. Es war der Geruch von Leuten, die mit ihren Stiefeln Schnee ins Hotel schleppten und dann achtlos am Kamin saßen, wo er langsam schmolz. Ich starrte geistesabwesend aus den verschiedenen Fenstern und blätterte in der Zeitung. Dann ging ich mutig auf den Mann aus dem Eis zu und begann mutig ein Gespräch. Ich bin normalerweise eine sehr schüchterne Person und überhaupt nicht daran gewöhnt, mit völlig Fremden zu sprechen. Aber damals wollte ich unbedingt mit dem Mann aus dem Eis sprechen. Es war unsere letzte Nacht in diesem Hotel, und ich dachte, wenn ich es mir entgehen lasse, werde ich vielleicht nie wieder die Gelegenheit haben, mit einem Mann aus dem Eis zu sprechen.\\n\\nDu fährst nicht Ski? fragte ich den Mann aus dem Eis und versuchte, so lässig wie möglich zu klingen. Langsam hob er den Kopf. Er hatte einen Ausdruck auf seinem Gesicht, als könnte er das Geräusch von Wind aus unglaublicher Entfernung hören. Er sah mir mit solchen Augen ins Gesicht. Er schüttelte stumm den Kopf. Ich fahre nicht Ski. Mir geht es gut, wenn ich nur ein Buch lese und dem Schneefall zusehe, sagte er. Seine Worte machten kleine weiße Wolken in der Luft, als würde man auf einem Fernsehbildschirm atmen. Ich konnte seine Worte buchstäblich mit meinen eigenen Augen sehen. Er wischte vorsichtig den Reif ab, der sich auf seinen Fingern angesammelt hatte.\\n\\nIch wusste nicht, was ich danach sagen sollte. Ich stand nur da und errötete. Der Mann aus dem Eis sah mir in die Augen. Dann schien er ein wenig zu lächeln. Aber ich war mir nicht sicher. Hat er wirklich gelächelt? Oder war es nur ein Gefühl? Willst du dich nicht setzen? sagte der Eismann. Lassen Sie uns ein kleines Gespräch führen. Du bist neugierig auf mich, oder? Du willst wissen, was ein Ice Man ist, richtig? Dann lachte er wirklich ein wenig. Es ist in Ordnung. Da gibt es nichts worüber man sich Sorgen machen müsste. Du wirst keine Erkältung bekommen oder irgendetwas, wenn du mit mir redest.\\n\\nSo kam ich dazu, mit dem Mann aus dem Eis zu sprechen. Wir saßen Seite an Seite auf dem Sofa in der Ecke der Lobby und beobachteten, wie die Schneeflocken auf der anderen Seite des Fensters tanzten, und unser Gespräch verlief stockend. Ich bestellte etwas Kakao und trank ihn. Der Eismann hatte nichts. Er war ein genauso schlechter Gesprächspartner wie ich. Außerdem hatten wir nicht wirklich etwas gemeinsam, worüber wir reden könnten. Zuerst sprachen wir über das Wetter. Dann, wie gemütlich das Hotel war. Bist du allein hierher gekommen? Ich habe den Mann aus dem Eis gefragt. Ja, antwortete der Mann aus dem Eis. Der Mann aus dem Eis fragte mich, ob ich gerne Ski fahre. Nicht wirklich, antwortete ich. Meine Freundinnen haben mich aus irgendeinem Grund zum Skifahren eingeladen, aber ich bin nicht sehr gut darin. Ich wollte wirklich wissen, was für ein Ding der Mann aus dem Eis war: ob er wirklich aus Eis war oder nicht; was er gegessen hat; wo er den Sommer verbrachte; ob er eine Familie hatte – so etwas. Aber der Mann aus dem Eis schien nicht über sich selbst sprechen zu wollen. Ich habe mich auch nicht getraut, das Thema anzusprechen. Wahrscheinlich redet er einfach nicht gern über solche Sachen, dachte ich.\\n\\nStattdessen sprachen wir über mich als Mensch. Ich konnte es wirklich nicht glauben, aber aus welchen Gründen auch immer wusste der Mann aus dem Eis alles Mögliche über mich: die Zusammensetzung meiner Familie, mein Alter, meine Hobbys, meine Gesundheit, die Schule, die ich besuchte, die Freunde, die ich aufhängte aus – er kannte alles von Anfang bis Ende. Er wusste Dinge über mich, die so lange her waren, dass ich sie vergessen hatte.\\nIch verstehe nicht, sagte ich und errötete. Ich hatte dieses Gefühl, als wäre ich in der Öffentlichkeit nackt. Woher weißt du so viel über mich? Ich fragte. Kannst du die Gedanken der Menschen lesen?\\n\\nNein, es ist mir nicht möglich, die Gedanken der Menschen zu lesen. Aber ich weiß. Ich weiß es einfach, sagte er. Es ist, als würde man etwas in Eis gefroren sehen. Als ich dich also ansah, konnte ich alle möglichen Dinge an dir deutlich sehen.\\n\\nKannst du meine Zukunft sehen? Ich fragte.\\n\\nIch kann nicht in die Zukunft sehen, sagte der Mann aus dem Eis ausdruckslos. Und er schüttelte langsam den Kopf. Ich interessiere mich überhaupt nicht für die Zukunft. Genauer gesagt habe ich keinen Begriff von der Zukunft. Eis hat keine Zukunft. Es fängt nur die Vergangenheit ein. Es fängt alles so ein, wie es im Leben war, frisch, und bewahrt es so. Eis kann auf diese Weise allerlei Dinge konservieren. Ganz frisch, ganz klar. So wie es ist. Das ist der Zweck von Eis, es ist wahre Qualität.\\nGut, sagte ich. Ich lachte ein wenig. Ich bin erleichtert, das zu hören. Ich will nichts über meine Zukunft wissen.\\n\\n\\nNachdem wir nach Tokio zurückgekehrt waren, trafen wir uns häufig. Schließlich gingen wir fast jedes Wochenende zu Verabredungen aus. Aber wir gingen nicht zusammen ins Kino oder in Cafés. Wir haben nicht einmal zu Abend gegessen. Wir sind immer zusammen in Parks gegangen, haben uns auf eine Bank gesetzt und über Sachen geredet. Wir haben wirklich über viele verschiedene Dinge gesprochen. Aber wie immer wollte der Mann aus dem Eis nichts über sich sagen. Warum ist das so? Ich fragte ihn. Wie kommt es, dass du nie über dich sprichst? Ich möchte mehr über dich erfahren – wo du geboren wurdest, was für Menschen deine Eltern waren und wie du ein Mann aus dem Eis wurdest. Der Mann aus dem Eis sah mir einen Moment lang ins Gesicht. Dann schüttelte er langsam den Kopf. Ich weiß es auch nicht, sagte der Mann aus dem Eis, seine Stimme kaum mehr als ein Flüstern. Dann stieß er einen harten, weißen Atem in die Luft aus. Ich habe keine Vergangenheit. Ich weiß alles Vergangene. Ich bewahre alles Vergangene. Aber ich selbst habe keine Vergangenheit. Ich weiß nicht, wo ich geboren wurde. Ich würde meine Eltern nicht erkennen, wenn ich sie sehen würde. Ich weiß nicht einmal, ob ich Eltern habe oder nicht. Ich weiß nicht einmal, wie alt ich bin. Ich weiß nicht einmal, ob ich ein Alter habe oder nicht.\\nDer Mann aus dem Eis war so isoliert wie ein Eisberg im Nebel.\\n\\nUnd nach und nach habe ich den Mann aus dem Eis sehr ins Herz geschlossen. Ohne Vergangenheit und Zukunft liebte er nur das Ich der Gegenwart. Und ich liebte gerade den gegenwärtigen Ice Man, ohne Vergangenheit und ohne Zukunft. Das schien mir eine großartige Sache zu sein. Wir fingen sogar an, über die Ehe zu sprechen. Ich war gerade zwanzig Jahre alt geworden. Und der Mann aus dem Eis war die erste Person, die solche Gefühle in mir hervorrief. Ich konnte mir damals nicht vorstellen, was es bedeutete, den Mann aus dem Eis zu lieben. Aber wenn, hypothetisch, der Mann aus dem Eis nicht mein Partner gewesen wäre, sondern jemand anderes, hätte ich damals auch nichts gewusst, denke ich.\\n\\nMeine Mutter und meine Schwester waren entschieden dagegen, dass ich den Mann aus dem Eis heirate. Du bist zu jung, um zu heiraten, sagten sie. Du weißt nicht einmal genau, was für eine Person er ist oder wie seine Familie ist. Oder wo er geboren wurde, oder wann. Als Ihre Familie können wir nicht zustimmen, dass Sie eine solche Person heiraten. Und außerdem ist er ein Ice Man. Was passiert, wenn er schmilzt? Sie sagten. Ich weiß, du verstehst es nicht wirklich, aber die Ehe ist eine große Verantwortung. Glaubst du wirklich, dass du der Verantwortung gewachsen bist, diesen Mann aus dem Eis zu heiraten?\\n\\nAber ihre Ängste waren unnötig. Es war nicht so, als ob der Mann aus dem Eis tatsächlich aus Eis gemacht wäre. Er war einfach cool wie Eis. Er schmilzt nicht, wenn er zu warm wird. Diese Kälte war wirklich wie Eis, aber sein Körper war anders als Eis. Und obwohl ihm unglaublich kalt war, war es nicht die Art von Kälte, die anderen Menschen ihre Körperwärme raubt.\\n\\nAlso haben wir geheiratet. Aber niemand hat unsere Hochzeit gefeiert. Nicht meine Freunde oder meine Eltern oder meine Schwestern: Niemand war glücklich darüber. Wir hatten keine Zeremonie. Da der Mann aus dem Eis kein Familienregister hatte, haben wir nicht einmal eine Heiratsurkunde beantragt. Wir haben gerade gemeinsam entschieden, dass wir verheiratet sind. Wir kauften einen kleinen Kuchen und aßen ihn zusammen. Das war das Ausmaß unserer mageren Hochzeit. Wir mieteten eine kleine Wohnung, und der Mann aus dem Eis bekam einen Job in einem Fleischlager, um unsere Ausgaben zu decken. Er mochte die Kälte sehr und egal wie hart er arbeitete, er wurde nie müde. Er hörte nicht einmal auf, viel zu essen. Natürlich fiel er dem Chef schnell auf und wurde mit einem höheren Gehalt belohnt als alle anderen. Wir haben niemanden gestört und niemand hat uns gestört; und wir hatten ein ruhiges, glückliches Leben zusammen.\\n\\nImmer wenn der Mann aus dem Eis mich umarmte, dachte ich immer an diesen ruhigen, stillen Eisberg, der an einem weit entfernten Ort existierte. Ich dachte, dass der Mann aus dem Eis wahrscheinlich wusste, wo dieser Eisberg war. Das Eis war hart, härter als alles, was ich mir vorstellen konnte. Es war der größte Eisberg der Welt. Aber es war an einem unglaublich weit entfernten Ort. Er erzählte der Welt das Geheimnis dieses Eises. Zuerst machten mich die Umarmungen des Mannes aus dem Eis desorientiert, aber nach einer Weile gewöhnte ich mich daran. Ich habe es sogar lieben gelernt. Wie immer sprach er überhaupt nicht über sich. Nicht einmal, warum er der Mann aus dem Eis wurde. Und ich habe nichts gefragt. In der Stille umarmend, teilten wir diesen riesigen, stillen Eisberg. Die Gesamtheit vergangener Ereignisse auf der ganzen Welt wurde über Milliarden von Jahren makellos, so wie sie war, in diesem Eis gespeichert.\\n\\nIn unserem Eheleben gab es eigentlich keine Probleme, die man eigentlich als Probleme bezeichnen könnte. Wir liebten uns sehr, und nichts hinderte das. Während die Nachbarn so aussahen, als wären sie mit der Existenz von Eismännern nicht vertraut, begannen sie mit der Zeit nach und nach, mit ihm zu sprechen. Obwohl er ein Mann aus dem Eis ist, unterscheidet er sich nicht von allen anderen, sagten sie. Aber in der Tiefe ihres Herzens haben sie ihn nie wirklich akzeptiert, und deshalb haben sie nie wirklich akzeptiert, dass ich mit ihm verheiratet war. Wir waren eine andere Art von Menschen als sie, und egal wie viel Zeit verging, diese Kluft konnte niemals geschlossen werden.\\n\\nWir beide konnten keine Kinder bekommen. Vielleicht war das Ergebnis der Vermischung von menschlichen und Ice Man-Genen problematisch. Da wir keine Kinder hatten, hatte ich jedenfalls reichlich Freizeit. Ich würde morgens ziemlich schnell die Hausarbeit erledigen, aber danach gab es nichts zu tun. Ich hatte keine Freunde, mit denen ich reden oder mit denen ich irgendwohin gehen könnte, und ich hatte nicht viel mit den Nachbarn zu tun. Meine Mutter und meine Schwestern, immer noch wütend darüber, dass ich den Mann aus dem Eis geheiratet hatte, sprachen nicht mit mir. Sie schämten sich für meinen Haushalt. Es war nicht einmal jemand telefonisch erreichbar. Während der Mann aus dem Eis im Lagerhaus arbeitete, blieb ich ganz allein zu Hause, las Bücher oder hörte Musik. Ich bleibe sowieso lieber zu Hause als auszugehen, und ich bin nicht der Typ, für den das Alleinsein eine Prüfung ist. Aber trotzdem war ich noch jung, und die endlose tägliche Wiederholung ohne Abwechslung fing an, mich runterzuziehen. Es war nicht die Langeweile, die mich gepackt hat. Was ich nicht ertragen konnte, war die Wiederholung. Inmitten dieser endlosen Wiederholung fühlte ich mich wie mein eigener Schatten.'"
      ]
     },
     "execution_count": 19,
     "metadata": {},
     "output_type": "execute_result"
    }
   ],
   "source": [
    "story1 = translator.translate(part1, dest='de')\n",
    "story1.text"
   ]
  },
  {
   "cell_type": "markdown",
   "id": "468b4320",
   "metadata": {},
   "source": [
    "(I wanted to remove the '\\n' from the text, but you can not replace anything when it is translated.)"
   ]
  },
  {
   "cell_type": "code",
   "execution_count": 20,
   "id": "0636e371",
   "metadata": {},
   "outputs": [],
   "source": [
    "with open('texts/nlp/ice_man2.txt', encoding='utf-8') as fh:\n",
    "    part2 = fh.read()"
   ]
  },
  {
   "cell_type": "code",
   "execution_count": 21,
   "id": "7092f132",
   "metadata": {},
   "outputs": [
    {
     "data": {
      "text/plain": [
       "'Eines Tages machte ich meinem Mann einen Antrag. Warum machen wir zur Abwechslung nicht mal zusammen irgendwo einen Ausflug. Reise? er sagte. Er kniff die Augen zusammen, als er mich ansah. Warum um alles in der Welt sollten wir eine Reise unternehmen? Bist du nicht glücklich, hier bei mir zu leben?\\n\\nDas ist es nicht, sagte ich. Ich bin vollkommen glücklich. Es gibt keine Probleme zwischen uns. Es ist nur so, dass ich mich langweile. Ich möchte an einen weit entfernten Ort gehen und Dinge sehen, die ich noch nie zuvor gesehen habe. Ich möchte Luft atmen, die ich noch nie geatmet habe. Verstehst du? Außerdem waren wir nie in den Flitterwochen. Wir haben viel Geld auf der Bank, und ein paar Tage frei zu nehmen, sollte kein Problem sein. Ich denke nur, dass ein entspannender Ausflug irgendwo schön wäre.\\n\\nDer Mann aus dem Eis stieß einen tiefen, erstarrten Seufzer aus. Der Seufzer machte ein scharfes Geräusch, als die Luft kristallisierte. Er brachte seine langen, frostbedeckten Finger auf seinem Knie zusammen. Ich denke schon. Wenn Sie so unbedingt auf eine Reise gehen wollen, bin ich nicht besonders dagegen. Ich denke nicht, dass es eine so gute Idee ist, eine Reise zu machen, aber wenn es dich glücklich macht, werde ich tun, was du willst, gehen, wohin du willst. Urlaub zu nehmen sollte in Ordnung sein, da ich immer sehr hart arbeite, wenn ich dort bin. Ich denke nicht, dass es Probleme geben wird. Aber wo willst du hin?\\n\\nWie wäre es mit dem Südpol? Ich habe es gewagt. Ich habe den Südpol gewählt, weil ich dachte, der Mann aus dem Eis wäre an einem kalten Ort interessiert. Außerdem wollte ich schon immer einmal zum Südpol. Ich wollte Nordlichter und Pinguine sehen. Ich stellte mir vor, ich trage einen Pelzmantel mit angesetzter Kapuze und spiele mit einem Schwarm Pinguine unter einem Himmel, der vom Nordlicht erhellt wird.\\n\\nAls ich das sagte, sah mein Mann, der Mann aus dem Eis, mir direkt in die Augen. Er blinzelte kein einziges Mal. Sein Blick wie scharfe Eiszapfen bohrte sich durch meine Augen bis zu meinem Hinterkopf. Er dachte einen Moment lang schweigend darüber nach und sagte schließlich mit einem Augenzwinkern: Es ist in Ordnung. Gut, wenn du das willst, gehen wir zum Südpol. Das willst du tun?\\n\\nIch stimmte zu.\\n\\nIn ungefähr zwei Wochen, denke ich, kann ich einen langen Urlaub nehmen. Bis dahin können wir wahrscheinlich alle Vorbereitungen treffen. Wirklich, es wird kein Problem sein.\\nIch konnte nicht sofort antworten. Als mich der Mann aus dem Eis mit diesem Eiszapfenblick angeschaut hatte, war mein Kopf betäubt.\\n\\nMit der Zeit bedauerte ich jedoch, dass ich jemals die Idee hatte, mit meinem Mann zum Südpol zu gehen. Ich weiß nicht, warum das so war. Bevor die Worte „Südpol“ aus meinem Mund kamen, hatte ich das Gefühl, dass sich etwas in ihm verändert hatte. Sein Blick war noch schärfer und eiszapfenartiger geworden als zuvor; sein Atem war noch weißer geworden als vorher; und noch mehr Frost sammelte sich an seinen Fingern als zuvor. Er wurde noch sturer und zurückhaltender. Jetzt aß er überhaupt nichts mehr. All diese Dinge machten mich schrecklich unruhig. Fünf Tage vor unserer Abreise machte ich meinem Mann mutig einen Vorschlag. Sagen wir die Reise zum Südpol ab, sagte ich. Ich habe ein wenig darüber nachgedacht, und es ist so kalt, dass es wahrscheinlich schlecht für mich sein wird.\\n\\nEs scheint nur so, als wäre es eine bessere Idee, irgendwohin zu gehen, wo es etwas normaler ist. Ich wette, Europa ist wirklich schön; Warum gehen wir nicht stattdessen nach Spanien? Wir konnten Wein trinken, Paella essen und Stierkämpfe beobachten. Aber mein Mann reagierte nicht. Für eine Weile starrte er nur auf einen weit entfernten Ort. Dann sah er mir ins Gesicht. Er blickte mir tief in die Augen. Dieser Blick war so tief, dass ich das Gefühl hatte, als wäre mein Körper, so wie er war, in nichts verdunstet. Nein, ich will nicht nach Spanien, sagte mein Mann, der Mann aus dem Eis, ohne Umschweife. Ich weiß, es ist nicht fair dir gegenüber, aber Spanien ist zu heiß und staubig für mich. Und das Essen ist zu scharf. Jedenfalls haben wir schon zwei Tickets für den Südpol gekauft. Wir haben bereits einen Pelzmantel für Sie gekauft und ein Paar pelzgefütterte Stiefel. Wir können es uns nicht leisten, das alles zu verschwenden. An dieser Stelle müssen wir gehen.\\n\\nDie Art, wie er es sagte, machte mir Angst. Ich hatte diese Vorahnung, dass, wenn wir zum Südpol gingen, etwas passieren würde und wir etwas verlieren würden, das wir niemals wiedererlangen könnten. Ich hatte immer wieder schreckliche Alpträume. Es war jedes Mal derselbe Traum. In dem Traum ging ich spazieren und fiel in ein tiefes Loch im Boden, aber niemand entdeckte mich und ich wurde dort eingefroren. Gefangen in diesem Eis konnte ich den Himmel deutlich sehen. Ich war bei Bewusstsein, aber ich konnte nicht einmal einen Finger bewegen. Es war ein schrecklich seltsames Gefühl. Ich verstand, dass sich die Gegenwart von Moment zu Moment in die Vergangenheit verwandelte. Ich hatte keine Zukunft. Die Vergangenheit häufte sich unwiderruflich an. Und alle starrten mich an. Sie blickten in die Vergangenheit. Ich blickte rückwärts auf vorbeiziehende Szenen.\\n\\nUnd dann würde ich aufwachen. Der Mann aus dem Eis schlief neben mir. Er schlief, ohne überhaupt zu atmen. Genauso wie er gestorben und auf diese Weise eingefroren war oder so. Aber ich liebte den Eismann. Ich würde anfangen zu weinen. Meine Tränen landeten auf seiner Wange. Dann würde er aufwachen und mich in seinen Armen halten. Ich hatte einen schlechten Traum, würde ich sagen. Er schüttelte im Dunkeln stumm den Kopf. Es war nur ein Traum, sagte er. Träume sind Dinge aus der Vergangenheit. Sie sind nicht aus der Zukunft. Da warst du nicht eingesperrt. Du sperrst deine Träume ein. Sie verstehen?\\n\\nJa, würde ich sagen. Aber ich war nicht überzeugt.\\n\\n\\nSchließlich bestiegen mein Mann und ich das Flugzeug zum Südpol. Es gab einfach keinen ausreichenden Grund, es zu stornieren. Der Pilot und die Stewardessen im Flugzeug zum Südpol schwiegen alle. Ich wollte unbedingt die Landschaft vor dem Fenster betrachten, aber die Wolken waren dicht und ich konnte nichts sehen. Nach einer Weile waren sie sowieso komplett mit Eis bedeckt. Mein Mann hat die ganze Zeit nur still ein Buch gelesen. Ich hatte nicht die Aufregung oder Vorfreude, die normalerweise mit einer Reise einhergeht. Ich ging nur durch eine Reihe von vorbestimmten Bewegungen.\\n\\nAls ich zum ersten Mal von der Gangway auf die Oberfläche des Südpols trat, konnte ich spüren, wie der ganze Körper meines Mannes heftig zitterte. Es war schneller als ein Augenzwinkern, vielleicht halb so lange wie ein Augenzwinkern, also hat es niemand bemerkt; und mein Mann zuckte nicht einmal mit der Wimper, aber ich konnte es nicht übersehen. Etwas tief im Körper meines Mannes hatte heftig gezittert, wenn auch im Verborgenen. Dort blieb er stehen, blickte in den Himmel, starrte dann auf seine Hände und holte schließlich tief Luft. Dann sah er mir in die Augen und strahlte fröhlich. Das ist also das Land deiner Träume, sagte er. Ja, sagte ich.\\n\\nDie Düsternis des Südpols übertraf sogar meine schlimmsten Vorahnungen. Dort wohnte fast niemand. Es gibt dort nur eine kleine, nichtssagende Stadt. In der Stadt gibt es nur ein kleines unscheinbares Hotel. Es gibt keine Sehenswürdigkeiten zu sehen. Es gibt nicht einmal Pinguine. Nordlichter kann man nicht sehen. Gelegentlich versuchte ich, Leute zu fragen, wo ich Pinguine sehen könnte, aber sie schüttelten nur stumm den Kopf. Sie konnten meine Rede nicht verstehen. Ich würde versuchen, ein Bild von einem Pinguin auf ein Blatt Papier zu malen. Aber natürlich würden sie nur stumm den Kopf schütteln. Ich war ganz allein. Wenn man einen Schritt außerhalb der Stadt tat, war dahinter nichts als Eis. Es gab keine Bäume; es gab keine Blumen; keine Flüsse, keine Teiche, kein gar nichts. Wohin man auch ging, da war nichts als Eis. Gefrorenes Ödland erstreckte sich so weit das Auge reichte in alle Richtungen.\\n\\nUnd doch lief mein Mann, seinen weißen Atem atmend, Reif auf seinen Fingern wachsend, seine Augen wie immer eiszapfenartig grell, energisch von Ort zu Ort, als kenne er keine Sättigung. Die einheimische Sprache dieses Landes kehrte schnell zu ihm zurück, und er unterhielt sich mit den Leuten der Stadt mit einer Stimme, die so hart wie Eis klang. Sie unterhielten sich stundenlang mit ernsten Gesichtsausdrücken. Ich konnte überhaupt nicht verstehen, worüber in aller Welt sie so ernsthaft sprachen. Mein Mann war an diesem Ort völlig im Delirium. Da war etwas, das ihn verzauberte. Anfangs hat mich das sehr irritiert. Ich fühlte mich, als wäre ich von mir selbst zurückgelassen worden. Ich fühlte mich von meinem Mann vernachlässigt und betrogen.\\n\\nIrgendwann verlor ich jedoch all meine Kraft inmitten dieser Wüstenwelt, die von dickem Eis eingeschlossen war. Langsam, allmählich. Ich verlor sogar die Kraft, mich aufzuregen. Es war, als hätte ich den Kompass meiner Sinne verlegt. Die Richtung verschwand, die Zeit verschwand, sogar mein Bewusstsein meiner eigenen Existenz verschwand. Ich weiß nicht, wann dieser Prozess begann oder wann er endete. Mir wurde jedoch klar, dass ich ganz allein und sinnlos inmitten dieser Eiswelt, inmitten dieses farbverhungerten ewigen Winters, eingesperrt war. Nachdem meine Sinne fast alle weg waren, verstand ich nur das. Mein Mann am Südpol war nicht mein früherer Mann. Es war nicht so, dass sich sein Verhalten mir gegenüber geändert hätte. Er war so besorgt um mich wie immer, und seine Sprache war immer freundlich. Und ich bin sicher, dass er alles meinte, was er sagte. Er war einfach ein anderer Eismann als der, den ich auf der Skihütte getroffen habe. Aber es war niemand da, den ich danach fragen konnte. Alle Südpolen waren mit ihm befreundet und außerdem konnten sie meine Rede nicht verstehen. Sie alle atmeten ihren weißen Atem, Frost wuchs auf ihren Gesichtern, und sie erzählten ihre Witze, debattierten ihre Debatten und sangen ihre Lieder auf Südpol-esisch. Am Ende schloss ich mich allein in meinem Zimmer ein, starrte ausdruckslos in den sich nie ändernden grauen Himmel und brütete über dem unglaublich komplizierten Mysterium der südpolesischen Grammatik, obwohl ich keine Hoffnung hatte, es jemals zu meistern.\\n\\nAuf der Landebahn standen keine Flugzeuge. Nachdem das Flugzeug, das uns hierher gebracht hatte, prompt wieder abhob, gab es nicht eine einzige Ankunft. Die Landebahn war schließlich von einer dicken Eisschicht begraben worden. Genau wie mein Herz.\\n\\nDer Winter ist gekommen, sagte mein Mann. Es ist ein sehr langer Winter. Keine Flugzeuge werden kommen, keine Schiffe werden kommen. Alles ist gefroren. Wir müssen hier nur auf den Frühling warten, sagte er.\\n\\nNachdem wir ungefähr drei Monate am Südpol waren, wurde mir klar, dass ich schwanger war. Ich wusste sofort: Das Kind, das ich gebären würde, war ein kleiner Mann aus dem Eis. Meine Gebärmutter war mit Eis bedeckt und das Fruchtwasser war mit Matsch vermischt. Ich konnte spüren, wie die Kälte in meinem Bauch wuchs. Ich wusste es einfach. Das Kind würde den Eiszapfenblick seines Vaters haben und Reif würde auf seinen kleinen Fingern wachsen. Und ich wusste einfach: Unsere neue Familie würde den Südpol nie wieder verlassen. Unsere Füße würden sicherlich auf der unsinnigen Masse der ewigen Vergangenheit Halt machen. Egal wie sehr wir es versuchten, wir würden es nie abschütteln.\\n\\nJetzt ist von meinem früheren Ich fast nichts mehr übrig. Meine natürliche Wärme wurde weit, weit weg verdrängt. Manchmal vergesse ich, dass ich es jemals hatte. Und doch kann ich irgendwie immer noch weinen. Ich bin wirklich allein. Ich bin an einem kälteren, einsamen Ort als jeder andere auf der ganzen Welt. Wenn ich weine, küsst der Mann aus dem Eis meine Wange. Seine Küsse verwandeln meine Tränen in Eis. Dann nimmt er diese Eistränen in seine Hand und legt sie auf seine Zunge. Ich liebe dich, sagt er. Es ist keine Lüge. Ich verstehe das gut. Der Eismann liebt mich. Aber dann, von einem fernen Ort, regt sich ein Wind und weht seine weißen, erstarrten Worte fort, fort, in die Vergangenheit. Ich weine. Eisige Tränen fließen über mein Gesicht. In unserer fernen, gefrorenen Heimat am Südpol.'"
      ]
     },
     "execution_count": 21,
     "metadata": {},
     "output_type": "execute_result"
    }
   ],
   "source": [
    "story2 = translator.translate(part2, dest='de')\n",
    "story2.text"
   ]
  },
  {
   "cell_type": "markdown",
   "id": "d6b6ac6c",
   "metadata": {},
   "source": [
    "Last but not least we need to calculate the sentiment of the two parts, therefore I write the command for each part and then make a mean score to get the sentiment of the whole translated story."
   ]
  },
  {
   "cell_type": "code",
   "execution_count": 22,
   "id": "0b977e36",
   "metadata": {},
   "outputs": [
    {
     "data": {
      "text/plain": [
       "Sentiment(polarity=0.08365231259968099, subjectivity=0.04194577352472089)"
      ]
     },
     "execution_count": 22,
     "metadata": {},
     "output_type": "execute_result"
    }
   ],
   "source": [
    "from textblob_de import TextBlobDE\n",
    "\n",
    "first = TextBlobDE(story1.text)\n",
    "first.sentiment"
   ]
  },
  {
   "cell_type": "code",
   "execution_count": 23,
   "id": "f244cd64",
   "metadata": {},
   "outputs": [
    {
     "data": {
      "text/plain": [
       "Sentiment(polarity=0.006865284974093266, subjectivity=0.029706390328151987)"
      ]
     },
     "execution_count": 23,
     "metadata": {},
     "output_type": "execute_result"
    }
   ],
   "source": [
    "from textblob_de import TextBlobDE\n",
    "\n",
    "second = TextBlobDE(story2.text)\n",
    "second.sentiment"
   ]
  },
  {
   "cell_type": "markdown",
   "id": "af216a57",
   "metadata": {},
   "source": [
    "### Comparising of the English and German sentiment"
   ]
  },
  {
   "cell_type": "markdown",
   "id": "1857f0da",
   "metadata": {},
   "source": [
    "So finally we get the result for the German story:"
   ]
  },
  {
   "cell_type": "code",
   "execution_count": 24,
   "id": "b99d2fa0",
   "metadata": {},
   "outputs": [
    {
     "name": "stdout",
     "output_type": "stream",
     "text": [
      "Sentiment(polarity=0.04525879878688713, subjectivity=0.03582608192643644)\n"
     ]
    }
   ],
   "source": [
    "polarity=(0.08365231259968099+0.006865284974093266)/2\n",
    "subjectivity=(0.04194577352472089+0.029706390328151987)/2\n",
    "print(f'Sentiment(polarity={polarity}, subjectivity={subjectivity})')"
   ]
  },
  {
   "cell_type": "markdown",
   "id": "1e3f1490",
   "metadata": {},
   "source": [
    "The English one got:"
   ]
  },
  {
   "cell_type": "code",
   "execution_count": 25,
   "id": "2b7411f4",
   "metadata": {},
   "outputs": [
    {
     "data": {
      "text/plain": [
       "Sentiment(polarity=0.05720858766015831, subjectivity=0.45825535139671275)"
      ]
     },
     "execution_count": 25,
     "metadata": {},
     "output_type": "execute_result"
    }
   ],
   "source": [
    "from textblob import TextBlob\n",
    "\n",
    "blob = TextBlob(data)\n",
    "blob.sentiment"
   ]
  },
  {
   "cell_type": "markdown",
   "id": "b0863440",
   "metadata": {},
   "source": [
    "(I didn't remove any stopwords or anything like that from the english version because I wouldn't be able to do the same with the German text.)"
   ]
  },
  {
   "cell_type": "markdown",
   "id": "2f9a2fd3",
   "metadata": {},
   "source": [
    "The polarity is a float within the range [-1.0,1.0] and the subjectivity is a float within the range [0.0, 1.0] where 0.0 is very objective and 1.0 is very subjective."
   ]
  },
  {
   "cell_type": "markdown",
   "id": "87cb2647",
   "metadata": {},
   "source": [
    "We see that the results of the two sentiments from the two languages is different. But I think that if I would have checked the story in German without dividing it into two parts the polarity would be even closer to the english one. Nevertheless the subjectivity is very different."
   ]
  },
  {
   "cell_type": "markdown",
   "id": "046e3940",
   "metadata": {},
   "source": [
    "In my opinion the polarity should be a least under 0, it's more like a -0,25 for me. For the subjectivity I would agree more with the english result of 0,46. The German result doesn't make so much sense for me."
   ]
  }
 ],
 "metadata": {
  "kernelspec": {
   "display_name": "Python 3 (ipykernel)",
   "language": "python",
   "name": "python3"
  },
  "language_info": {
   "codemirror_mode": {
    "name": "ipython",
    "version": 3
   },
   "file_extension": ".py",
   "mimetype": "text/x-python",
   "name": "python",
   "nbconvert_exporter": "python",
   "pygments_lexer": "ipython3",
   "version": "3.9.7"
  }
 },
 "nbformat": 4,
 "nbformat_minor": 5
}
