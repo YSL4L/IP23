{
 "cells": [
  {
   "cell_type": "markdown",
   "id": "8268987c",
   "metadata": {},
   "source": [
    "### 1. Write a one-liner with which you would add a decimal place to this integer.\n",
    "\n",
    "  <i> 156 <i>"
   ]
  },
  {
   "cell_type": "code",
   "execution_count": null,
   "id": "b406d307",
   "metadata": {},
   "outputs": [],
   "source": [
    "float(156)"
   ]
  },
  {
   "cell_type": "markdown",
   "id": "32577d9c",
   "metadata": {},
   "source": [
    "### 2. Which datatype does the following value have? Write a one-liner with which you would check the datatype?\n",
    "\n",
    "  '153.12'"
   ]
  },
  {
   "cell_type": "code",
   "execution_count": null,
   "id": "b3fb7217",
   "metadata": {},
   "outputs": [],
   "source": [
    "type('153.12')"
   ]
  },
  {
   "cell_type": "markdown",
   "id": "591530fe",
   "metadata": {},
   "source": [
    "### 3.Continue this code and create a new list ('long_words') that contains all the words in a given sentence that have more than three letters."
   ]
  },
  {
   "cell_type": "code",
   "execution_count": 1,
   "id": "a88ca819",
   "metadata": {},
   "outputs": [
    {
     "name": "stdout",
     "output_type": "stream",
     "text": [
      "['The', 'quick', 'brown', 'fox', 'jumps', 'over', 'the', 'lazy', 'dog']\n"
     ]
    }
   ],
   "source": [
    "sentence = \"The quick brown fox jumps over the lazy dog\"\n",
    "words = sentence.split()\n",
    "print(words)\n"
   ]
  },
  {
   "cell_type": "code",
   "execution_count": 2,
   "id": "80118628",
   "metadata": {},
   "outputs": [
    {
     "name": "stdout",
     "output_type": "stream",
     "text": [
      "['quick', 'brown', 'jumps', 'over', 'lazy']\n"
     ]
    }
   ],
   "source": [
    "long_words = []\n",
    "\n",
    "for word in words:\n",
    "    if len(word) > 3:\n",
    "        long_words.append(word)\n",
    "\n",
    "print(long_words)"
   ]
  },
  {
   "cell_type": "code",
   "execution_count": 3,
   "id": "8a9f7f78",
   "metadata": {},
   "outputs": [
    {
     "data": {
      "text/plain": [
       "['quick', 'brown', 'jumps', 'over', 'lazy']"
      ]
     },
     "execution_count": 3,
     "metadata": {},
     "output_type": "execute_result"
    }
   ],
   "source": [
    "long_words = [word for word in words if len(word) > 3]\n",
    "long_words"
   ]
  },
  {
   "cell_type": "markdown",
   "id": "119902dc",
   "metadata": {},
   "source": [
    "### 4. What is the output of this loop?"
   ]
  },
  {
   "cell_type": "code",
   "execution_count": 4,
   "id": "eb94a292",
   "metadata": {},
   "outputs": [
    {
     "name": "stdout",
     "output_type": "stream",
     "text": [
      "6\n"
     ]
    }
   ],
   "source": [
    "x = 1\n",
    "for i in range (1,4):\n",
    "    x *= i\n",
    "print(x)"
   ]
  },
  {
   "cell_type": "markdown",
   "id": "8646e9aa",
   "metadata": {},
   "source": [
    "### 5. What is the output of this loop?"
   ]
  },
  {
   "cell_type": "code",
   "execution_count": 5,
   "id": "6daecc86",
   "metadata": {},
   "outputs": [
    {
     "name": "stdout",
     "output_type": "stream",
     "text": [
      "cancelled\n"
     ]
    }
   ],
   "source": [
    "registrations = ['Anton', 'Otto', 'Anna']\n",
    "if len(registrations) <= 3:\n",
    "    print('cancelled')\n",
    "elif len(registrations) > 6:\n",
    "    print('full')\n",
    "else:\n",
    "    print('available')"
   ]
  },
  {
   "cell_type": "markdown",
   "id": "d5547187",
   "metadata": {},
   "source": [
    "### 6. What is the output of this code?"
   ]
  },
  {
   "cell_type": "code",
   "execution_count": 8,
   "id": "a5874a5b",
   "metadata": {},
   "outputs": [
    {
     "name": "stdout",
     "output_type": "stream",
     "text": [
      "Thi"
     ]
    }
   ],
   "source": [
    "text = 'This quiz is easy peasy lemon squeezy.'\n",
    "i = 0\n",
    "while text[i] != 's':\n",
    "    print(text[i], end='')\n",
    "    i += 1"
   ]
  },
  {
   "cell_type": "markdown",
   "id": "f7284610",
   "metadata": {},
   "source": [
    "### 7. What is the output of this code?\n",
    "\n"
   ]
  },
  {
   "cell_type": "code",
   "execution_count": 9,
   "id": "009bff19",
   "metadata": {},
   "outputs": [
    {
     "name": "stdout",
     "output_type": "stream",
     "text": [
      "4\n"
     ]
    },
    {
     "data": {
      "text/plain": [
       "[0, 1, 2, 3, 4]"
      ]
     },
     "execution_count": 9,
     "metadata": {},
     "output_type": "execute_result"
    }
   ],
   "source": [
    "nums = list(range(5))\n",
    "print(nums[-1])\n",
    "nums"
   ]
  },
  {
   "cell_type": "markdown",
   "id": "2d087ff1",
   "metadata": {},
   "source": [
    "### 8. In the following list of lists, replace the (one!) value 'shashuka' with 'broccoli'! (Assuming that you know at which position 'pizza' is -- so you don't need to determine the position first!)\n",
    "\n"
   ]
  },
  {
   "cell_type": "code",
   "execution_count": 10,
   "id": "b7466407",
   "metadata": {},
   "outputs": [],
   "source": [
    "foods = [\n",
    "\n",
    "    ['beans', 'eggs', 'toast'],\n",
    "\n",
    "    ['pasta', 'cous cous', 'schnitzel'],\n",
    "\n",
    "    ['salad', 'shashuka', 'lasagna']\n",
    "\n",
    "]"
   ]
  },
  {
   "cell_type": "code",
   "execution_count": 11,
   "id": "4e8dab4d",
   "metadata": {},
   "outputs": [
    {
     "data": {
      "text/plain": [
       "[['beans', 'eggs', 'toast'],\n",
       " ['pasta', 'cous cous', 'schnitzel'],\n",
       " ['salad', 'broccoli', 'lasagna']]"
      ]
     },
     "execution_count": 11,
     "metadata": {},
     "output_type": "execute_result"
    }
   ],
   "source": [
    "foods[2][1] = 'broccoli'\n",
    "foods"
   ]
  },
  {
   "cell_type": "markdown",
   "id": "fcf43ac1",
   "metadata": {},
   "source": [
    "### 9. Write a few lines of code that: Opens the imaginary file \"text_file.txt\" and adds the string \"Santa Claus\" to the end of it.\n",
    "\n"
   ]
  },
  {
   "cell_type": "code",
   "execution_count": 15,
   "id": "1804e2eb",
   "metadata": {},
   "outputs": [],
   "source": [
    "santa = 'santa claus'"
   ]
  },
  {
   "cell_type": "code",
   "execution_count": 19,
   "id": "737b03bc",
   "metadata": {},
   "outputs": [],
   "source": [
    "with open ('test_file.txt', 'w', encoding ='utf8') as fh:\n",
    "    fh.write( f'\\n{santa}')"
   ]
  },
  {
   "cell_type": "markdown",
   "id": "988e9033",
   "metadata": {},
   "source": [
    "###  10. Write a few lines of code that:\n",
    "\n",
    "* Create variables a and b and assign numerical values to them.*\n",
    "* Check if a and b are equal. If they are, print 'a and b are equal'.\n",
    "* If a and b are not equal, check the following:\n",
    "* If a is divisible by b without a remainder, print 'a is divisible by b'.\n",
    "* If b is divisible by a without a remainder, print 'b is divisible by a'.\n",
    "* If none of the above conditions are true, print 'a and b are not divisible by each other'.\n",
    "\n",
    "\n"
   ]
  },
  {
   "cell_type": "code",
   "execution_count": 20,
   "id": "a937e480",
   "metadata": {},
   "outputs": [
    {
     "name": "stdout",
     "output_type": "stream",
     "text": [
      "a is divisible by b\n"
     ]
    }
   ],
   "source": [
    "a = 10  \n",
    "b = 5  \n",
    "\n",
    "\n",
    "if a == b:\n",
    "    print(\"a and b are equal\")\n",
    "else:\n",
    " \n",
    "    if a % b == 0:\n",
    "        print(\"a is divisible by b\")\n",
    "   \n",
    "    elif b % a == 0:\n",
    "        print(\"b is divisible by a\")\n",
    "    \n",
    "    else:\n",
    "        print(\"a and b are not divisible by each other\")\n"
   ]
  },
  {
   "cell_type": "code",
   "execution_count": null,
   "id": "9af96fa1",
   "metadata": {},
   "outputs": [],
   "source": []
  }
 ],
 "metadata": {
  "kernelspec": {
   "display_name": "Python 3 (ipykernel)",
   "language": "python",
   "name": "python3"
  },
  "language_info": {
   "codemirror_mode": {
    "name": "ipython",
    "version": 3
   },
   "file_extension": ".py",
   "mimetype": "text/x-python",
   "name": "python",
   "nbconvert_exporter": "python",
   "pygments_lexer": "ipython3",
   "version": "3.9.13"
  }
 },
 "nbformat": 4,
 "nbformat_minor": 5
}
