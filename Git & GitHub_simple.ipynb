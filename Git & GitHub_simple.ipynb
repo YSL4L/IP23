{
 "cells": [
  {
   "cell_type": "code",
   "execution_count": null,
   "id": "72fee981",
   "metadata": {},
   "outputs": [],
   "source": []
  },
  {
   "cell_type": "markdown",
   "id": "7113dac3",
   "metadata": {},
   "source": [
    "# Introduction to Git \n"
   ]
  },
  {
   "cell_type": "code",
   "execution_count": 2,
   "id": "c4a9534a",
   "metadata": {},
   "outputs": [],
   "source": [
    "from IPython.display import Image\n",
    "from IPython.core.display import HTML "
   ]
  },
  {
   "cell_type": "markdown",
   "id": "c5da8e83",
   "metadata": {},
   "source": [
    "<b>Git</b> is a version control system that allows you to track changes in your code over time.\n",
    "* it helps us keep track code changes\n",
    "* the authors of the changes\n",
    "* it also helps us collaborate on code\n",
    "\n",
    "Git is currently by far the most popular software repository. It is primarily used for\n",
    "software development, but you can version all kinds of data with it."
   ]
  },
  {
   "cell_type": "markdown",
   "id": "0b9513c4",
   "metadata": {},
   "source": [
    "## What does Git do?\n",
    "\n",
    "* it allows us to manage projects with <b> Repositories </b>\n",
    "* it allows us to <b> clone </b> a project to work on a local copy\n",
    "* it allows us to track changes through <b> staging </b> and <b> commiting </b>\n",
    "* <b> branch </b> and <b> merge </b> to allow for wotk on different parts and versions of the project\n",
    "* <b> pull </b> the latest version of the project to a local (on your pc) copy\n",
    "* <b> push </b> local updates to the main project"
   ]
  },
  {
   "cell_type": "code",
   "execution_count": 3,
   "id": "228144dd",
   "metadata": {},
   "outputs": [
    {
     "data": {
      "text/html": [
       "<img src=\"img/git1.png\" width=\"400\" height=\"1200\"/>"
      ],
      "text/plain": [
       "<IPython.core.display.Image object>"
      ]
     },
     "execution_count": 3,
     "metadata": {},
     "output_type": "execute_result"
    }
   ],
   "source": [
    "Image(url= \"img/git1.png\", width=400, height=1200)"
   ]
  },
  {
   "cell_type": "markdown",
   "id": "664e1a66",
   "metadata": {},
   "source": [
    "## Version control"
   ]
  },
  {
   "cell_type": "markdown",
   "id": "4d201c10",
   "metadata": {},
   "source": [
    "When more than one person (or even just a single person) works on some program\n",
    "program (or data in the broadest sense), there is a danger of quickly creating a chaos of versions.\n",
    "\n",
    "Version management programs (code repositories), such as Git, attempt to\n",
    "solve this problem\n",
    "- by storing the individual versions, documenting them and making them retrievable\n",
    "- try to make changes visible and automatically merge them if necessary"
   ]
  },
  {
   "cell_type": "code",
   "execution_count": 4,
   "id": "94e021b5",
   "metadata": {},
   "outputs": [
    {
     "data": {
      "text/html": [
       "<img src=\"img/git2.png\" width=\"400\" height=\"1200\"/>"
      ],
      "text/plain": [
       "<IPython.core.display.Image object>"
      ]
     },
     "execution_count": 4,
     "metadata": {},
     "output_type": "execute_result"
    }
   ],
   "source": [
    "Image(url= \"img/git2.png\", width=400, height=1200)"
   ]
  },
  {
   "cell_type": "markdown",
   "id": "5b880c88",
   "metadata": {},
   "source": [
    "## Basic Git commands"
   ]
  },
  {
   "cell_type": "markdown",
   "id": "98a955e4",
   "metadata": {},
   "source": [
    "| Command   | Purpose    |\n",
    "|-------------:|:-----------|\n",
    "| ``` git init ``` | initializes a new Git repository in the current directory|\n",
    "| ``` git add <file> ```  | adds a file to the staging area | \n",
    "| ``` git commit -m \"<message>\": ``` | commits the changes in the staging area with a message describing the changes | \n",
    "| ``` git status ``` | shows the current status of the repository | \n",
    "| ``` git log ``` | shows the commit history of the repository | \n",
    "| ``` git <command> help ``` | gives help on specific options for commands | \n"
   ]
  },
  {
   "cell_type": "markdown",
   "id": "90832f91",
   "metadata": {},
   "source": [
    "### Let's get started"
   ]
  },
  {
   "cell_type": "markdown",
   "id": "f54c615d",
   "metadata": {},
   "source": [
    "To start using Git, we are first going to open up our Command shell.\n",
    "\n",
    "For Windows, you can use Git bash, which comes included in Git for Windows. For Mac and Linux you can use the built-in terminal.\n",
    "\n",
    "The first thing we need to do, is to check if Git is properly installed:\n",
    "\n"
   ]
  },
  {
   "cell_type": "code",
   "execution_count": 29,
   "id": "28d703e2",
   "metadata": {},
   "outputs": [
    {
     "data": {
      "text/html": [
       "<img src=\"img/git3.png\"/>"
      ],
      "text/plain": [
       "<IPython.core.display.Image object>"
      ]
     },
     "execution_count": 29,
     "metadata": {},
     "output_type": "execute_result"
    }
   ],
   "source": [
    "Image(url= \"img/git3.png\")"
   ]
  },
  {
   "cell_type": "markdown",
   "id": "14095b7b",
   "metadata": {},
   "source": [
    "If Git is installed, it should show something like git version X.Y\n",
    "\n"
   ]
  },
  {
   "cell_type": "markdown",
   "id": "c7a73478",
   "metadata": {},
   "source": [
    "Now let Git know who you are. This is important for version control systems, as each Git commit uses this information:\n",
    "\n"
   ]
  },
  {
   "cell_type": "markdown",
   "id": "f513f74e",
   "metadata": {},
   "source": [
    "```\n",
    "$ git config --global user.name \"lucijakrusic\"\n",
    "\n",
    "$ git config --global user.email \"lucija.krusic1@gmail.com\"\n",
    "\n",
    "```"
   ]
  },
  {
   "cell_type": "markdown",
   "id": "86c0f284",
   "metadata": {},
   "source": [
    "We can also use:\n",
    "    \n",
    "```\n",
    "$ git config --list\n",
    "```\n",
    "    \n",
    "to list out all the configuration settings available. Exit by pressing ```q```."
   ]
  },
  {
   "cell_type": "markdown",
   "id": "776fb8e2",
   "metadata": {},
   "source": [
    "We can e.g. set up a text editor to configure git. To do that use:\n",
    " ``` \n",
    " $ git config --global core.editor (editor_path)\n",
    " ```\n",
    " \n",
    " such as\n",
    " \n",
    " ```\n",
    " $ git config --global core.editor C:\\WINDOWS\\system32\\notepad.exe\n",
    " ```"
   ]
  },
  {
   "cell_type": "markdown",
   "id": "a3c627d5",
   "metadata": {},
   "source": [
    "## Git status"
   ]
  },
  {
   "cell_type": "markdown",
   "id": "7ee1918a",
   "metadata": {},
   "source": [
    "\n",
    "We can test the status of the repo by using:\n",
    "\n",
    "```\n",
    "$ git status\n",
    "\n",
    "```\n",
    "\n",
    "This gives us information on the git repository, such as branch, and things we didn't \"save\" yet:\n"
   ]
  },
  {
   "cell_type": "code",
   "execution_count": 30,
   "id": "a01cd48b",
   "metadata": {},
   "outputs": [
    {
     "data": {
      "text/html": [
       "<img src=\"img/git4.png\"/>"
      ],
      "text/plain": [
       "<IPython.core.display.Image object>"
      ]
     },
     "execution_count": 30,
     "metadata": {},
     "output_type": "execute_result"
    }
   ],
   "source": [
    "Image(url= \"img/git4.png\")"
   ]
  },
  {
   "cell_type": "markdown",
   "id": "c21ddc67",
   "metadata": {},
   "source": [
    "## Git help"
   ]
  },
  {
   "cell_type": "markdown",
   "id": "35a172a8",
   "metadata": {},
   "source": [
    "If we need help remembering options for a specific command, we can always use ``` git <command> -help```, e.g.\n",
    "\n",
    "```\n",
    " git commit -help\n",
    "\n",
    "```\n",
    "\n",
    "And to list all possible commands we use\n",
    "\n",
    "```\n",
    "\n",
    "git help -all\n",
    "\n",
    "```"
   ]
  },
  {
   "cell_type": "markdown",
   "id": "36a5516d",
   "metadata": {},
   "source": [
    "## Branching and merging"
   ]
  },
  {
   "cell_type": "markdown",
   "id": "e1c5773d",
   "metadata": {},
   "source": [
    "In Git a branch is a new or a separate version of the main repository. A branch branches off at a certain point from the main branch abd from there, the development is <i> basically </i> independent. The branches share history though and are aware of it - which enables subsequent merging."
   ]
  },
  {
   "cell_type": "code",
   "execution_count": 13,
   "id": "06ce3104",
   "metadata": {},
   "outputs": [
    {
     "data": {
      "text/html": [
       "<img src=\"img/git10.png\"/>"
      ],
      "text/plain": [
       "<IPython.core.display.Image object>"
      ]
     },
     "execution_count": 13,
     "metadata": {},
     "output_type": "execute_result"
    }
   ],
   "source": [
    "Image(url= \"img/git10.png\")"
   ]
  },
  {
   "cell_type": "markdown",
   "id": "a32124ed",
   "metadata": {},
   "source": [
    "Git uses this feature excessively. This is facilitated by the fact that the repository is repository is available locally on the computer, and switching back and forth between branches takes only a fraction of a second. \n",
    "\n",
    "Switching from one branch to another is therefore extremely fast, even for large projects. This is why branches are omnipresent in Git. Over time, various models have emerged for the effective\n",
    "use of branches have emerged, such as the following one:\n",
    "\n",
    "\n",
    "This model provides for two basic branches:\n",
    "- ```master``` - the traditional name for the first branch created by Git itself. The master branch represents the official version of the project. Recently, the more more neutral ```main``` is preferred.\n",
    "- ```develop``` - this is the development branch of the project which, when a milestone is reached - is merged back into the master branch.\n",
    "\n",
    "In addition there are so called ```feature branches```, in which a new feature is created and if necessary further branches (release branches, hotfix branches, etc.).\n",
    "\n",
    "\n"
   ]
  },
  {
   "cell_type": "code",
   "execution_count": 14,
   "id": "42ca3578",
   "metadata": {},
   "outputs": [
    {
     "data": {
      "text/html": [
       "<img src=\"img/git11.png\"/>"
      ],
      "text/plain": [
       "<IPython.core.display.Image object>"
      ]
     },
     "execution_count": 14,
     "metadata": {},
     "output_type": "execute_result"
    }
   ],
   "source": [
    "Image(url= \"img/git11.png\")"
   ]
  },
  {
   "cell_type": "markdown",
   "id": "68067061",
   "metadata": {},
   "source": [
    "\n",
    "A repository with several branches could look like this:\n",
    "- Parallel to the master branch, there is the develop branch.\n",
    "- Branching off from the develop branch there are feature branches, here e.g. input_valitationand core_algorithm. Such branches are only created to develop a new feature.\n",
    "- When the feature has been transferred back to the develop branch,\n",
    "feature branches are usually deleted.\n",
    "- alternative_algorithm is an example of an ad-hoc branch, where you quickly try something out. If the idea works, you move the code to the branch from which it was forked. If it doesn't work, the branch is simply deleted.\n",
    "- The release branch contains only released versions.\n",
    "- A hotfix branch becomes necessary when a dangerous bug is found in a released version. The fix, i.e. the code that corrects the error, must be returned to the master as soon as possible and leads to another release. Often it has to be incorporated into the develop branch.\n"
   ]
  },
  {
   "cell_type": "markdown",
   "id": "dc564110",
   "metadata": {},
   "source": [
    "### Commands dealing with branches"
   ]
  },
  {
   "cell_type": "markdown",
   "id": "5a401ef9",
   "metadata": {},
   "source": [
    "| Command   | Purpose    |\n",
    "|-------------:|:-----------|\n",
    "| ``` git branch ``` | lists all branches in the repository|\n",
    "| ``` git branch <branch-name>``` | creates a branch|\n",
    "| ``` git checkout <branch>```  | switches to the specified branch| \n",
    "| ``` git merge <branch> ``` | merges the specified branch into the current branch | \n",
    "| ``` git branch -m old-name new-name ``` | renaming a branch | \n",
    "| ``` git branch -d <branch>``` | deleting a branch | \n"
   ]
  },
  {
   "cell_type": "markdown",
   "id": "46fae91e",
   "metadata": {},
   "source": [
    "In our repo, we are currently in the master branch. We know that also because it says so:"
   ]
  },
  {
   "cell_type": "markdown",
   "id": "9ade8357-5c59-4de8-af0e-d738f33cb852",
   "metadata": {},
   "source": [
    "## Creating a \"notes branch\" for our class repository"
   ]
  },
  {
   "cell_type": "markdown",
   "id": "05fd964c-e19a-485e-a491-640d95caf548",
   "metadata": {},
   "source": [
    "### 1. Create a personal branch:"
   ]
  },
  {
   "cell_type": "markdown",
   "id": "9654678b-1619-4931-bc8c-0857ccd975ca",
   "metadata": {},
   "source": [
    "``` git checkout -b my_notes ```\n"
   ]
  },
  {
   "cell_type": "code",
   "execution_count": 5,
   "id": "702b1660-ffb6-4dbe-b637-96a094e9af12",
   "metadata": {},
   "outputs": [
    {
     "data": {
      "text/html": [
       "<img src=\"img/git-branch.png\"/>"
      ],
      "text/plain": [
       "<IPython.core.display.Image object>"
      ]
     },
     "execution_count": 5,
     "metadata": {},
     "output_type": "execute_result"
    }
   ],
   "source": [
    "Image(url= \"img/git-branch.png\")"
   ]
  },
  {
   "cell_type": "markdown",
   "id": "d38423a9-4677-47d1-abd5-fc26c9a31c72",
   "metadata": {},
   "source": [
    "This creates a new branch called my_notes, where you can freely make changes without affecting the main branch.\n",
    "\n"
   ]
  },
  {
   "cell_type": "markdown",
   "id": "1ef4566f-19bb-4ce8-b39c-4671cf9f26f3",
   "metadata": {},
   "source": [
    "### Step 3: Working in the Personal Branch\n"
   ]
  },
  {
   "cell_type": "markdown",
   "id": "e2bc8d60-653e-402f-a32c-b4ebb6164523",
   "metadata": {},
   "source": [
    "During the session (or after) you can work and take your notes in the branch you've created (my_notes). The notebooks will be saved here and youi don't need to worry about overwriting my changes."
   ]
  },
  {
   "cell_type": "markdown",
   "id": "4f0c5229-75ef-4029-b571-c72170b9bc47",
   "metadata": {},
   "source": [
    "### Step 4: Pulling Updates from the class repo (Before Each Class)\n",
    "\n",
    "Before every class, you should switch back to the main branch to pull the latest updates from the course repository:\n",
    "```\n",
    "git checkout main\n",
    "git pull origin main\n",
    "```\n",
    "\n",
    "This will bring in all the new content or updates from the instructor.\n",
    "\n"
   ]
  },
  {
   "cell_type": "markdown",
   "id": "303c99cc-c9e8-4918-af17-8f21b6cb3510",
   "metadata": {},
   "source": [
    "### Step 5: Merging the updates into the personal branch\n",
    "After pulling the latest updates, you can merge those updates into their personal branch without causing conflicts in their own notes:\n",
    "\n",
    "```\n",
    "git checkout my_notes\n",
    "git merge main\n",
    "\n",
    "```\n",
    "\n",
    "\n",
    "Since you haven’t made any changes to the course notebooks in the main branch, this merge will go smoothly with no conflicts.\n",
    "\n"
   ]
  },
  {
   "cell_type": "markdown",
   "id": "7d86ff56-874f-467a-9199-aa1cd4c9ee45",
   "metadata": {},
   "source": [
    "### Step 6: Keeping personal notes safe\n",
    "\n",
    "Now, all the latest course content is available in your my_notes branch along with their personal notes. You can continue to work in this branch without ever touching the main branch, where the instructor’s updates live.\n",
    "\n",
    "If you ever want to back up their personal branch to a remote repository (optional):\n",
    "\n",
    "```\n",
    "git push origin my_notes\n",
    "\n",
    "```"
   ]
  },
  {
   "cell_type": "markdown",
   "id": "b348e1fb-e964-4675-9bf9-e090cda86cf3",
   "metadata": {},
   "source": [
    "## Git staging environment\n"
   ]
  },
  {
   "cell_type": "markdown",
   "id": "8bbf63de-96cc-4eed-a6ea-71347df12837",
   "metadata": {},
   "source": [
    "One of the core functions of Git is the concepts of the <b>Staging Environment</b>, and the <b>Commit</b>.\n",
    "\n",
    "As you are working, you may be adding, editing and removing files. But whenever you hit a milestone or finish a part of the work, you should add the files to a Staging Environment.\n",
    "\n"
   ]
  },
  {
   "cell_type": "markdown",
   "id": "e122e571-35da-4c0f-9884-c870789f24c9",
   "metadata": {},
   "source": [
    "\n",
    "```\n",
    "$git add <filename>\n",
    "\n",
    "```\n",
    "\n",
    "or\n",
    "\n",
    "\n",
    "```\n",
    "$git add --all\n",
    "```"
   ]
  },
  {
   "cell_type": "markdown",
   "id": "f01bff35-c4e0-40a0-8bde-b5775db2cb00",
   "metadata": {},
   "source": [
    "### Git commit"
   ]
  },
  {
   "cell_type": "markdown",
   "id": "5b5f01a0-906b-44ed-8cc5-0ee3213bec6e",
   "metadata": {},
   "source": [
    "Since we have finished our work, let's commit it.\n",
    "\n",
    "Adding commits keep track of our progress and changes as we work. Git considers each commit change point or \"save point\". It is a point in the project you can go back to if you find a bug, or want to make a change.\n",
    "\n",
    "When we commit, we should always include a message explaining what the newly commited change was.\n",
    "\n",
    "By adding clear messages to each commit, it is easy for yourself (and others) to see what has changed and when.\n",
    "\n"
   ]
  },
  {
   "cell_type": "markdown",
   "id": "93704e09-b132-41a2-94a0-038e903cb75f",
   "metadata": {},
   "source": [
    "```\n",
    "$git commit -m \"First release of my notes\"\n",
    "\n",
    "```"
   ]
  },
  {
   "cell_type": "markdown",
   "id": "a229b4e6-0da0-42e2-94b8-a06b88db9030",
   "metadata": {},
   "source": [
    "where ```commit``` performs the commit and ```-m``` stands for \"message\". This should give us a result looking like:"
   ]
  },
  {
   "cell_type": "code",
   "execution_count": 36,
   "id": "f5ada011-8cd2-4c39-b9ae-b2ea30171d2b",
   "metadata": {},
   "outputs": [
    {
     "data": {
      "text/html": [
       "<img src=\"img/git-commit.png\"/>"
      ],
      "text/plain": [
       "<IPython.core.display.Image object>"
      ]
     },
     "execution_count": 36,
     "metadata": {},
     "output_type": "execute_result"
    }
   ],
   "source": [
    "Image(url= \"img/git-commit.png\")"
   ]
  },
  {
   "cell_type": "markdown",
   "id": "bccd1c61",
   "metadata": {},
   "source": [
    "## Remote repositories\n",
    "\n",
    "To be able to use a foreign branch, we need a so-called remote, that allows interaction with the foreign repository.\n",
    "If we have cloned a repository with ```git clone```, git has automatically created a remote for us, which is called origin by default. Clone a repository (either from another directory or from a server. Go to the\n",
    "directory where your clone exists and enter this command:\n",
    "\n",
    "```\n",
    "$ git remote -v\n",
    "\n",
    "```"
   ]
  },
  {
   "cell_type": "markdown",
   "id": "ab5d6be6",
   "metadata": {},
   "source": [
    "And what we'll see is the remote origin that we cloned from."
   ]
  },
  {
   "cell_type": "markdown",
   "id": "bebe5146",
   "metadata": {},
   "source": [
    "But, let's go back to the most important commands that deal with GitHub:\n",
    "- ```push``` - after commiting our changes in the repo locally we can push them to the remote repository\n",
    "- ```pull``` - basically getting a local copy of the latest version of the repo (we already know how to use this one)"
   ]
  },
  {
   "cell_type": "markdown",
   "id": "a979ac0f",
   "metadata": {},
   "source": [
    "### The Pull Request Workflow\n",
    "The pull request workflow is often preferred because it allows better control over \n",
    "which changes flow back into a repository.\n",
    "\n",
    "Example with GitHub:\n",
    "1. user A creates a repository on GitHub.\n",
    "2. user B forks this repository to GitHub. A fork is a kind of clone (read:Copy) that semantically corresponds to a project fork. Thus user B becomes owner of the forked project in their space on GitHub.\n",
    "3. User B now clones their fork from GitHub onto her local computer and programs e.g. a bugfix or an extension.\n",
    "4. When she is done, she pushes the change back to her fork on the GitHub server.\n",
    "5. after that, they can make a pull request in the GitHub web interface. User A is notified of this and can review proposed changes and either  add them to his repository or reject them. In both cases User B will be notified, and if they rejects the changes, they can fix them and submit another pull request.\n"
   ]
  },
  {
   "cell_type": "markdown",
   "id": "939c821c",
   "metadata": {},
   "source": [
    "## Github"
   ]
  },
  {
   "cell_type": "markdown",
   "id": "16818566",
   "metadata": {},
   "source": [
    "In practice collaboration often requires a central repository on an always available server, which is accessible from everywhere, and where one can e.g. can also set up user management and automatic backups.\n",
    "\n",
    "Since individuals usually neither have their own server, nor do they have to\n",
    "with the administration of such a server, there are providers that offer such\n",
    "services (and additional features like bugtracker).\n",
    "\n",
    "In a basic versionthe repositories are free of charge, but there are also paid versions. The best known\n",
    "Git services are:\n",
    "- GitHub (https://github.com/)\n",
    "- Bitbucket (https://bitbucket.org/)\n",
    "- GitLab (https://gitlab.com/)"
   ]
  },
  {
   "cell_type": "markdown",
   "id": "40a1f6db",
   "metadata": {},
   "source": [
    "* <b>GitHub</b> is a web-based hosting service for Git repositories. It offers collaboration and management features for projects hosted on its platform.\n",
    "* Together, Git and GitHub are powerful tools for managing code and collaborating with others.\n",
    "* GitHub and Git are not the same - GitHub basically makes tools that use Git\n",
    "* it is a host of source code (actually the largest in the world) and is owned by Microsoft"
   ]
  },
  {
   "cell_type": "markdown",
   "id": "863cece1",
   "metadata": {},
   "source": [
    "You're already familiar with GitHub since all of our materials are hosted there. Considering that you all also have a GitHub account (or should have it, like we spoke about last time), you'll now be making your own new repository."
   ]
  },
  {
   "cell_type": "code",
   "execution_count": 22,
   "id": "0fea6d44",
   "metadata": {},
   "outputs": [
    {
     "data": {
      "text/html": [
       "<img src=\"img/git21.png\"/>"
      ],
      "text/plain": [
       "<IPython.core.display.Image object>"
      ]
     },
     "execution_count": 22,
     "metadata": {},
     "output_type": "execute_result"
    }
   ],
   "source": [
    "Image(url= \"img/git21.png\")"
   ]
  },
  {
   "cell_type": "code",
   "execution_count": 23,
   "id": "ae81892a",
   "metadata": {},
   "outputs": [
    {
     "data": {
      "text/html": [
       "<img src=\"img/git22.png\"/>"
      ],
      "text/plain": [
       "<IPython.core.display.Image object>"
      ]
     },
     "execution_count": 23,
     "metadata": {},
     "output_type": "execute_result"
    }
   ],
   "source": [
    "Image(url= \"img/git22.png\")"
   ]
  },
  {
   "cell_type": "code",
   "execution_count": 24,
   "id": "48172223",
   "metadata": {},
   "outputs": [
    {
     "data": {
      "text/html": [
       "<img src=\"img/git23.png\"/>"
      ],
      "text/plain": [
       "<IPython.core.display.Image object>"
      ]
     },
     "execution_count": 24,
     "metadata": {},
     "output_type": "execute_result"
    }
   ],
   "source": [
    "Image(url= \"img/git23.png\")"
   ]
  },
  {
   "cell_type": "markdown",
   "id": "8a2e6834",
   "metadata": {},
   "source": [
    "Here you can name you repo, set it to public so that people can see it or private. You can add a readme file with a short description of the repository and a .gitignore file. This file is basically a textual file in which you can add  parts of your project that ypou don't want to share with others (e.g. log files, personal files, hidden files, etc.). Editing and commiting is also possible in GitHub:"
   ]
  },
  {
   "cell_type": "code",
   "execution_count": 25,
   "id": "076a0ea3",
   "metadata": {},
   "outputs": [
    {
     "data": {
      "text/html": [
       "<img src=\"img/git24.png\"/>"
      ],
      "text/plain": [
       "<IPython.core.display.Image object>"
      ]
     },
     "execution_count": 25,
     "metadata": {},
     "output_type": "execute_result"
    }
   ],
   "source": [
    "Image(url= \"img/git24.png\")"
   ]
  },
  {
   "cell_type": "markdown",
   "id": "22e3fa62",
   "metadata": {},
   "source": [
    "Since we have already set up a toy local Git repo, let's push that to GitHub. "
   ]
  },
  {
   "cell_type": "code",
   "execution_count": 26,
   "id": "fdf554d8",
   "metadata": {},
   "outputs": [
    {
     "data": {
      "text/html": [
       "<img src=\"img/git25.png\"/>"
      ],
      "text/plain": [
       "<IPython.core.display.Image object>"
      ]
     },
     "execution_count": 26,
     "metadata": {},
     "output_type": "execute_result"
    }
   ],
   "source": [
    "Image(url= \"img/git25.png\")"
   ]
  },
  {
   "cell_type": "markdown",
   "id": "fd64f4dd",
   "metadata": {},
   "source": [
    "Copy the URL, or click the clipboard marked in the image above. \n",
    "\n",
    "Now paste it the following command:\n",
    "    \n",
    "```\n",
    " $ git remote add origin https://github.com/<username>/test.git\n",
    " ```\n",
    " \n",
    " Now we are going to push our master branch to the origin url, and set it as the default remote branch:\n",
    " \n",
    " ```\n",
    " $git push --set-upstream origin main\n",
    "\n",
    " \n",
    " ```\n",
    " \n",
    " Now, go back into GitHub and see that the repository has been updated:\n",
    "\n"
   ]
  },
  {
   "cell_type": "code",
   "execution_count": 27,
   "id": "47710aca",
   "metadata": {},
   "outputs": [
    {
     "data": {
      "text/html": [
       "<img src=\"img/git26.png\"/>"
      ],
      "text/plain": [
       "<IPython.core.display.Image object>"
      ]
     },
     "execution_count": 27,
     "metadata": {},
     "output_type": "execute_result"
    }
   ],
   "source": [
    "Image(url= \"img/git26.png\")"
   ]
  },
  {
   "cell_type": "markdown",
   "id": "64c210be",
   "metadata": {},
   "source": [
    "## Collaborating with Github"
   ]
  },
  {
   "cell_type": "markdown",
   "id": "f475d715",
   "metadata": {},
   "source": [
    "* Forking: Creating a copy of a repository on your GitHub account.\n",
    "* Cloning: Downloading a copy of a repository to your local machine.\n",
    "* Pull Requests: Proposing changes to a repository by submitting a pull request on GitHub.\n",
    "* Issues: Creating and tracking issues or bugs in a repository on GitHub.\n"
   ]
  },
  {
   "cell_type": "markdown",
   "id": "8220e434",
   "metadata": {},
   "source": [
    "## Best Practices"
   ]
  },
  {
   "cell_type": "markdown",
   "id": "dc423318",
   "metadata": {},
   "source": [
    "* Commit regularly and write clear commit messages.\n",
    "* Use branches to work on new features or bug fixes.\n",
    "* Pull changes from the remote repository frequently to avoid conflicts.\n",
    "* Keep your repository organized and maintain a clear directory structure.\n",
    "* Use pull requests and code reviews to ensure high-quality code."
   ]
  },
  {
   "cell_type": "markdown",
   "id": "53fdb78c-a76c-472e-a2b7-a5d874eb18b2",
   "metadata": {},
   "source": [
    "# A more comprehensive guide\n",
    "\n",
    "If you have any questions in the future about Git and Github or run into issues, please first consult these more extensive guides:\n",
    "* https://github.com/lucijakrusic/programming2SS23/blob/main/intro_selected_topics/Git%20%26%20GitHub.ipynb\n",
    "* https://www.w3schools.com/git/git_intro.asp?remote=github"
   ]
  },
  {
   "cell_type": "code",
   "execution_count": null,
   "id": "45d317bd-8b5f-4a0c-bc6c-9f0203ad09d6",
   "metadata": {},
   "outputs": [],
   "source": []
  }
 ],
 "metadata": {
  "kernelspec": {
   "display_name": "Python 3 (ipykernel)",
   "language": "python",
   "name": "python3"
  },
  "language_info": {
   "codemirror_mode": {
    "name": "ipython",
    "version": 3
   },
   "file_extension": ".py",
   "mimetype": "text/x-python",
   "name": "python",
   "nbconvert_exporter": "python",
   "pygments_lexer": "ipython3",
   "version": "3.9.13"
  }
 },
 "nbformat": 4,
 "nbformat_minor": 5
}
