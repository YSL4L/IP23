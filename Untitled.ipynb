{
 "cells": [
  {
   "cell_type": "code",
   "execution_count": 1,
   "id": "155e0f7c",
   "metadata": {},
   "outputs": [
    {
     "name": "stdout",
     "output_type": "stream",
     "text": [
      "25\n"
     ]
    }
   ],
   "source": [
    "def square(x):\n",
    "    return x * x\n",
    "\n",
    "def add(a, b):\n",
    "    return a + b\n",
    "\n",
    "result = square(add(2, 3))\n",
    "print(result)"
   ]
  },
  {
   "cell_type": "code",
   "execution_count": 2,
   "id": "9617d582",
   "metadata": {},
   "outputs": [
    {
     "name": "stdout",
     "output_type": "stream",
     "text": [
      "Result: 5.0\n",
      "Cannot divide by zero\n",
      "Invalid types for division\n"
     ]
    }
   ],
   "source": [
    "def divide(x, y):\n",
    "    try:\n",
    "        result = x / y\n",
    "    except ZeroDivisionError:\n",
    "        return \"Cannot divide by zero\"\n",
    "    except TypeError:\n",
    "        return \"Invalid types for division\"\n",
    "    else:\n",
    "        return f\"Result: {result}\"\n",
    "\n",
    "print(divide(10, 2))\n",
    "print(divide(10, 0))\n",
    "print(divide(10, 'a'))"
   ]
  },
  {
   "cell_type": "code",
   "execution_count": 3,
   "id": "97b4f434",
   "metadata": {},
   "outputs": [
    {
     "name": "stdout",
     "output_type": "stream",
     "text": [
      "Key not found\n"
     ]
    }
   ],
   "source": [
    "data = {'a': 1, 'b': 2}\n",
    "try:\n",
    "    print(data['c'])\n",
    "except KeyError:\n",
    "    print(\"Key not found\")"
   ]
  },
  {
   "cell_type": "code",
   "execution_count": 2,
   "id": "988b4e72",
   "metadata": {},
   "outputs": [],
   "source": [
    "colors = {\n",
    "    'red': {\n",
    "        'de': 'rot',\n",
    "        'fr': 'rouge',\n",
    "        'it': 'rosso'\n",
    "    },\n",
    "    'blue': {\n",
    "        'de': 'blau',\n",
    "        'fr': 'bleu',\n",
    "        'it': 'blu'\n",
    "    },\n",
    "    'yellow': {\n",
    "        'de': 'gelb',\n",
    "        'fr': 'jaune',\n",
    "        'it': 'giallo'\n",
    "    }\n",
    "}\n"
   ]
  },
  {
   "cell_type": "code",
   "execution_count": 6,
   "id": "bf604d8e",
   "metadata": {},
   "outputs": [
    {
     "name": "stdout",
     "output_type": "stream",
     "text": [
      "bleu\n"
     ]
    }
   ],
   "source": [
    "print(colors['blue']['fr'])"
   ]
  },
  {
   "cell_type": "code",
   "execution_count": 7,
   "id": "a8b3f33e",
   "metadata": {},
   "outputs": [],
   "source": [
    "scores = {\"Alice\": 88, \"Bob\": 95, \"Cathy\": 70}\n"
   ]
  },
  {
   "cell_type": "code",
   "execution_count": null,
   "id": "3c37f718",
   "metadata": {},
   "outputs": [],
   "source": []
  }
 ],
 "metadata": {
  "kernelspec": {
   "display_name": "Python 3 (ipykernel)",
   "language": "python",
   "name": "python3"
  },
  "language_info": {
   "codemirror_mode": {
    "name": "ipython",
    "version": 3
   },
   "file_extension": ".py",
   "mimetype": "text/x-python",
   "name": "python",
   "nbconvert_exporter": "python",
   "pygments_lexer": "ipython3",
   "version": "3.9.13"
  }
 },
 "nbformat": 4,
 "nbformat_minor": 5
}
