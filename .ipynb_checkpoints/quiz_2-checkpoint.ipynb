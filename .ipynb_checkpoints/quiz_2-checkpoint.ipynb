{
 "cells": [
  {
   "cell_type": "markdown",
   "id": "b46da478",
   "metadata": {},
   "source": [
    "## Quiz 2"
   ]
  },
  {
   "cell_type": "markdown",
   "id": "9cd8b5d8",
   "metadata": {},
   "source": [
    "### Question 1 - What is the output os this code?\n",
    "\n",
    "- of course, places.values() only outputs the values and not the keys of the dictionary. sorted() then sorts it alphabetically, since there is no parameter suggesting otherwise"
   ]
  },
  {
   "cell_type": "code",
   "execution_count": null,
   "id": "7f75b261",
   "metadata": {},
   "outputs": [],
   "source": [
    "places = {\n",
    "    'Anabelle' :'Wien',\n",
    "    'Bertrand' : 'Paris',\n",
    "    'Dietmar': 'Berlin',\n",
    "    'Andrea':'Peruglia',\n",
    "    'Kostas':'Athen',\n",
    "    'Olaf':'Oslo'\n",
    "    \n",
    "}\n",
    "\n",
    "print(sorted(places.values()))"
   ]
  },
  {
   "cell_type": "markdown",
   "id": "144a8617",
   "metadata": {},
   "source": [
    "### Question 2 - Write one line of code to access Anna's phone number\n",
    "\n",
    "\n",
    "\n",
    "- first we access the dictionary variable, then the 'friends' key, then the item with index 1 of the list amd then the key called 'phone"
   ]
  },
  {
   "cell_type": "code",
   "execution_count": null,
   "id": "e266037e",
   "metadata": {},
   "outputs": [],
   "source": [
    "data = {\n",
    "    \"name\" : \"Hans\",\n",
    "    \"friends\": [\n",
    "        {\"name\" : \"Otto\",\n",
    "        \"phone\" : \"09991234\"\n",
    "        },\n",
    "        {\n",
    "            \"name\": \"Anna\",\n",
    "            \"phone\":\"0986\"\n",
    "        }\n",
    "        \n",
    "    ]\n",
    "}"
   ]
  },
  {
   "cell_type": "code",
   "execution_count": null,
   "id": "8e09b95a",
   "metadata": {},
   "outputs": [],
   "source": [
    "data['friends'][1]['phone']"
   ]
  },
  {
   "cell_type": "markdown",
   "id": "4768ff4f",
   "metadata": {},
   "source": [
    "### Question 3 - What is the output of the following code?"
   ]
  },
  {
   "cell_type": "code",
   "execution_count": null,
   "id": "45fa7acf",
   "metadata": {},
   "outputs": [],
   "source": [
    "def get_area(length, height):\n",
    "    area = length * height\n",
    "    \n",
    "print(get_area(2,5))"
   ]
  },
  {
   "cell_type": "markdown",
   "id": "3fb570c0",
   "metadata": {},
   "source": [
    "### Question 4 - Write a small function that as arguments(parameters) takes a persons first name, last name and age.\n",
    "\n",
    "Last name is not obligatory.\n",
    "\n",
    "The function should return first name, last name and age, in form of \"I am (first_name) (last_name) and I'm (age) years old.\" . \n",
    "\n",
    "Use any type of string formatting you want.\n",
    "\n",
    "Include a function call!\n",
    "\n",
    " "
   ]
  },
  {
   "cell_type": "code",
   "execution_count": null,
   "id": "d90a52ce",
   "metadata": {},
   "outputs": [],
   "source": [
    "def self_introduction(age, first_name, last_name = None):\n",
    "    return f\"I am {first_name} {last_name} and I\\'m {age} years old.\"\n",
    "\n",
    "self_introduction(21, 'Koji', 'Okumura')"
   ]
  },
  {
   "cell_type": "markdown",
   "id": "42ba483b",
   "metadata": {},
   "source": [
    "### Question 5. What does this program ouput?"
   ]
  },
  {
   "cell_type": "code",
   "execution_count": null,
   "id": "0726d614",
   "metadata": {},
   "outputs": [],
   "source": [
    "def my_function(a, b=None, c=None):\n",
    "    if b is not None and c is not None:\n",
    "        rv = (a + b) * c\n",
    "    elif b is not None:\n",
    "        rv = a + b\n",
    "    elif c is not None:\n",
    "        rv = a * c\n",
    "    else:\n",
    "        rv = a\n",
    "    return rv\n",
    "\n",
    "print(my_function(5, c=2))"
   ]
  },
  {
   "cell_type": "markdown",
   "id": "96f467b4",
   "metadata": {},
   "source": [
    "### Question 6. Write a one liner to create an object which is an instance of the class Pet.\n",
    "\n"
   ]
  },
  {
   "cell_type": "code",
   "execution_count": null,
   "id": "99f6d151",
   "metadata": {},
   "outputs": [],
   "source": [
    "class Pet:\n",
    "    def __init__(self, animal_type, name, age):\n",
    "        self.animal = animal_type\n",
    "        self.name = name\n",
    "        self.age = age"
   ]
  },
  {
   "cell_type": "code",
   "execution_count": null,
   "id": "6c4245d3",
   "metadata": {},
   "outputs": [],
   "source": [
    "tom = Pet(\"cat\", \"Tom\", 100)"
   ]
  },
  {
   "cell_type": "markdown",
   "id": "fca41337",
   "metadata": {},
   "source": [
    "### Question 7. What is the output of the following code:"
   ]
  },
  {
   "cell_type": "code",
   "execution_count": null,
   "id": "032d09c4",
   "metadata": {},
   "outputs": [],
   "source": [
    "class Animal:\n",
    "    def __init__(self, name):\n",
    "        self.name = name\n",
    "\n",
    "    def speak(self):\n",
    "        return \"I am an animal.\"\n",
    "\n",
    "class Dog(Animal):\n",
    "    def speak(self):\n",
    "        return \"Woof!\"\n",
    "\n",
    "class Cat(Animal):\n",
    "    def speak(self):\n",
    "        return \"Meow!\"\n",
    "\n",
    "hamster = Animal(\"Crumble\")\n",
    "dog = Dog(\"John\")\n",
    "cat = Cat(\"Eleonore\")\n",
    "\n",
    "print(f'\"{dog.speak()}\", {hamster.name} says, \"{hamster.speak()}\"')\n"
   ]
  },
  {
   "cell_type": "markdown",
   "id": "b05c3107",
   "metadata": {},
   "source": [
    "### Question 8. What is the output of the following code:"
   ]
  },
  {
   "cell_type": "code",
   "execution_count": null,
   "id": "e658de84",
   "metadata": {},
   "outputs": [],
   "source": [
    "try:\n",
    "    x = 5 / 0\n",
    "except ZeroDivisionError:\n",
    "    print(\"Cannot divide by zero\")\n",
    "except:\n",
    "    print(\"An error occurred\")\n",
    "else:\n",
    "    print(\"No error occurred\")\n",
    "finally:\n",
    "    print(\"Execution completed\")"
   ]
  },
  {
   "cell_type": "markdown",
   "id": "c3066d03",
   "metadata": {},
   "source": [
    "### Question 9. What is the output of the following code:"
   ]
  },
  {
   "cell_type": "code",
   "execution_count": null,
   "id": "7d515d3b",
   "metadata": {},
   "outputs": [],
   "source": [
    "try:\n",
    "    value = int(input(\"Enter a number: \"))\n",
    "    result = 10 / value\n",
    "except ValueError:\n",
    "    print(\"Invalid input. Please enter a valid number.\")\n",
    "except ArithmeticError:\n",
    "    print(\"Arithmetic error occurred.\")"
   ]
  },
  {
   "cell_type": "code",
   "execution_count": null,
   "id": "d1112317",
   "metadata": {},
   "outputs": [],
   "source": []
  }
 ],
 "metadata": {
  "kernelspec": {
   "display_name": "Python 3 (ipykernel)",
   "language": "python",
   "name": "python3"
  },
  "language_info": {
   "codemirror_mode": {
    "name": "ipython",
    "version": 3
   },
   "file_extension": ".py",
   "mimetype": "text/x-python",
   "name": "python",
   "nbconvert_exporter": "python",
   "pygments_lexer": "ipython3",
   "version": "3.9.13"
  }
 },
 "nbformat": 4,
 "nbformat_minor": 5
}
