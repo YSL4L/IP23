{
 "cells": [
  {
   "cell_type": "markdown",
   "id": "8268987c",
   "metadata": {},
   "source": [
    "### 1. Write a one-liner with which you would add a decimal place to this integer.\n",
    "\n",
    "  <i> 156 <i>"
   ]
  },
  {
   "cell_type": "code",
   "execution_count": 2,
   "id": "b406d307",
   "metadata": {},
   "outputs": [
    {
     "data": {
      "text/plain": [
       "156.0"
      ]
     },
     "execution_count": 2,
     "metadata": {},
     "output_type": "execute_result"
    }
   ],
   "source": [
    "float(156)"
   ]
  },
  {
   "cell_type": "markdown",
   "id": "32577d9c",
   "metadata": {},
   "source": [
    "### 1. Which datatype does the following value have? Write a one-liner with which you would check the datatype?\n",
    "\n",
    "  '153.12'"
   ]
  },
  {
   "cell_type": "code",
   "execution_count": 3,
   "id": "b3fb7217",
   "metadata": {},
   "outputs": [
    {
     "data": {
      "text/plain": [
       "str"
      ]
     },
     "execution_count": 3,
     "metadata": {},
     "output_type": "execute_result"
    }
   ],
   "source": [
    "type('153.12')"
   ]
  },
  {
   "cell_type": "markdown",
   "id": "591530fe",
   "metadata": {},
   "source": [
    "### 3. Write two lines of code to solve this problem:\n",
    "\n",
    "Replace the word 'potatoes' with 'pizza' in the following string:\n",
    "\n",
    "string = 'I like to eat potatoes.'\n",
    "\n"
   ]
  },
  {
   "cell_type": "code",
   "execution_count": 5,
   "id": "23771ad2",
   "metadata": {},
   "outputs": [
    {
     "data": {
      "text/plain": [
       "'I like to eat pizza.'"
      ]
     },
     "execution_count": 5,
     "metadata": {},
     "output_type": "execute_result"
    }
   ],
   "source": [
    "string = 'I like to eat potatoes.'\n",
    "string.replace('potatoes', 'pizza')"
   ]
  },
  {
   "cell_type": "markdown",
   "id": "119902dc",
   "metadata": {},
   "source": [
    "### 4. What is the output of this loop?"
   ]
  },
  {
   "cell_type": "code",
   "execution_count": 20,
   "id": "eb94a292",
   "metadata": {},
   "outputs": [
    {
     "name": "stdout",
     "output_type": "stream",
     "text": [
      "6\n"
     ]
    }
   ],
   "source": [
    "x = 1\n",
    "for i in range (1,4):\n",
    "    x *= i\n",
    "print(x)"
   ]
  },
  {
   "cell_type": "markdown",
   "id": "d5547187",
   "metadata": {},
   "source": [
    "### 5. What is the output of this code?"
   ]
  },
  {
   "cell_type": "code",
   "execution_count": 21,
   "id": "a5874a5b",
   "metadata": {},
   "outputs": [
    {
     "name": "stdout",
     "output_type": "stream",
     "text": [
      "Thi"
     ]
    }
   ],
   "source": [
    "text = 'This quiz is easy peasy lemon squeezy.'\n",
    "i = 0\n",
    "while text[i] != 's':\n",
    "    print(text[i], end='')\n",
    "    i += 1"
   ]
  },
  {
   "cell_type": "markdown",
   "id": "f7284610",
   "metadata": {},
   "source": [
    "### 6. What is the output of this code?\n",
    "\n"
   ]
  },
  {
   "cell_type": "code",
   "execution_count": 28,
   "id": "009bff19",
   "metadata": {},
   "outputs": [
    {
     "name": "stdout",
     "output_type": "stream",
     "text": [
      "4\n"
     ]
    },
    {
     "data": {
      "text/plain": [
       "[0, 1, 2, 3, 4]"
      ]
     },
     "execution_count": 28,
     "metadata": {},
     "output_type": "execute_result"
    }
   ],
   "source": [
    "nums = list(range(5))\n",
    "print(nums[-1])\n",
    "nums"
   ]
  },
  {
   "cell_type": "markdown",
   "id": "7d4a1fcd",
   "metadata": {},
   "source": [
    "### 7. What is the output of this loop?\n"
   ]
  },
  {
   "cell_type": "markdown",
   "id": "2d087ff1",
   "metadata": {},
   "source": [
    "### 8. In the following list of lists, replace the (one!) value 'shashuka' with 'broccoli'! (Assuming that you know at which position 'pizza' is -- so you don't need to determine the position first!)\n",
    "\n"
   ]
  },
  {
   "cell_type": "code",
   "execution_count": 26,
   "id": "b7466407",
   "metadata": {},
   "outputs": [],
   "source": [
    "foods = [\n",
    "\n",
    "    ['beans', 'eggs', 'toast'],\n",
    "\n",
    "    ['pasta', 'cous cous', 'schnitzel'],\n",
    "\n",
    "    ['salad', 'shashuka', 'lasagna']\n",
    "\n",
    "]"
   ]
  },
  {
   "cell_type": "code",
   "execution_count": 24,
   "id": "4e8dab4d",
   "metadata": {},
   "outputs": [
    {
     "data": {
      "text/plain": [
       "[['beans', 'eggs', 'toast'],\n",
       " ['pasta', 'cous cous', 'schnitzel'],\n",
       " ['salad', 'broccoli', 'lasagna']]"
      ]
     },
     "execution_count": 24,
     "metadata": {},
     "output_type": "execute_result"
    }
   ],
   "source": [
    "foods[2][1] = 'broccoli'\n",
    "foods"
   ]
  },
  {
   "cell_type": "markdown",
   "id": "fcf43ac1",
   "metadata": {},
   "source": [
    "### 9. Write a few lines of code that: Opens the imaginary file \"text_file.txt\" and adds the string \"Santa Claus\" to the end of it.\n",
    "\n"
   ]
  },
  {
   "cell_type": "code",
   "execution_count": 13,
   "id": "737b03bc",
   "metadata": {},
   "outputs": [],
   "source": [
    "with open ('test_file.txt', 'w', encoding ='utf8') as fh:\n",
    "    fh.write('Programming')"
   ]
  },
  {
   "cell_type": "markdown",
   "id": "988e9033",
   "metadata": {},
   "source": [
    "###  10. Write a few lines of code that:\n",
    "\n",
    "* creates variables 'a' and 'b' and assignes numerical values to them\n",
    "* checks if b is bigger than a and if so prints 'b is greater than a'\n",
    "* checks if a is equal to b , and if so prints 'a and b are equal'\n",
    "* otherwise prints 'a is greater than b'\n",
    "\n"
   ]
  },
  {
   "cell_type": "code",
   "execution_count": 14,
   "id": "a937e480",
   "metadata": {},
   "outputs": [
    {
     "name": "stdout",
     "output_type": "stream",
     "text": [
      "b is greater than a\n"
     ]
    }
   ],
   "source": [
    "a = 5\n",
    "b = 10\n",
    "\n",
    "if b > a:\n",
    "    print ('b is greater than a')\n",
    "elif b == a:\n",
    "    print ('a and b are equal')\n",
    "else:\n",
    "    print ('a is greater than b')"
   ]
  },
  {
   "cell_type": "code",
   "execution_count": null,
   "id": "a88ca819",
   "metadata": {},
   "outputs": [],
   "source": [
    "sentence = \"The quick brown fox jumps over the lazy dog\"\n",
    "words = sentence.split()\n"
   ]
  }
 ],
 "metadata": {
  "kernelspec": {
   "display_name": "Python 3 (ipykernel)",
   "language": "python",
   "name": "python3"
  },
  "language_info": {
   "codemirror_mode": {
    "name": "ipython",
    "version": 3
   },
   "file_extension": ".py",
   "mimetype": "text/x-python",
   "name": "python",
   "nbconvert_exporter": "python",
   "pygments_lexer": "ipython3",
   "version": "3.9.13"
  }
 },
 "nbformat": 4,
 "nbformat_minor": 5
}
